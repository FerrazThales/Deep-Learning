{
  "nbformat": 4,
  "nbformat_minor": 0,
  "metadata": {
    "colab": {
      "name": "Cat and NonCat with Logistics Regression.ipynb",
      "provenance": [],
      "authorship_tag": "ABX9TyOWzUJwgQV+t9KWN9rInP5H",
      "include_colab_link": true
    },
    "kernelspec": {
      "name": "python3",
      "display_name": "Python 3"
    },
    "language_info": {
      "name": "python"
    }
  },
  "cells": [
    {
      "cell_type": "markdown",
      "metadata": {
        "id": "view-in-github",
        "colab_type": "text"
      },
      "source": [
        "<a href=\"https://colab.research.google.com/github/FerrazThales/Deep-Learning/blob/main/Cat_and_NonCat_with_Logistics_Regression.ipynb\" target=\"_parent\"><img src=\"https://colab.research.google.com/assets/colab-badge.svg\" alt=\"Open In Colab\"/></a>"
      ]
    },
    {
      "cell_type": "markdown",
      "source": [
        "<h1 align=\"center\"><b>Encontre eu e meus projetos nas redes sociais!</b></h1>\n",
        "<table>\n",
        "  <tr>\n",
        "  <td><a href=\"https://thalesferraz.medium.com/\">\n",
        "  <img src=\"https://github.com/FerrazThales/FerrazThales/blob/main/logo_gif.gif?raw=true\" width=\"800\" title=\"Olá, Meu nome é Thales e sou cientista de Dados!\"/>\n",
        "  </a>\n",
        "  </td>\n",
        "  <td><a href=\"https://github.com/FerrazThales\">\n",
        "  <img hspace=30 vspace=110 src=\"https://image.flaticon.com/icons/png/512/1051/1051326.png\" width=\"60%\" title=\"Entre em meu Github e veja mais projetos!\" /> \n",
        "  </a>\n",
        "  </td>\n",
        "  <td>\n",
        "  <a href=\"\">\n",
        "  <img vspace=110 src=\"https://download.logo.wine/logo/Medium_(website)/Medium_(website)-Logo.wine.png\" width=\"800\" title=\"Veja este meu projeto no Medium!\"/>\n",
        "  </a>\n",
        "  </td>\n",
        "  <td><a href=\"https://www.linkedin.com/in/thalesdefreitasferraz/\"><img vspace=150 src=\"https://image.flaticon.com/icons/png/512/889/889122.png\" width=\"40%\" title=\"Vamos trocar uma idéia sobre Data Science no LinkedIn?\" />\n",
        "  </a>\n",
        "  </td>\n",
        "  </tr>\n",
        "</table>\n"
      ],
      "metadata": {
        "id": "A7k-YvrQl6Fu"
      }
    },
    {
      "cell_type": "markdown",
      "source": [
        "# O que você vai aprender neste projeto:\n",
        "\n",
        "* O que é uma Rede Neural e como construir uma simples.\n",
        "* Como dados de imagens podem ser utilizados.\n",
        "* x\n"
      ],
      "metadata": {
        "id": "rB_doX0vl60E"
      }
    },
    {
      "cell_type": "markdown",
      "source": [
        "# Introdução a Redes Neurais\n",
        "AI is the new eletricity. a little explanation about features and a draw of a neural network.\n",
        "\n",
        "supervised learning , structured data and unstructured data\n",
        "\n",
        "scales deep learning progress"
      ],
      "metadata": {
        "id": "Di3qDdauVFog"
      }
    },
    {
      "cell_type": "code",
      "execution_count": 1,
      "metadata": {
        "id": "8owiXSCbU9y-"
      },
      "outputs": [],
      "source": [
        "#ignorar os warnings\n",
        "import warnings\n",
        "warnings.filterwarnings('ignore')\n",
        "\n",
        "#importando as bibliotecas que serão utilizadas\n",
        "import numpy as np\n",
        "import h5py\n",
        "import matplotlib.pyplot as plt\n",
        "%matplotlib inline"
      ]
    },
    {
      "cell_type": "markdown",
      "source": [
        "#Obtenção dos dados\n",
        "\n",
        "[link do kaggle](https://www.kaggle.com/muhammeddalkran/catvnoncat)\n",
        "\n",
        "dados de treino e teste\n",
        "\n"
      ],
      "metadata": {
        "id": "D0rHcQfzdw__"
      }
    },
    {
      "cell_type": "code",
      "source": [
        "#guardando os endereços dos dados de treino e teste\n",
        "train_data_path = \"/content/train_catvnoncat.h5\"\n",
        "test_data_path = \"/content/test_catvnoncat.h5\"\n",
        "\n",
        "#importando os dados de treino e teste\n",
        "train_data = h5py.File(train_data_path,'r')\n",
        "test_data = h5py.File(test_data_path,'r')\n",
        "\n",
        "#armazenando as variáveis do treino\n",
        "x_train = train_data['train_set_x']\n",
        "y_train = train_data['train_set_y']\n",
        "\n",
        "#armazenando as variáveis de teste\n",
        "x_test = test_data['test_set_x']\n",
        "y_test = test_data['test_set_y']"
      ],
      "metadata": {
        "id": "wyvxOp6xdyX7"
      },
      "execution_count": 2,
      "outputs": []
    },
    {
      "cell_type": "markdown",
      "source": [
        "#Análise Exploratória dos Dados\n",
        "\n",
        "texto texto texto\n",
        "\n",
        "comentar do array (50,)"
      ],
      "metadata": {
        "id": "dv-m1iPfh0f7"
      }
    },
    {
      "cell_type": "code",
      "source": [
        "#visualizando o tipo de dado\n",
        "type(x_train)"
      ],
      "metadata": {
        "colab": {
          "base_uri": "https://localhost:8080/"
        },
        "id": "VTPJyiFTpEPj",
        "outputId": "31a81bde-94c3-4733-a08d-d22349074c47"
      },
      "execution_count": 3,
      "outputs": [
        {
          "output_type": "execute_result",
          "data": {
            "text/plain": [
              "h5py._hl.dataset.Dataset"
            ]
          },
          "metadata": {},
          "execution_count": 3
        }
      ]
    },
    {
      "cell_type": "code",
      "source": [
        "#avaliando a quantidade de valores para treino\n",
        "print('Variavéis independentes de treino:', x_train.shape)\n",
        "print('Variavéis dependentes de treino:', y_train.shape)"
      ],
      "metadata": {
        "colab": {
          "base_uri": "https://localhost:8080/"
        },
        "id": "l7_ysn38eFNQ",
        "outputId": "37168063-af76-438f-acdc-2e92af133b67"
      },
      "execution_count": 4,
      "outputs": [
        {
          "output_type": "stream",
          "name": "stdout",
          "text": [
            "Variavéis independentes de treino: (209, 64, 64, 3)\n",
            "Variavéis dependentes de treino: (209,)\n"
          ]
        }
      ]
    },
    {
      "cell_type": "code",
      "source": [
        "#avaliando a quantidade de valores para teste\n",
        "print('Variavéis independentes de teste:', x_test.shape)\n",
        "print('Variavéis dependentes de teste:', y_test.shape)"
      ],
      "metadata": {
        "colab": {
          "base_uri": "https://localhost:8080/"
        },
        "id": "qLVVVoVseFPe",
        "outputId": "a17bb041-7c8d-4be7-a423-e67a7a6e133f"
      },
      "execution_count": 5,
      "outputs": [
        {
          "output_type": "stream",
          "name": "stdout",
          "text": [
            "Variavéis independentes de teste: (50, 64, 64, 3)\n",
            "Variavéis dependentes de teste: (50,)\n"
          ]
        }
      ]
    },
    {
      "cell_type": "markdown",
      "source": [
        "falar deste 50,\n",
        "\n",
        "explicar o 64 x 64 e 3 , ver o type"
      ],
      "metadata": {
        "id": "ccda4_e-jtN0"
      }
    },
    {
      "cell_type": "code",
      "source": [
        "#observando os parâmetros da primeira imagem\n",
        "x_train[0].shape"
      ],
      "metadata": {
        "colab": {
          "base_uri": "https://localhost:8080/"
        },
        "id": "twqVmddqjCjr",
        "outputId": "56d8b9ad-ea70-4604-9941-5d42f0bcd01a"
      },
      "execution_count": 6,
      "outputs": [
        {
          "output_type": "execute_result",
          "data": {
            "text/plain": [
              "(64, 64, 3)"
            ]
          },
          "metadata": {},
          "execution_count": 6
        }
      ]
    },
    {
      "cell_type": "code",
      "source": [
        "#analisando o primeiro registro\n",
        "x_train[0]"
      ],
      "metadata": {
        "colab": {
          "base_uri": "https://localhost:8080/"
        },
        "id": "NW_-q4utkveY",
        "outputId": "5ce4f5fa-7dbd-4b4a-d3b6-af40d8c7e8e1"
      },
      "execution_count": 7,
      "outputs": [
        {
          "output_type": "execute_result",
          "data": {
            "text/plain": [
              "array([[[17, 31, 56],\n",
              "        [22, 33, 59],\n",
              "        [25, 35, 62],\n",
              "        ...,\n",
              "        [ 1, 28, 57],\n",
              "        [ 1, 26, 56],\n",
              "        [ 1, 22, 51]],\n",
              "\n",
              "       [[25, 36, 62],\n",
              "        [28, 38, 64],\n",
              "        [30, 40, 67],\n",
              "        ...,\n",
              "        [ 1, 27, 56],\n",
              "        [ 1, 25, 55],\n",
              "        [ 2, 21, 51]],\n",
              "\n",
              "       [[32, 40, 67],\n",
              "        [34, 42, 69],\n",
              "        [35, 42, 70],\n",
              "        ...,\n",
              "        [ 1, 25, 55],\n",
              "        [ 0, 24, 54],\n",
              "        [ 1, 21, 51]],\n",
              "\n",
              "       ...,\n",
              "\n",
              "       [[ 0,  0,  0],\n",
              "        [ 0,  0,  0],\n",
              "        [ 0,  0,  0],\n",
              "        ...,\n",
              "        [ 0,  0,  0],\n",
              "        [ 0,  0,  0],\n",
              "        [ 0,  0,  0]],\n",
              "\n",
              "       [[ 0,  0,  0],\n",
              "        [ 0,  0,  0],\n",
              "        [ 0,  0,  0],\n",
              "        ...,\n",
              "        [ 0,  0,  0],\n",
              "        [ 0,  0,  0],\n",
              "        [ 0,  0,  0]],\n",
              "\n",
              "       [[ 0,  0,  0],\n",
              "        [ 0,  0,  0],\n",
              "        [ 0,  0,  0],\n",
              "        ...,\n",
              "        [ 0,  0,  0],\n",
              "        [ 0,  0,  0],\n",
              "        [ 0,  0,  0]]], dtype=uint8)"
            ]
          },
          "metadata": {},
          "execution_count": 7
        }
      ]
    },
    {
      "cell_type": "code",
      "source": [
        "#visualizando a primeira imagem\n",
        "plt.imshow(x_train[0]);\n",
        "plt.title('Rótulo: {}'.format(y_train[0]));"
      ],
      "metadata": {
        "colab": {
          "base_uri": "https://localhost:8080/",
          "height": 281
        },
        "id": "BDI6peGXjCl1",
        "outputId": "0b05d9f3-2875-4b7a-d6a1-1ac838ce3625"
      },
      "execution_count": 8,
      "outputs": [
        {
          "output_type": "display_data",
          "data": {
            "image/png": "[encoded data removed]",
            "text/plain": [
              "<Figure size 432x288 with 1 Axes>"
            ]
          },
          "metadata": {
            "needs_background": "light"
          }
        }
      ]
    },
    {
      "cell_type": "markdown",
      "source": [
        "imagem de um gato (1), comentar da régua"
      ],
      "metadata": {
        "id": "LiiemWr9kl2q"
      }
    },
    {
      "cell_type": "code",
      "source": [
        "#exibindo a imagem de um gato da base de treino\n",
        "plt.imshow(x_train[7])\n",
        "plt.title('Rótulo: {}'.format(y_train[7]));"
      ],
      "metadata": {
        "colab": {
          "base_uri": "https://localhost:8080/",
          "height": 281
        },
        "id": "Ru8RDdGhjCoA",
        "outputId": "b6caad16-2e2f-4cf3-b774-2943bfd87d0a"
      },
      "execution_count": 9,
      "outputs": [
        {
          "output_type": "display_data",
          "data": {
            "image/png": "[encoded data removed]",
            "text/plain": [
              "<Figure size 432x288 with 1 Axes>"
            ]
          },
          "metadata": {
            "needs_background": "light"
          }
        }
      ]
    },
    {
      "cell_type": "markdown",
      "source": [
        "#Ajustando os Dados\n",
        "\n",
        "texto texto texto\n",
        "\n",
        "falar do reshape\n",
        " 64x64 x 3 = 12288 entradas, cada um representa um x"
      ],
      "metadata": {
        "id": "KbeIH_aAnJFm"
      }
    },
    {
      "cell_type": "code",
      "source": [
        "#transformando em um array da numpy\n",
        "x_train = np.array(x_train)\n",
        "y_train = np.array(y_train)\n",
        "x_test = np.array(x_test)\n",
        "y_test = np.array(y_test)"
      ],
      "metadata": {
        "id": "oPm_h7lIlCZ3"
      },
      "execution_count": 10,
      "outputs": []
    },
    {
      "cell_type": "markdown",
      "source": [
        "pega quantas linhas vc quiser, mas eu quero com tantas colunas"
      ],
      "metadata": {
        "id": "IgAbnl0vp-Nz"
      }
    },
    {
      "cell_type": "code",
      "source": [
        "#quantidade de dados de treino e teste\n",
        "number_of_train = x_train.shape[0]\n",
        "number_of_test = x_test.shape[0]\n",
        "\n",
        "#fazendo o reshape dos x de treino e teste\n",
        "x_train_reshaped = x_train.reshape(-1,number_of_train)\n",
        "x_test_reshaped = x_test.reshape(-1,number_of_test)\n",
        "\n",
        "#fazendo o reshape dos y de treino e teste\n",
        "y_train_reshaped = y_train.reshape(-1,number_of_train)\n",
        "y_test_reshaped = y_test.reshape(-1,number_of_test)"
      ],
      "metadata": {
        "id": "g0a-JYb0oIS9"
      },
      "execution_count": 11,
      "outputs": []
    },
    {
      "cell_type": "code",
      "source": [
        "#avaliando a quantidade de valores para treino\n",
        "print('Variavéis independentes de treino:', x_train_reshaped.shape)\n",
        "print('Variavéis dependentes de treino:', y_train_reshaped.shape)"
      ],
      "metadata": {
        "colab": {
          "base_uri": "https://localhost:8080/"
        },
        "id": "-x7dWD_6seE-",
        "outputId": "db87665e-8a73-400b-afaf-5695e6dcb8ac"
      },
      "execution_count": 12,
      "outputs": [
        {
          "output_type": "stream",
          "name": "stdout",
          "text": [
            "Variavéis independentes de treino: (12288, 209)\n",
            "Variavéis dependentes de treino: (1, 209)\n"
          ]
        }
      ]
    },
    {
      "cell_type": "code",
      "source": [
        "#avaliando a quantidade de valores para teste\n",
        "print('Variavéis independentes de teste:', x_test_reshaped.shape)\n",
        "print('Variavéis dependentes de teste:', y_test_reshaped.shape)"
      ],
      "metadata": {
        "colab": {
          "base_uri": "https://localhost:8080/"
        },
        "id": "W55yfwRHseHE",
        "outputId": "b4fd2c94-2f70-4055-e12a-ee824d01ed1e"
      },
      "execution_count": 13,
      "outputs": [
        {
          "output_type": "stream",
          "name": "stdout",
          "text": [
            "Variavéis independentes de teste: (12288, 50)\n",
            "Variavéis dependentes de teste: (1, 50)\n"
          ]
        }
      ]
    },
    {
      "cell_type": "markdown",
      "source": [
        "#Implementação da Regressão Logística para Classificação\n",
        "\n",
        "texto texto \n",
        "\n",
        "[link](https://matheusfacure.github.io/2017/02/25/regr-log/#indoalem)\n",
        "\n",
        "classificação supervisionada, binária\n",
        "\n",
        "colocar uma equação\n"
      ],
      "metadata": {
        "id": "9pOjDDT5iDAZ"
      }
    },
    {
      "cell_type": "code",
      "source": [
        "#função para inicializar os valores\n",
        "def inicializar(x):\n",
        "  \"\"\"\n",
        "    texto explicando a função\n",
        "\n",
        "    dar uma atenção neste b\n",
        "  \"\"\"\n",
        "  w = np.zeros((x.shape[0],1))\n",
        "  b = np.zeros((1,x.shape[1]))\n",
        "  return w,b"
      ],
      "metadata": {
        "id": "tomc0CPjiHL0"
      },
      "execution_count": 14,
      "outputs": []
    },
    {
      "cell_type": "code",
      "source": [
        "#inicializando os weights e o bias com zero\n",
        "w,b = inicializar(x_train_reshaped)\n",
        "print('Dimensões de w',w.shape)\n",
        "print('Dimensões de b',b.shape)"
      ],
      "metadata": {
        "colab": {
          "base_uri": "https://localhost:8080/"
        },
        "id": "09w9tTl0-hrZ",
        "outputId": "23656b86-2eb8-4909-89e6-b8ef42a8879a"
      },
      "execution_count": 15,
      "outputs": [
        {
          "output_type": "stream",
          "name": "stdout",
          "text": [
            "Dimensões de w (12288, 1)\n",
            "Dimensões de b (1, 209)\n"
          ]
        }
      ]
    },
    {
      "cell_type": "markdown",
      "source": [
        "falar de criar a função de ativação sigmoidal e falar que ela retorna a probabilidade\n",
        "\n",
        "<center><img src=\"https://ai-master.gitbooks.io/logistic-regression/content/assets/sigmoid_function.png\"></center>"
      ],
      "metadata": {
        "id": "Yh0sfEinVptI"
      }
    },
    {
      "cell_type": "code",
      "source": [
        "#função de ativação\n",
        "def sigmoidal(z):\n",
        "  return 1.0/(1+np.exp(-z))"
      ],
      "metadata": {
        "id": "1outXFvpVmql"
      },
      "execution_count": 16,
      "outputs": []
    },
    {
      "cell_type": "markdown",
      "source": [
        "## Forward Propagation - Left to Right\n",
        "\n",
        "texto texto\n",
        "<center><img src=\"https://lh5.googleusercontent.com/0h2x6KBGVF6sEkHA12kq-lrCGH9iX0_LEtphjCbb0A-WUQDqQwmjU0HvSzb3s_k-pe7tkAL1zC0MqfROHiCLnbogb5R2OVaD9FUX8tFEkYis8K8NlBq1SoBND3wM0oOCNQWFrtI\" width=\"50%\"></center>"
      ],
      "metadata": {
        "id": "5ibOQmMBwE6_"
      }
    },
    {
      "cell_type": "code",
      "source": [
        "#funcao da propagação da esquerda para a direita\n",
        "def forward_propagation(w,b,x):\n",
        "  z = np.dot(w.T,x) + b\n",
        "  a = sigmoidal(z)\n",
        "  return a"
      ],
      "metadata": {
        "id": "W6P5V70Ov5A1"
      },
      "execution_count": 17,
      "outputs": []
    },
    {
      "cell_type": "markdown",
      "source": [
        "texto texto"
      ],
      "metadata": {
        "id": "SOk25yfe9DMv"
      }
    },
    {
      "cell_type": "code",
      "source": [
        "#primeiros valores retornados após a aplicação na equação logística\n",
        "a =  forward_propagation(w,b,x_train_reshaped)\n",
        "print('Dimensões da matriz após passar pela função de ativação:',a.shape)\n",
        "a"
      ],
      "metadata": {
        "id": "er_5nlqfv5DD",
        "colab": {
          "base_uri": "https://localhost:8080/"
        },
        "outputId": "c3b39680-a51a-4443-e018-2fbc9306b3da"
      },
      "execution_count": 18,
      "outputs": [
        {
          "output_type": "stream",
          "name": "stdout",
          "text": [
            "Dimensões da matriz após passar pela função de ativação: (1, 209)\n"
          ]
        },
        {
          "output_type": "execute_result",
          "data": {
            "text/plain": [
              "array([[0.5, 0.5, 0.5, 0.5, 0.5, 0.5, 0.5, 0.5, 0.5, 0.5, 0.5, 0.5, 0.5,\n",
              "        0.5, 0.5, 0.5, 0.5, 0.5, 0.5, 0.5, 0.5, 0.5, 0.5, 0.5, 0.5, 0.5,\n",
              "        0.5, 0.5, 0.5, 0.5, 0.5, 0.5, 0.5, 0.5, 0.5, 0.5, 0.5, 0.5, 0.5,\n",
              "        0.5, 0.5, 0.5, 0.5, 0.5, 0.5, 0.5, 0.5, 0.5, 0.5, 0.5, 0.5, 0.5,\n",
              "        0.5, 0.5, 0.5, 0.5, 0.5, 0.5, 0.5, 0.5, 0.5, 0.5, 0.5, 0.5, 0.5,\n",
              "        0.5, 0.5, 0.5, 0.5, 0.5, 0.5, 0.5, 0.5, 0.5, 0.5, 0.5, 0.5, 0.5,\n",
              "        0.5, 0.5, 0.5, 0.5, 0.5, 0.5, 0.5, 0.5, 0.5, 0.5, 0.5, 0.5, 0.5,\n",
              "        0.5, 0.5, 0.5, 0.5, 0.5, 0.5, 0.5, 0.5, 0.5, 0.5, 0.5, 0.5, 0.5,\n",
              "        0.5, 0.5, 0.5, 0.5, 0.5, 0.5, 0.5, 0.5, 0.5, 0.5, 0.5, 0.5, 0.5,\n",
              "        0.5, 0.5, 0.5, 0.5, 0.5, 0.5, 0.5, 0.5, 0.5, 0.5, 0.5, 0.5, 0.5,\n",
              "        0.5, 0.5, 0.5, 0.5, 0.5, 0.5, 0.5, 0.5, 0.5, 0.5, 0.5, 0.5, 0.5,\n",
              "        0.5, 0.5, 0.5, 0.5, 0.5, 0.5, 0.5, 0.5, 0.5, 0.5, 0.5, 0.5, 0.5,\n",
              "        0.5, 0.5, 0.5, 0.5, 0.5, 0.5, 0.5, 0.5, 0.5, 0.5, 0.5, 0.5, 0.5,\n",
              "        0.5, 0.5, 0.5, 0.5, 0.5, 0.5, 0.5, 0.5, 0.5, 0.5, 0.5, 0.5, 0.5,\n",
              "        0.5, 0.5, 0.5, 0.5, 0.5, 0.5, 0.5, 0.5, 0.5, 0.5, 0.5, 0.5, 0.5,\n",
              "        0.5, 0.5, 0.5, 0.5, 0.5, 0.5, 0.5, 0.5, 0.5, 0.5, 0.5, 0.5, 0.5,\n",
              "        0.5]])"
            ]
          },
          "metadata": {},
          "execution_count": 18
        }
      ]
    },
    {
      "cell_type": "markdown",
      "source": [
        "##Backward Propagation - Right to Left\n",
        "\n",
        "texto texto\n",
        "\n",
        "cost function\n",
        "loss function\n",
        "\n",
        "**COLOCAR UMA IMAGEM BOA**\n",
        "\n",
        "derivar a função"
      ],
      "metadata": {
        "id": "o8IREtgwvYFb"
      }
    },
    {
      "cell_type": "code",
      "source": [
        "#funcao propagacao da direita para a esquerda, \"aprender com os erros\"\n",
        "def backward_propagation(a,x,y):\n",
        "  m = x.shape[1]\n",
        "  dz = a - y\n",
        "  dw = (np.dot(x,dz.T))*(1/m)\n",
        "  db = np.sum(dz) * (1/m)\n",
        "  return dw,db"
      ],
      "metadata": {
        "id": "jfEdAvAUvHbI"
      },
      "execution_count": 19,
      "outputs": []
    },
    {
      "cell_type": "code",
      "source": [
        "#realizando a propagação left to right\n",
        "dw,db  = backward_propagation(a,x_train_reshaped,y_train_reshaped)\n",
        "\n",
        "#imprimindo as dimensões das matrizes\n",
        "print('Dimensão do dw:',dw.shape)\n",
        "print('Valor do db:',db.round(2))"
      ],
      "metadata": {
        "id": "KJgS4csevQux",
        "colab": {
          "base_uri": "https://localhost:8080/"
        },
        "outputId": "24f2fe93-4dd4-4580-a05e-b5ea38b27216"
      },
      "execution_count": 20,
      "outputs": [
        {
          "output_type": "stream",
          "name": "stdout",
          "text": [
            "Dimensão do dw: (12288, 1)\n",
            "Valor do db: 0.16\n"
          ]
        }
      ]
    },
    {
      "cell_type": "markdown",
      "source": [
        "## Gradiente Descendente\n",
        "texto texto\n",
        "\n",
        "<center><img src=\"https://cdn.builtin.com/sites/www.builtin.com/files/styles/ckeditor_optimize/public/inline-images/national/gradient-descent-convex-function.png\" width=\"50%\"></center>\n",
        "\n",
        "texto texto texto\n",
        "<center><img src=\"https://i.stack.imgur.com/khaJb.png\" width=\"40%\"></center>\n",
        "texto texto\n",
        "<center><img src=\"https://editor.analyticsvidhya.com/uploads/36152Screenshot%20(43).png\" width=\"30%\"></center>"
      ],
      "metadata": {
        "id": "_k-snywx-Qx4"
      }
    },
    {
      "cell_type": "code",
      "source": [
        "#função do gradiente descendente\n",
        "def gradient_descent(w,b,dw,db,alpha):\n",
        "  w = w - (alpha*dw)\n",
        "  b = b - (alpha*db)\n",
        "  return w,b"
      ],
      "metadata": {
        "id": "l6Q2XoAFvQ1e"
      },
      "execution_count": 21,
      "outputs": []
    },
    {
      "cell_type": "code",
      "source": [
        "#aplicando o gradiente uma vez\n",
        "w,b = gradient_descent(w,b,dw,db,alpha=0.05)"
      ],
      "metadata": {
        "id": "Ujmw8xHPvQ3x"
      },
      "execution_count": 22,
      "outputs": []
    },
    {
      "cell_type": "code",
      "source": [
        "#visualizando o w após o primeiro gradiente\n",
        "w"
      ],
      "metadata": {
        "colab": {
          "base_uri": "https://localhost:8080/"
        },
        "id": "iTgARldZC0da",
        "outputId": "f163d814-51a5-4b62-c5eb-f5d27d7ca8c3"
      },
      "execution_count": 23,
      "outputs": [
        {
          "output_type": "execute_result",
          "data": {
            "text/plain": [
              "array([[-0.29700957],\n",
              "       [-0.36411483],\n",
              "       [-0.40502392],\n",
              "       ...,\n",
              "       [ 0.        ],\n",
              "       [ 0.        ],\n",
              "       [ 0.        ]])"
            ]
          },
          "metadata": {},
          "execution_count": 23
        }
      ]
    },
    {
      "cell_type": "code",
      "source": [
        "#visualizando o b após o primeiro gradiente\n",
        "b"
      ],
      "metadata": {
        "colab": {
          "base_uri": "https://localhost:8080/"
        },
        "id": "31m-hHo_C2LM",
        "outputId": "48f1701b-2199-4370-895b-fdf5cd7dc811"
      },
      "execution_count": 24,
      "outputs": [
        {
          "output_type": "execute_result",
          "data": {
            "text/plain": [
              "array([[-0.00777512, -0.00777512, -0.00777512, -0.00777512, -0.00777512,\n",
              "        -0.00777512, -0.00777512, -0.00777512, -0.00777512, -0.00777512,\n",
              "        -0.00777512, -0.00777512, -0.00777512, -0.00777512, -0.00777512,\n",
              "        -0.00777512, -0.00777512, -0.00777512, -0.00777512, -0.00777512,\n",
              "        -0.00777512, -0.00777512, -0.00777512, -0.00777512, -0.00777512,\n",
              "        -0.00777512, -0.00777512, -0.00777512, -0.00777512, -0.00777512,\n",
              "        -0.00777512, -0.00777512, -0.00777512, -0.00777512, -0.00777512,\n",
              "        -0.00777512, -0.00777512, -0.00777512, -0.00777512, -0.00777512,\n",
              "        -0.00777512, -0.00777512, -0.00777512, -0.00777512, -0.00777512,\n",
              "        -0.00777512, -0.00777512, -0.00777512, -0.00777512, -0.00777512,\n",
              "        -0.00777512, -0.00777512, -0.00777512, -0.00777512, -0.00777512,\n",
              "        -0.00777512, -0.00777512, -0.00777512, -0.00777512, -0.00777512,\n",
              "        -0.00777512, -0.00777512, -0.00777512, -0.00777512, -0.00777512,\n",
              "        -0.00777512, -0.00777512, -0.00777512, -0.00777512, -0.00777512,\n",
              "        -0.00777512, -0.00777512, -0.00777512, -0.00777512, -0.00777512,\n",
              "        -0.00777512, -0.00777512, -0.00777512, -0.00777512, -0.00777512,\n",
              "        -0.00777512, -0.00777512, -0.00777512, -0.00777512, -0.00777512,\n",
              "        -0.00777512, -0.00777512, -0.00777512, -0.00777512, -0.00777512,\n",
              "        -0.00777512, -0.00777512, -0.00777512, -0.00777512, -0.00777512,\n",
              "        -0.00777512, -0.00777512, -0.00777512, -0.00777512, -0.00777512,\n",
              "        -0.00777512, -0.00777512, -0.00777512, -0.00777512, -0.00777512,\n",
              "        -0.00777512, -0.00777512, -0.00777512, -0.00777512, -0.00777512,\n",
              "        -0.00777512, -0.00777512, -0.00777512, -0.00777512, -0.00777512,\n",
              "        -0.00777512, -0.00777512, -0.00777512, -0.00777512, -0.00777512,\n",
              "        -0.00777512, -0.00777512, -0.00777512, -0.00777512, -0.00777512,\n",
              "        -0.00777512, -0.00777512, -0.00777512, -0.00777512, -0.00777512,\n",
              "        -0.00777512, -0.00777512, -0.00777512, -0.00777512, -0.00777512,\n",
              "        -0.00777512, -0.00777512, -0.00777512, -0.00777512, -0.00777512,\n",
              "        -0.00777512, -0.00777512, -0.00777512, -0.00777512, -0.00777512,\n",
              "        -0.00777512, -0.00777512, -0.00777512, -0.00777512, -0.00777512,\n",
              "        -0.00777512, -0.00777512, -0.00777512, -0.00777512, -0.00777512,\n",
              "        -0.00777512, -0.00777512, -0.00777512, -0.00777512, -0.00777512,\n",
              "        -0.00777512, -0.00777512, -0.00777512, -0.00777512, -0.00777512,\n",
              "        -0.00777512, -0.00777512, -0.00777512, -0.00777512, -0.00777512,\n",
              "        -0.00777512, -0.00777512, -0.00777512, -0.00777512, -0.00777512,\n",
              "        -0.00777512, -0.00777512, -0.00777512, -0.00777512, -0.00777512,\n",
              "        -0.00777512, -0.00777512, -0.00777512, -0.00777512, -0.00777512,\n",
              "        -0.00777512, -0.00777512, -0.00777512, -0.00777512, -0.00777512,\n",
              "        -0.00777512, -0.00777512, -0.00777512, -0.00777512, -0.00777512,\n",
              "        -0.00777512, -0.00777512, -0.00777512, -0.00777512, -0.00777512,\n",
              "        -0.00777512, -0.00777512, -0.00777512, -0.00777512, -0.00777512,\n",
              "        -0.00777512, -0.00777512, -0.00777512, -0.00777512]])"
            ]
          },
          "metadata": {},
          "execution_count": 24
        }
      ]
    },
    {
      "cell_type": "markdown",
      "source": [
        "falar de fazer um left to right novamente"
      ],
      "metadata": {
        "id": "nQF_kbBwD16s"
      }
    },
    {
      "cell_type": "code",
      "source": [
        "#refazendo o forward propagation\n",
        "forward_propagation(w,b,x_train_reshaped)"
      ],
      "metadata": {
        "colab": {
          "base_uri": "https://localhost:8080/"
        },
        "id": "qEm9GeOXDqK0",
        "outputId": "91344c1a-21cb-4e84-9318-27e71ff499a5"
      },
      "execution_count": 25,
      "outputs": [
        {
          "output_type": "execute_result",
          "data": {
            "text/plain": [
              "array([[0., 0., 0., 0., 0., 0., 0., 0., 0., 0., 0., 0., 0., 0., 0., 0.,\n",
              "        0., 0., 0., 0., 0., 0., 0., 0., 0., 0., 0., 0., 0., 0., 0., 0.,\n",
              "        0., 0., 0., 0., 0., 0., 0., 0., 0., 0., 0., 0., 0., 0., 0., 0.,\n",
              "        0., 0., 0., 0., 0., 0., 0., 0., 0., 0., 0., 0., 0., 0., 0., 0.,\n",
              "        0., 0., 0., 0., 0., 0., 0., 0., 0., 0., 0., 0., 0., 0., 0., 0.,\n",
              "        0., 0., 0., 0., 0., 0., 0., 0., 0., 0., 0., 0., 0., 0., 0., 0.,\n",
              "        0., 0., 0., 0., 0., 0., 0., 0., 0., 0., 0., 0., 0., 0., 0., 0.,\n",
              "        0., 0., 0., 0., 0., 0., 0., 0., 0., 0., 0., 0., 0., 0., 0., 0.,\n",
              "        0., 0., 0., 0., 0., 0., 0., 0., 0., 0., 0., 0., 0., 0., 0., 0.,\n",
              "        0., 0., 0., 0., 0., 0., 0., 0., 0., 0., 0., 0., 0., 0., 0., 0.,\n",
              "        0., 0., 0., 0., 0., 0., 0., 0., 0., 0., 0., 0., 0., 0., 0., 0.,\n",
              "        0., 0., 0., 0., 0., 0., 0., 0., 0., 0., 0., 0., 0., 0., 0., 0.,\n",
              "        0., 0., 0., 0., 0., 0., 0., 0., 0., 0., 0., 0., 0., 0., 0., 0.,\n",
              "        0.]])"
            ]
          },
          "metadata": {},
          "execution_count": 25
        }
      ]
    },
    {
      "cell_type": "code",
      "source": [
        ""
      ],
      "metadata": {
        "id": "KjhOhDeCD8_N"
      },
      "execution_count": 25,
      "outputs": []
    },
    {
      "cell_type": "code",
      "source": [
        ""
      ],
      "metadata": {
        "id": "WalvYBFXbat2"
      },
      "execution_count": null,
      "outputs": []
    },
    {
      "cell_type": "code",
      "source": [
        ""
      ],
      "metadata": {
        "id": "HtlPJ88lbav6"
      },
      "execution_count": null,
      "outputs": []
    },
    {
      "cell_type": "markdown",
      "source": [
        "#Considerações Finais\n",
        "\n",
        "texto texto texto"
      ],
      "metadata": {
        "id": "4nThXqNrVM1m"
      }
    }
  ]
}