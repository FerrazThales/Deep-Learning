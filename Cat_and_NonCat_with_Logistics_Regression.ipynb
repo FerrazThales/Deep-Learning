{
  "nbformat": 4,
  "nbformat_minor": 0,
  "metadata": {
    "colab": {
      "name": "Cat and NonCat with Logistics Regression.ipynb",
      "provenance": [],
      "authorship_tag": "ABX9TyPEamA2TJPlkIj4Zvu3eAMj",
      "include_colab_link": true
    },
    "kernelspec": {
      "name": "python3",
      "display_name": "Python 3"
    },
    "language_info": {
      "name": "python"
    }
  },
  "cells": [
    {
      "cell_type": "markdown",
      "metadata": {
        "id": "view-in-github",
        "colab_type": "text"
      },
      "source": [
        "<a href=\"https://colab.research.google.com/github/FerrazThales/Deep-Learning/blob/main/Cat_and_NonCat_with_Logistics_Regression.ipynb\" target=\"_parent\"><img src=\"https://colab.research.google.com/assets/colab-badge.svg\" alt=\"Open In Colab\"/></a>"
      ]
    },
    {
      "cell_type": "markdown",
      "source": [
        "<h1 align=\"center\"><b>Encontre eu e meus projetos nas redes sociais!</b></h1>\n",
        "<table>\n",
        "  <tr>\n",
        "  <td><a href=\"https://thalesferraz.medium.com/\">\n",
        "  <img src=\"https://github.com/FerrazThales/FerrazThales/blob/main/logo_gif.gif?raw=true\" width=\"800\" title=\"Olá, Meu nome é Thales e sou cientista de Dados!\"/>\n",
        "  </a>\n",
        "  </td>\n",
        "  <td><a href=\"https://github.com/FerrazThales\">\n",
        "  <img hspace=30 vspace=110 src=\"https://image.flaticon.com/icons/png/512/1051/1051326.png\" width=\"60%\" title=\"Entre em meu Github e veja mais projetos!\" /> \n",
        "  </a>\n",
        "  </td>\n",
        "  <td>\n",
        "  <a href=\"\">\n",
        "  <img vspace=110 src=\"https://download.logo.wine/logo/Medium_(website)/Medium_(website)-Logo.wine.png\" width=\"800\" title=\"Veja este meu projeto no Medium!\"/>\n",
        "  </a>\n",
        "  </td>\n",
        "  <td><a href=\"https://www.linkedin.com/in/thalesdefreitasferraz/\"><img vspace=150 src=\"https://image.flaticon.com/icons/png/512/889/889122.png\" width=\"40%\" title=\"Vamos trocar uma idéia sobre Data Science no LinkedIn?\" />\n",
        "  </a>\n",
        "  </td>\n",
        "  </tr>\n",
        "</table>\n"
      ],
      "metadata": {
        "id": "A7k-YvrQl6Fu"
      }
    },
    {
      "cell_type": "markdown",
      "source": [
        "# O que você vai aprender neste projeto: \n",
        "\n",
        "* O que é uma são redes **neurais** artificiais e como construir uma **simples**.\n",
        "* Como **dados** de imagens são **armazenados** e podem ser **processados** atráves do uso de vetores.\n",
        "* Um **classificador** de imagens de **gatos** que utiliza *Deep Learning*.\n"
      ],
      "metadata": {
        "id": "rB_doX0vl60E"
      }
    },
    {
      "cell_type": "markdown",
      "source": [
        "# Introdução a Redes Neurais Artificiais 🧠\n",
        "\n",
        "> Todo fazer é um conhecer e todo conhecer é um fazer.  *(Maturana e Varela, A árvore do conhecimento).*\n",
        "\n",
        "A arquitetura do **sistema** nervoso vem sendo estudada há muito tempo. Os avanços da **neurociência** permitiram entender, de forma resumida, como as atividades ocorrem nas células cerebrais.\n",
        "\n",
        "Na imagem abaixo observamos que os **impulsos** nervosos são passados de um neurônio ao outro **através** de seus axônios (*saída*) e dendritos (*chegada*). A efetividade desta **sinapse** (*ponto de contato estreito entre os neurônios*) está **subordinada** ao estado de excitação/atividade de **cada** impulso. Caso não existam condições **favoráveis** ao impulso, a **comunicação** entre os neurônios não prossegue.\n",
        "\n",
        "<center><img src=\"https://cdn.kastatic.org/ka-perseus-images/b404bfc9d6246ff3475f6fd2b34fbb7374fc4873.png\" width=\"80%\"></center>\n",
        "\n",
        "\n",
        "Foi no paper [A logical calculus of the ideias immanent in nervous activity](https://jontalle.web.engr.illinois.edu/uploads/498-NS.19/McCulloch-Pitts-1943-neural-networks.pdf) publicado em **1943** que *McCulloch e Pitts*, inspirados pelo funcionamento dos **neurônios** reais, propuseram um modelo **matemático** que simulava os comportamentos *all-or-none* das **atividades** neurofisiológicas. Ou seja, este **tudo-ou-nada** representava se o sinal iria **prosseguir** ao próximo neurônio ou não - e isto estava condicionado a uma proposição **lógica**. \n",
        "\n",
        "A imagem abaixo ilustra este simples **modelo** matemático. As **entradas** (*x1,x2,x3...*) ingressam no neurônio, se combinam **linearmente** e ficam dependentes de uma função de **ativação**. Caso esta função retorne um valor **favorável** `(1)`, o impulso prosegue.\n",
        "\n",
        "<center><img src=\"https://miro.medium.com/max/738/1*fDHlg9iNo0LLK4czQqqO9A.png\"></center>\n",
        "\n",
        "Portanto, uma rede neural **artificial** simples é isso. Uma **combinação** de diferentes **entradas**, também chamadas de variáveis *independentes*, que são inputadas em uma função de ativação para nos trazer a estimativa da **probabilidade** de uma **classe** ocorrer. \n",
        "\n",
        "Ao longo deste projeto, será apresentada às **fórmulas matemáticas** que podem ser utilizadas para representar esta combinação linear e qual seria uma boa função de ativação, também haverá algumas **derivadas** para nos ajudar nestes processos🤓 . Além disso, será apresentada a ideia de **Forward Propagation** e **Backward Propagation**.\n",
        "\n",
        "A forma resumida da **construção** desta estrutura de uma simples rede neural foi brilhantemente **resumida** por [Tess Ferrandez](https://www.datasciencecentral.com/profiles/blogs/logistic-regression-as-a-neural-network).\n",
        "\n",
        "<center><img src=\"https://storage.ning.com/topology/rest/1.0/file/get/2408482975?profile=RESIZE_710x\" width=\"75%\"></center>\n",
        "\n",
        "O objetivo deste projeto é utilizar esta estrutura de uma rede neural simples para **classificar** imagens. Portanto, a partir de diferentes figuras de **gatos** nosso algoritmo irá rotular o plot como **sendo** ou não de um gato.  "
      ],
      "metadata": {
        "id": "Di3qDdauVFog"
      }
    },
    {
      "cell_type": "code",
      "execution_count": 31,
      "metadata": {
        "id": "8owiXSCbU9y-"
      },
      "outputs": [],
      "source": [
        "#ignorar os warnings\n",
        "import warnings\n",
        "warnings.filterwarnings('ignore')\n",
        "\n",
        "#importando as bibliotecas que serão utilizadas\n",
        "import numpy as np\n",
        "import h5py\n",
        "import matplotlib.pyplot as plt\n",
        "%matplotlib inline"
      ]
    },
    {
      "cell_type": "markdown",
      "source": [
        "#Obtenção dos dados\n",
        "\n",
        "Estas bases de dados foram obtidas no [Kaggle](https://www.kaggle.com/muhammeddalkran/catvnoncat). De acordo com o autor, elas foram **disponibilizadas** como desafio de uma de suas aulas de **Introdução a Visão Computacional** na *Bilkent University*. As bases de dados vieram no formato `h5` e os dados já estavam **separados** em treino e teste.\n",
        "\n",
        "Em resumo, estes registros trazem informações de **imagens** (64x64 pixels) que contém - ou não contém, gatos. Desta forma, as imagens que contém **gatos** estão rotuladas com o valor 1 e as que não contém estão **rotuladas** com o valor **zero**.\n",
        "\n",
        "Caso os **links** dos datasets não estejam funcionando, você pode buscá-los em meu [Github](https://github.com/FerrazThales/Deep-Learning/tree/main/catvnoncat).\n"
      ],
      "metadata": {
        "id": "D0rHcQfzdw__"
      }
    },
    {
      "cell_type": "code",
      "source": [
        "#guardando os endereços dos dados de treino e teste\n",
        "train_data_path = \"/content/train_catvnoncat.h5\"\n",
        "test_data_path = \"/content/test_catvnoncat.h5\"\n",
        "\n",
        "#importando os dados de treino e teste\n",
        "train_data = h5py.File(train_data_path,'r')\n",
        "test_data = h5py.File(test_data_path,'r')\n",
        "\n",
        "#armazenando as variáveis do treino\n",
        "x_train = train_data['train_set_x']\n",
        "y_train = train_data['train_set_y']\n",
        "\n",
        "#armazenando as variáveis de teste\n",
        "x_test = test_data['test_set_x']\n",
        "y_test = test_data['test_set_y']"
      ],
      "metadata": {
        "id": "wyvxOp6xdyX7"
      },
      "execution_count": 32,
      "outputs": []
    },
    {
      "cell_type": "markdown",
      "source": [
        "#Análise Exploratória dos Dados\n",
        "\n",
        "Ok, importamos um **dataset** no formato [h5](https://pt.wikipedia.org/wiki/Hierarchical_Data_Format). Agora precisamos **explorar** um pouco mais o `shape` destes dados - uma vez que **imagens** quase sempre vem no formato [matricial](https://brasilescola.uol.com.br/matematica/matriz.htm). Além disso, realizar alguns **plots** para ver se de fato existem estes **gatos** e não pegamos o dataset errado 😆."
      ],
      "metadata": {
        "id": "dv-m1iPfh0f7"
      }
    },
    {
      "cell_type": "code",
      "source": [
        "#visualizando o tipo de dado\n",
        "type(x_train)"
      ],
      "metadata": {
        "colab": {
          "base_uri": "https://localhost:8080/"
        },
        "id": "VTPJyiFTpEPj",
        "outputId": "75a9bb77-9119-409d-e018-e6f409deae6c"
      },
      "execution_count": 33,
      "outputs": [
        {
          "output_type": "execute_result",
          "data": {
            "text/plain": [
              "h5py._hl.dataset.Dataset"
            ]
          },
          "metadata": {},
          "execution_count": 33
        }
      ]
    },
    {
      "cell_type": "code",
      "source": [
        "#avaliando a quantidade de valores para treino\n",
        "print('Variavéis independentes de treino:', x_train.shape)\n",
        "print('Variavéis dependentes de treino:', y_train.shape)"
      ],
      "metadata": {
        "colab": {
          "base_uri": "https://localhost:8080/"
        },
        "id": "l7_ysn38eFNQ",
        "outputId": "daa4705f-8ab5-4278-d940-d0aa1cc89af5"
      },
      "execution_count": 34,
      "outputs": [
        {
          "output_type": "stream",
          "name": "stdout",
          "text": [
            "Variavéis independentes de treino: (209, 64, 64, 3)\n",
            "Variavéis dependentes de treino: (209,)\n"
          ]
        }
      ]
    },
    {
      "cell_type": "code",
      "source": [
        "#avaliando a quantidade de valores para teste\n",
        "print('Variavéis independentes de teste:', x_test.shape)\n",
        "print('Variavéis dependentes de teste:', y_test.shape)"
      ],
      "metadata": {
        "colab": {
          "base_uri": "https://localhost:8080/"
        },
        "id": "qLVVVoVseFPe",
        "outputId": "06ae8754-08d2-48db-f2ce-6a124e907373"
      },
      "execution_count": 35,
      "outputs": [
        {
          "output_type": "stream",
          "name": "stdout",
          "text": [
            "Variavéis independentes de teste: (50, 64, 64, 3)\n",
            "Variavéis dependentes de teste: (50,)\n"
          ]
        }
      ]
    },
    {
      "cell_type": "markdown",
      "source": [
        "Como esperado, os **dados** estão em formas **matriciais** bem interessantes. Existem *209* registros para **treino** e *50* para **teste**. \n",
        "\n",
        "Os valores de `x` representam a forma **matricial** de representação das **imagens**. Já os valores de `y` são as **classificações** destas imagens. Mais adiante tornaremos estes **rótulos** de classificação mais visíveis e compreensíveis.\n",
        "\n",
        "Antes de continuar com o *python*, vamos dar uma nova olhada no **shape** de nosso `x_train`:\n",
        "\n",
        "**Variavéis independentes de treino: (209, 64, 64, 3)**\n",
        "\n",
        "- 209 são os registros de treino, ou seja, 209 imagens que podem ou não ser de gatos. ✅\n",
        "- 64 e 64 (?) \n",
        "- 3 (?) \n",
        "\n",
        "Lá em cima, comentamos que as **imagens** do dataset tem 64x64 **pixels**. Talvez este número *64* esteja **relacionado** com isso. Mas e o número **3**? A imagem abaixo nos traz algumas dicas.\n",
        "\n",
        "<center><img src=\"https://www.researchgate.net/profile/Belal-Ayyoub/publication/339435251/figure/fig1/AS:861467612028928@1582401292006/Color-image-and-RGB-matrices.jpg\"></center>\n",
        "\n",
        "Esta formosa imagem de um pato não é de 64x64 pixels, mas sim de **5x10** pixels. E o número 3 são os **canais** de cor, no caso **R**ed **G**reen **B**lue. O famoso **RGB**.\n",
        "\n",
        "Agora podemos voltar para o **Python** e ver como está estruturada a **primeira** imagem internamente.\n"
      ],
      "metadata": {
        "id": "ccda4_e-jtN0"
      }
    },
    {
      "cell_type": "code",
      "source": [
        "#observando os parâmetros da primeira imagem\n",
        "x_train[0].shape"
      ],
      "metadata": {
        "colab": {
          "base_uri": "https://localhost:8080/"
        },
        "id": "twqVmddqjCjr",
        "outputId": "48f7acbf-fe16-4710-c76d-4d73ca87e283"
      },
      "execution_count": 36,
      "outputs": [
        {
          "output_type": "execute_result",
          "data": {
            "text/plain": [
              "(64, 64, 3)"
            ]
          },
          "metadata": {},
          "execution_count": 36
        }
      ]
    },
    {
      "cell_type": "code",
      "source": [
        "#analisando o primeiro registro\n",
        "x_train[0]"
      ],
      "metadata": {
        "colab": {
          "base_uri": "https://localhost:8080/"
        },
        "id": "NW_-q4utkveY",
        "outputId": "d1561eec-cdc5-4fe3-81b3-b62051e72d04"
      },
      "execution_count": 37,
      "outputs": [
        {
          "output_type": "execute_result",
          "data": {
            "text/plain": [
              "array([[[17, 31, 56],\n",
              "        [22, 33, 59],\n",
              "        [25, 35, 62],\n",
              "        ...,\n",
              "        [ 1, 28, 57],\n",
              "        [ 1, 26, 56],\n",
              "        [ 1, 22, 51]],\n",
              "\n",
              "       [[25, 36, 62],\n",
              "        [28, 38, 64],\n",
              "        [30, 40, 67],\n",
              "        ...,\n",
              "        [ 1, 27, 56],\n",
              "        [ 1, 25, 55],\n",
              "        [ 2, 21, 51]],\n",
              "\n",
              "       [[32, 40, 67],\n",
              "        [34, 42, 69],\n",
              "        [35, 42, 70],\n",
              "        ...,\n",
              "        [ 1, 25, 55],\n",
              "        [ 0, 24, 54],\n",
              "        [ 1, 21, 51]],\n",
              "\n",
              "       ...,\n",
              "\n",
              "       [[ 0,  0,  0],\n",
              "        [ 0,  0,  0],\n",
              "        [ 0,  0,  0],\n",
              "        ...,\n",
              "        [ 0,  0,  0],\n",
              "        [ 0,  0,  0],\n",
              "        [ 0,  0,  0]],\n",
              "\n",
              "       [[ 0,  0,  0],\n",
              "        [ 0,  0,  0],\n",
              "        [ 0,  0,  0],\n",
              "        ...,\n",
              "        [ 0,  0,  0],\n",
              "        [ 0,  0,  0],\n",
              "        [ 0,  0,  0]],\n",
              "\n",
              "       [[ 0,  0,  0],\n",
              "        [ 0,  0,  0],\n",
              "        [ 0,  0,  0],\n",
              "        ...,\n",
              "        [ 0,  0,  0],\n",
              "        [ 0,  0,  0],\n",
              "        [ 0,  0,  0]]], dtype=uint8)"
            ]
          },
          "metadata": {},
          "execution_count": 37
        }
      ]
    },
    {
      "cell_type": "markdown",
      "source": [
        "Estas matrizes estão **preenchidas** com vários número que vão de 0 até 255. Onde **zero** representa uma intensidade **nula** daquele canal de cor e **255** uma intensidade **máxima** do canal de cor **correspondente**.\n",
        "\n",
        "A imagem abaixo ajuda a **esclarecer** esta ideia de **intensidade** e a resultante do **agrupamento** dos diferentes canais de cor.\n",
        "\n",
        "<center><img src=\"https://miro.medium.com/max/778/1*NGiOxkpKOZ_ezzk2iWJppQ.png\" height=\"80%\"></center>"
      ],
      "metadata": {
        "id": "T0J0bErTttno"
      }
    },
    {
      "cell_type": "code",
      "source": [
        "#visualizando a primeira imagem\n",
        "plt.imshow(x_train[0]);\n",
        "plt.title('Rótulo: {} - não contém gato'.format(y_train[0]));"
      ],
      "metadata": {
        "colab": {
          "base_uri": "https://localhost:8080/",
          "height": 281
        },
        "id": "BDI6peGXjCl1",
        "outputId": "f6e51e42-2290-4099-9903-9456c957ff17"
      },
      "execution_count": 38,
      "outputs": [
        {
          "output_type": "display_data",
          "data": {
            "image/png": "[encoded data removed]",
            "text/plain": [
              "<Figure size 432x288 with 1 Axes>"
            ]
          },
          "metadata": {
            "needs_background": "light"
          }
        }
      ]
    },
    {
      "cell_type": "markdown",
      "source": [
        "Eu não sei muito bem o que é a **primeira** imagem, mas certamente não é a de um **gato**. Nosso **objetivo** é conseguir ensinar a máquina a **classificar** gatos, então vamos procurar outro registro do dataset.\n",
        "\n",
        "O **terceiro** registro é a de um gato, encontramos. Mas você notou que ao **plotar** a imagem com [plt.imshow](https://matplotlib.org/stable/api/_as_gen/matplotlib.pyplot.show.html) aparece algo semelhante a uma **escala** do lado? E que ela vai até 60 e poucos?\n",
        "\n",
        "E nossa imagem tem 60 e poucos pixels..."
      ],
      "metadata": {
        "id": "LiiemWr9kl2q"
      }
    },
    {
      "cell_type": "code",
      "source": [
        "#exibindo a imagem de um gato da base de treino\n",
        "plt.imshow(x_train[2])\n",
        "plt.title('Rótulo: {} - contém gato'.format(y_train[2]));"
      ],
      "metadata": {
        "colab": {
          "base_uri": "https://localhost:8080/",
          "height": 281
        },
        "id": "Ru8RDdGhjCoA",
        "outputId": "276b1195-cefe-4b56-a262-f189e4172a16"
      },
      "execution_count": 39,
      "outputs": [
        {
          "output_type": "display_data",
          "data": {
            "image/png": "[encoded data removed]",
            "text/plain": [
              "<Figure size 432x288 with 1 Axes>"
            ]
          },
          "metadata": {
            "needs_background": "light"
          }
        }
      ]
    },
    {
      "cell_type": "markdown",
      "source": [
        "#Ajustando os Dados\n",
        "\n",
        "Por conveniência e performance computacional, se costuma tratar **cada** imagem como um **vetor**-coluna e mudar o formato para um **array** da numpy. Como nossas imagens tem 64x64 pixels e **três** canais de cor, este vetor teria cerca de `64x64x3 = 12288` **elementos**. Ao criarmos uma matriz que conntivesse cada uma destas imagens, teriamos uma matriz com 12288 **linhas** e `m` **colunas**. Onde m pode ser *209* se for os dados de **treino** ou *50* se for os dados de **teste**.\n",
        "\n",
        " <center><img src=\"https://cdn-images-1.medium.com/max/800/1*V8OxIKYrVuuPUhkD5LTMXA.png\" width=\"50%\"></center>"
      ],
      "metadata": {
        "id": "KbeIH_aAnJFm"
      }
    },
    {
      "cell_type": "code",
      "source": [
        "#transformando em um array da numpy\n",
        "x_train = np.array(x_train)\n",
        "y_train = np.array(y_train)\n",
        "x_test = np.array(x_test)\n",
        "y_test = np.array(y_test)"
      ],
      "metadata": {
        "id": "oPm_h7lIlCZ3"
      },
      "execution_count": 40,
      "outputs": []
    },
    {
      "cell_type": "markdown",
      "source": [
        "O código abaixo **transforma** os dados na matriz **comentada** acima. É importante ressaltar que os dados de cada imagem vão sendo **empilhados**. Primeiro são **colocados** os 64x64 elementos do canal vermelho, depois do verde e por fim os do canal azul."
      ],
      "metadata": {
        "id": "IgAbnl0vp-Nz"
      }
    },
    {
      "cell_type": "code",
      "source": [
        "#quantidade de dados de treino e teste\n",
        "number_of_train = x_train.shape[0]\n",
        "number_of_test = x_test.shape[0]\n",
        "\n",
        "#fazendo o reshape dos x de treino e teste\n",
        "x_train_reshaped = x_train.reshape(number_of_train,-1).T\n",
        "x_test_reshaped = x_test.reshape(number_of_test,-1).T\n",
        "\n",
        "#fazendo o reshape dos y de treino e teste\n",
        "y_train_reshaped = y_train.reshape(number_of_train,-1).T\n",
        "y_test_reshaped = y_test.reshape(number_of_test,-1).T"
      ],
      "metadata": {
        "id": "g0a-JYb0oIS9"
      },
      "execution_count": 41,
      "outputs": []
    },
    {
      "cell_type": "code",
      "source": [
        "#avaliando a quantidade de valores para treino\n",
        "print('Variavéis independentes de treino:', x_train_reshaped.shape)\n",
        "print('Variavéis dependentes de treino:', y_train_reshaped.shape)"
      ],
      "metadata": {
        "colab": {
          "base_uri": "https://localhost:8080/"
        },
        "id": "-x7dWD_6seE-",
        "outputId": "6bccbc11-b1fc-468e-a68b-c672a5e2ceab"
      },
      "execution_count": 42,
      "outputs": [
        {
          "output_type": "stream",
          "name": "stdout",
          "text": [
            "Variavéis independentes de treino: (12288, 209)\n",
            "Variavéis dependentes de treino: (1, 209)\n"
          ]
        }
      ]
    },
    {
      "cell_type": "code",
      "source": [
        "#avaliando a quantidade de valores para teste\n",
        "print('Variavéis independentes de teste:', x_test_reshaped.shape)\n",
        "print('Variavéis dependentes de teste:', y_test_reshaped.shape)"
      ],
      "metadata": {
        "colab": {
          "base_uri": "https://localhost:8080/"
        },
        "id": "W55yfwRHseHE",
        "outputId": "5dcadb79-0292-43aa-e913-463b18f8b868"
      },
      "execution_count": 43,
      "outputs": [
        {
          "output_type": "stream",
          "name": "stdout",
          "text": [
            "Variavéis independentes de teste: (12288, 50)\n",
            "Variavéis dependentes de teste: (1, 50)\n"
          ]
        }
      ]
    },
    {
      "cell_type": "markdown",
      "source": [
        "Lá em cima, falamos que iriamos comentar da variável **dependente** `Y`.\n",
        "Chegou a hora!\n",
        "\n",
        "A variável `y` traz o **rótulo** de cada imagem. O valor `1` significa que a imagem representa um gato, já o **zero** traz a **negativa**. Ou seja, a imagem **não** representa um gato.\n",
        "\n",
        "Ao exibir o `y` de treino (o de teste é o **mesmo** raciocínio) percebemos que o **primeiro** elemento **não** é a de um gato, já que está assinalada como **zero**. Já o **terceiro** elemento está com o valor `1`, portanto é a de um **gato**.\n",
        "\n",
        "Você deve ter observado que também demos uma [reshape](https://numpy.org/doc/stable/reference/generated/numpy.reshape.html) nesta variável. Fizemos isso porque o numpy não **performa** muito bem quando ela está do tipo (209,)."
      ],
      "metadata": {
        "id": "J1TfhuZ47SN9"
      }
    },
    {
      "cell_type": "code",
      "source": [
        "y_train_reshaped"
      ],
      "metadata": {
        "colab": {
          "base_uri": "https://localhost:8080/"
        },
        "id": "R_ynnSiN7TaG",
        "outputId": "b3aeb093-ae59-41a0-f0cb-8556944dae50"
      },
      "execution_count": 44,
      "outputs": [
        {
          "output_type": "execute_result",
          "data": {
            "text/plain": [
              "array([[0, 0, 1, 0, 0, 0, 0, 1, 0, 0, 0, 1, 0, 1, 1, 0, 0, 0, 0, 1, 0, 0,\n",
              "        0, 0, 1, 1, 0, 1, 0, 1, 0, 0, 0, 0, 0, 0, 0, 0, 1, 0, 0, 1, 1, 0,\n",
              "        0, 0, 0, 1, 0, 0, 1, 0, 0, 0, 1, 0, 1, 1, 0, 1, 1, 1, 0, 0, 0, 0,\n",
              "        0, 0, 1, 0, 0, 1, 0, 0, 0, 0, 0, 0, 0, 0, 0, 0, 0, 1, 1, 0, 0, 0,\n",
              "        1, 0, 0, 0, 1, 1, 1, 0, 0, 1, 0, 0, 0, 0, 1, 0, 1, 0, 1, 1, 1, 1,\n",
              "        1, 1, 0, 0, 0, 0, 0, 1, 0, 0, 0, 1, 0, 0, 1, 0, 1, 0, 1, 1, 0, 0,\n",
              "        0, 1, 1, 1, 1, 1, 0, 0, 0, 0, 1, 0, 1, 1, 1, 0, 1, 1, 0, 0, 0, 1,\n",
              "        0, 0, 1, 0, 0, 0, 0, 0, 1, 0, 1, 0, 1, 0, 0, 1, 1, 1, 0, 0, 1, 1,\n",
              "        0, 1, 0, 1, 0, 0, 0, 0, 0, 1, 0, 0, 1, 0, 0, 0, 1, 0, 0, 0, 0, 1,\n",
              "        0, 0, 1, 0, 0, 0, 0, 0, 0, 0, 0]])"
            ]
          },
          "metadata": {},
          "execution_count": 44
        }
      ]
    },
    {
      "cell_type": "markdown",
      "source": [
        "Lembra que cada **quadradinho** de pixel pode estar indo de 0 até 255? Um processo comum em *machine learning* é reduzir o **intervalo** dos valores de nossa variável. Uma maneira simples de realizar este **procedimento** é dividir os valores pelo valor **máximo** de intensidade, ou seja, 255.\n",
        "\n",
        "**REESCREVER**"
      ],
      "metadata": {
        "id": "g1XlMTEN2pN6"
      }
    },
    {
      "cell_type": "code",
      "source": [
        "#standartizando os valores de x\n",
        "x_train_reshaped = x_train_reshaped / 255\n",
        "x_test_reshaped = x_test_reshaped / 255"
      ],
      "metadata": {
        "id": "Vcc2aTzM2q2Z"
      },
      "execution_count": 45,
      "outputs": []
    },
    {
      "cell_type": "markdown",
      "source": [
        "#Implementação da combinação linear e função de ativação\n",
        "\n",
        "Pronto, agora temos nossas imagens **vetorizadas**. Precisamos fazer com que elas, nossos `x` (**inputs**), \"*entrem*\" em uma função linear e posteriormente \"*passem*\" por uma função de **ativação** que retorne a probabilidade de ela pertencer a classe dos gatos.\n",
        "\n",
        "A figura embaixo **ilustra** este processo de forma **simplificada**. É importante ressaltar que **neste caso** exemplificado não são 12288 elementos que estão determinando uma imagem, mas **apenas** 3.\n",
        "\n",
        "<center><img src=\"https://miro.medium.com/max/1200/1*sPg-0hha7o3iNPjY4n-vow.jpeg\" width=\"60%\"></center>\n",
        "\n",
        "Neste momento, precisamos retornar a ideia **inicial** do neurônio proposto por [McCulloch e Pitts](https://jontalle.web.engr.illinois.edu/uploads/498-NS.19/McCulloch-Pitts-1943-neural-networks.pdf). Em nosso caso, a combinação linear (`z`) é uma **regressão** simples. Onde os valores de `w` e `b` são variáveis que foram **atribuídas** com o valor zero.\n",
        "\n",
        "<center><img src=\"https://miro.medium.com/max/700/1*wldytf7qpc3svHc0hLMiJQ@2x.png\" width=\"30%\"></center>\n",
        "\n",
        "**Obs: os valores dos vetores w e b serão otimizados posteriormente.**\n",
        "\n",
        "É importante notar que `w`, ou sua [transposta](https://www.todamateria.com.br/matriz-transposta/), deve ser um **vetor** de tamanho *1 X 12288*. Isso ocorre porque uma das **propriedades** da  [multiplicação de vetores - ou matrizes](https://www.infoescola.com/matematica/operacoes-com-matrizes-multiplicacao/), obriga o número de **colunas** de uma matriz ter igual valor ao número de **linhas** da outra matriz.\n",
        "\n",
        "<center><img src=\"https://cdn-images-1.medium.com/max/800/1*DwTuChaiToN9qnhPi4cDVg.png\" width=\"70%\"></center>\n",
        "\n",
        "Após realizada a **multiplicação** entre `w` e `x`, obteremos uma matriz *1 x 209*. Basta somar o b, que deve ter a **mesma dimensão** desta última *multiplicação* feita, e temos os valores de nossa combinação linear `z`, uma matriz de dimensão *1 x 209*. Volte um pouquinho no texto e **compare** com a dimensão do `y_train_reshaped`!\n",
        "\n",
        "**Obs: o 209 é considerando os dados de treino, caso fosse os de teste seria 50.**"
      ],
      "metadata": {
        "id": "9pOjDDT5iDAZ"
      }
    },
    {
      "cell_type": "code",
      "source": [
        "#função para inicializar os valores de w e b como zeros\n",
        "def inicializar(x):\n",
        "  \"\"\"\n",
        "    texto explicando a função\n",
        "\n",
        "    dar uma atenção neste b\n",
        "  \"\"\"\n",
        "  w = np.zeros((x.shape[0],1))\n",
        "  b = 0.0\n",
        "  return w,b"
      ],
      "metadata": {
        "id": "tomc0CPjiHL0"
      },
      "execution_count": 49,
      "outputs": []
    },
    {
      "cell_type": "code",
      "source": [
        "#inicializando os weights e o bias com zero\n",
        "w,b = inicializar(x_train_reshaped)\n",
        "print('Dimensões de w:',w.shape)\n",
        "print('Valor de b:',b)"
      ],
      "metadata": {
        "colab": {
          "base_uri": "https://localhost:8080/"
        },
        "id": "09w9tTl0-hrZ",
        "outputId": "5c028d2d-2725-4ce7-efbd-ecda6c695f3c"
      },
      "execution_count": 51,
      "outputs": [
        {
          "output_type": "stream",
          "name": "stdout",
          "text": [
            "Dimensões de w: (12288, 1)\n",
            "Valor de b: 0.0\n"
          ]
        }
      ]
    },
    {
      "cell_type": "markdown",
      "source": [
        "Ok, temos uma combinação **linear** e setamos os valores iniciais de `w` e `b` como **zero**. Tudo feito para a parte **linear**!\n",
        "\n",
        "Agora precisamos de uma **função** que coloque nossos valores em um intervalo entre `0` e `1`, isso é conhecido como [função de ativação](https://www.deeplearningbook.com.br/funcao-de-ativacao/#:~:text=A%20fun%C3%A7%C3%A3o%20de%20ativa%C3%A7%C3%A3o%20%C3%A9%20a%20transforma%C3%A7%C3%A3o%20n%C3%A3o%20linear%20que,simplesmente%20fazem%20uma%20transforma%C3%A7%C3%A3o%20linear.). Estes valores representariam a **probabilidade** da imagem representar ou não um **gato**. Em resumo, nós estamos tentando **simular** a atividade *all-or-none* dos neurônios. Neste caso específico 1 , ou próximo disso, para **gatos** e 0 para não-gatos.\n",
        "\n",
        "A função de **ativação** que utilizaremos está **ilustrada** abaixo, ela é conhecida como [sigmóide](https://pt.wikipedia.org/wiki/Fun%C3%A7%C3%A3o_sigmoide). Observe que seu eixo **vertical** vai de zero até 1. \n",
        "\n",
        "<center><img src=\"https://ai-master.gitbooks.io/logistic-regression/content/assets/sigmoid_function.png\"></center>\n",
        "\n",
        "\n",
        "Com a função de ativação **definida**, podemos **inputar** nossos valores de `z` já estabelecidos. Isso, em termos **matemáticos** significa:\n",
        "\n",
        "<center><img src=\"https://miro.medium.com/max/700/1*NamKraiU7OQaDzkY1FSX3w@2x.png\" width=\"50%\"></center>"
      ],
      "metadata": {
        "id": "Yh0sfEinVptI"
      }
    },
    {
      "cell_type": "code",
      "source": [
        "#função de ativação\n",
        "def sigmoidal(z):\n",
        "  return 1.0/(1.0+np.exp(-z))"
      ],
      "metadata": {
        "id": "1outXFvpVmql"
      },
      "execution_count": 53,
      "outputs": []
    },
    {
      "cell_type": "markdown",
      "source": [
        "**Sintetizando** tudo o que foi feito até agora:\n",
        "\n",
        "* **empilhamos** os valores de cada imagem em um **coluna** distinta da matriz `x`.\n",
        "* essa matriz `x` passará por uma transformação **linear**.\n",
        "* o **resultado** desta transformação será **inputada** em uma função de **ativação** e **retornará** um valor entre zero e 1.\n",
        "* o valor (y) retornado é considerado a **probabilidade** de nossa imagem ser ou não um gato.\n",
        "\n",
        "\n",
        "<center><img src=\"https://cdn-images-1.medium.com/max/800/1*NqQz69UgV083Id6Ex7pcvA.png\"></center>\n",
        "\n"
      ],
      "metadata": {
        "id": "MqPetijHaxYw"
      }
    },
    {
      "cell_type": "markdown",
      "source": [
        "## Forward Propagation - Left to Right\n",
        "\n",
        "texto texto\n",
        "\n",
        "falar de um impulso\n",
        "\n",
        "<center><img src=\"https://lh5.googleusercontent.com/0h2x6KBGVF6sEkHA12kq-lrCGH9iX0_LEtphjCbb0A-WUQDqQwmjU0HvSzb3s_k-pe7tkAL1zC0MqfROHiCLnbogb5R2OVaD9FUX8tFEkYis8K8NlBq1SoBND3wM0oOCNQWFrtI\" width=\"50%\"></center>"
      ],
      "metadata": {
        "id": "5ibOQmMBwE6_"
      }
    },
    {
      "cell_type": "code",
      "source": [
        "#funcao da propagação da esquerda para a direita\n",
        "def forward_propagation(w,b,x):\n",
        "  z = np.dot(w.T,x) + b\n",
        "  a = sigmoidal(z)\n",
        "  return a"
      ],
      "metadata": {
        "id": "W6P5V70Ov5A1"
      },
      "execution_count": null,
      "outputs": []
    },
    {
      "cell_type": "markdown",
      "source": [
        "texto texto"
      ],
      "metadata": {
        "id": "SOk25yfe9DMv"
      }
    },
    {
      "cell_type": "code",
      "source": [
        "#primeiros valores retornados após a aplicação na equação logística\n",
        "a =  forward_propagation(w,b,x_train_reshaped)\n",
        "print('Dimensões da matriz após passar pela função de ativação:',a.shape,'\\n')\n",
        "a"
      ],
      "metadata": {
        "id": "er_5nlqfv5DD",
        "colab": {
          "base_uri": "https://localhost:8080/"
        },
        "outputId": "e805b80f-fac3-45ec-ee46-7fcf4ef00dc9"
      },
      "execution_count": null,
      "outputs": [
        {
          "output_type": "stream",
          "name": "stdout",
          "text": [
            "Dimensões da matriz após passar pela função de ativação: (1, 209) \n",
            "\n"
          ]
        },
        {
          "output_type": "execute_result",
          "data": {
            "text/plain": [
              "array([[0.5, 0.5, 0.5, 0.5, 0.5, 0.5, 0.5, 0.5, 0.5, 0.5, 0.5, 0.5, 0.5,\n",
              "        0.5, 0.5, 0.5, 0.5, 0.5, 0.5, 0.5, 0.5, 0.5, 0.5, 0.5, 0.5, 0.5,\n",
              "        0.5, 0.5, 0.5, 0.5, 0.5, 0.5, 0.5, 0.5, 0.5, 0.5, 0.5, 0.5, 0.5,\n",
              "        0.5, 0.5, 0.5, 0.5, 0.5, 0.5, 0.5, 0.5, 0.5, 0.5, 0.5, 0.5, 0.5,\n",
              "        0.5, 0.5, 0.5, 0.5, 0.5, 0.5, 0.5, 0.5, 0.5, 0.5, 0.5, 0.5, 0.5,\n",
              "        0.5, 0.5, 0.5, 0.5, 0.5, 0.5, 0.5, 0.5, 0.5, 0.5, 0.5, 0.5, 0.5,\n",
              "        0.5, 0.5, 0.5, 0.5, 0.5, 0.5, 0.5, 0.5, 0.5, 0.5, 0.5, 0.5, 0.5,\n",
              "        0.5, 0.5, 0.5, 0.5, 0.5, 0.5, 0.5, 0.5, 0.5, 0.5, 0.5, 0.5, 0.5,\n",
              "        0.5, 0.5, 0.5, 0.5, 0.5, 0.5, 0.5, 0.5, 0.5, 0.5, 0.5, 0.5, 0.5,\n",
              "        0.5, 0.5, 0.5, 0.5, 0.5, 0.5, 0.5, 0.5, 0.5, 0.5, 0.5, 0.5, 0.5,\n",
              "        0.5, 0.5, 0.5, 0.5, 0.5, 0.5, 0.5, 0.5, 0.5, 0.5, 0.5, 0.5, 0.5,\n",
              "        0.5, 0.5, 0.5, 0.5, 0.5, 0.5, 0.5, 0.5, 0.5, 0.5, 0.5, 0.5, 0.5,\n",
              "        0.5, 0.5, 0.5, 0.5, 0.5, 0.5, 0.5, 0.5, 0.5, 0.5, 0.5, 0.5, 0.5,\n",
              "        0.5, 0.5, 0.5, 0.5, 0.5, 0.5, 0.5, 0.5, 0.5, 0.5, 0.5, 0.5, 0.5,\n",
              "        0.5, 0.5, 0.5, 0.5, 0.5, 0.5, 0.5, 0.5, 0.5, 0.5, 0.5, 0.5, 0.5,\n",
              "        0.5, 0.5, 0.5, 0.5, 0.5, 0.5, 0.5, 0.5, 0.5, 0.5, 0.5, 0.5, 0.5,\n",
              "        0.5]])"
            ]
          },
          "metadata": {},
          "execution_count": 18
        }
      ]
    },
    {
      "cell_type": "markdown",
      "source": [
        "mostrar isso de forma vetorizada com imagem"
      ],
      "metadata": {
        "id": "3FtPWF_4Bela"
      }
    },
    {
      "cell_type": "markdown",
      "source": [
        "##Backward Propagation - Right to Left\n",
        "\n",
        "texto texto\n",
        "\n",
        "cost function\n",
        "loss function\n",
        "\n",
        "**COLOCAR UMA IMAGEM BOA**\n",
        "\n",
        "derivar a função"
      ],
      "metadata": {
        "id": "o8IREtgwvYFb"
      }
    },
    {
      "cell_type": "code",
      "source": [
        "#funcao propagacao da direita para a esquerda, \"aprender com os erros\"\n",
        "def backward_propagation(a,x,y):\n",
        "  m = x.shape[1]\n",
        "  dz = a - y\n",
        "  dw = (np.dot(x,dz.T))*(1/m)\n",
        "  db = np.sum(dz) * (1/m)\n",
        "  return dw,db"
      ],
      "metadata": {
        "id": "jfEdAvAUvHbI"
      },
      "execution_count": null,
      "outputs": []
    },
    {
      "cell_type": "code",
      "source": [
        "#realizando a propagação left to right\n",
        "dw,db  = backward_propagation(a,x_train_reshaped,y_train_reshaped)\n",
        "\n",
        "#imprimindo as dimensões das matrizes\n",
        "print('Dimensão do dw:',dw.shape)\n",
        "print('Valor do db:',db)"
      ],
      "metadata": {
        "id": "KJgS4csevQux",
        "colab": {
          "base_uri": "https://localhost:8080/"
        },
        "outputId": "58ea683b-570e-4b67-a7e5-dc8d1431ffe5"
      },
      "execution_count": null,
      "outputs": [
        {
          "output_type": "stream",
          "name": "stdout",
          "text": [
            "Dimensão do dw: (12288, 1)\n",
            "Valor do db: 0.15550239234449761\n"
          ]
        }
      ]
    },
    {
      "cell_type": "code",
      "source": [
        "dw"
      ],
      "metadata": {
        "colab": {
          "base_uri": "https://localhost:8080/"
        },
        "id": "wbRi_rP71YFS",
        "outputId": "00dac159-af72-4dfb-ef2a-8b90dd756509"
      },
      "execution_count": null,
      "outputs": [
        {
          "output_type": "execute_result",
          "data": {
            "text/plain": [
              "array([[12.03827751],\n",
              "       [16.0645933 ],\n",
              "       [12.55502392],\n",
              "       ...,\n",
              "       [12.94019139],\n",
              "       [15.84210526],\n",
              "       [ 8.27511962]])"
            ]
          },
          "metadata": {},
          "execution_count": 21
        }
      ]
    },
    {
      "cell_type": "code",
      "source": [
        "db"
      ],
      "metadata": {
        "colab": {
          "base_uri": "https://localhost:8080/"
        },
        "id": "8UQhS7Vl1ZL_",
        "outputId": "a6d7936a-6877-478a-bfd9-6ef680d36899"
      },
      "execution_count": null,
      "outputs": [
        {
          "output_type": "execute_result",
          "data": {
            "text/plain": [
              "0.15550239234449761"
            ]
          },
          "metadata": {},
          "execution_count": 22
        }
      ]
    },
    {
      "cell_type": "markdown",
      "source": [
        "## Gradiente Descendente\n",
        "texto texto\n",
        "\n",
        "<center><img src=\"https://cdn.builtin.com/sites/www.builtin.com/files/styles/ckeditor_optimize/public/inline-images/national/gradient-descent-convex-function.png\" width=\"30%\"></center>\n",
        "\n",
        "texto texto texto\n",
        "<center><img src=\"https://i.stack.imgur.com/khaJb.png\" width=\"40%\"></center>\n",
        "texto texto\n",
        "<center><img src=\"https://editor.analyticsvidhya.com/uploads/36152Screenshot%20(43).png\" width=\"30%\"></center>\n",
        "\n"
      ],
      "metadata": {
        "id": "_k-snywx-Qx4"
      }
    },
    {
      "cell_type": "code",
      "source": [
        "#função do gradiente descendente\n",
        "def gradient_descent(w,b,dw,db,alpha):\n",
        "  w = w - (alpha*dw)\n",
        "  b = b - (alpha*db)\n",
        "  return w,b"
      ],
      "metadata": {
        "id": "l6Q2XoAFvQ1e"
      },
      "execution_count": 1,
      "outputs": []
    },
    {
      "cell_type": "code",
      "source": [
        "#aplicando o gradiente uma vez\n",
        "w,b = gradient_descent(w,b,dw,db,alpha=0.05)"
      ],
      "metadata": {
        "id": "Ujmw8xHPvQ3x",
        "colab": {
          "base_uri": "https://localhost:8080/",
          "height": 190
        },
        "outputId": "dbca9d4d-5f5b-4011-f59d-c609d8d5bc4d"
      },
      "execution_count": 2,
      "outputs": [
        {
          "output_type": "error",
          "ename": "NameError",
          "evalue": "ignored",
          "traceback": [
            "\u001b[0;31m---------------------------------------------------------------------------\u001b[0m",
            "\u001b[0;31mNameError\u001b[0m                                 Traceback (most recent call last)",
            "\u001b[0;32m<ipython-input-2-b909c7a6d8d5>\u001b[0m in \u001b[0;36m<module>\u001b[0;34m()\u001b[0m\n\u001b[1;32m      1\u001b[0m \u001b[0;31m#aplicando o gradiente uma vez\u001b[0m\u001b[0;34m\u001b[0m\u001b[0;34m\u001b[0m\u001b[0;34m\u001b[0m\u001b[0m\n\u001b[0;32m----> 2\u001b[0;31m \u001b[0mw\u001b[0m\u001b[0;34m,\u001b[0m\u001b[0mb\u001b[0m \u001b[0;34m=\u001b[0m \u001b[0mgradient_descent\u001b[0m\u001b[0;34m(\u001b[0m\u001b[0mw\u001b[0m\u001b[0;34m,\u001b[0m\u001b[0mb\u001b[0m\u001b[0;34m,\u001b[0m\u001b[0mdw\u001b[0m\u001b[0;34m,\u001b[0m\u001b[0mdb\u001b[0m\u001b[0;34m,\u001b[0m\u001b[0malpha\u001b[0m\u001b[0;34m=\u001b[0m\u001b[0;36m0.05\u001b[0m\u001b[0;34m)\u001b[0m\u001b[0;34m\u001b[0m\u001b[0;34m\u001b[0m\u001b[0m\n\u001b[0m",
            "\u001b[0;31mNameError\u001b[0m: name 'w' is not defined"
          ]
        }
      ]
    },
    {
      "cell_type": "code",
      "source": [
        "#visualizando o w após o primeiro gradiente\n",
        "w"
      ],
      "metadata": {
        "id": "iTgARldZC0da"
      },
      "execution_count": null,
      "outputs": []
    },
    {
      "cell_type": "code",
      "source": [
        "#visualizando o b após o primeiro gradiente\n",
        "b"
      ],
      "metadata": {
        "id": "31m-hHo_C2LM"
      },
      "execution_count": null,
      "outputs": []
    },
    {
      "cell_type": "markdown",
      "source": [
        "falar de fazer um left to right novamente"
      ],
      "metadata": {
        "id": "nQF_kbBwD16s"
      }
    },
    {
      "cell_type": "code",
      "source": [
        "#refazendo o forward propagation\n",
        "forward_propagation(w,b,x_train_reshaped)"
      ],
      "metadata": {
        "id": "qEm9GeOXDqK0"
      },
      "execution_count": null,
      "outputs": []
    },
    {
      "cell_type": "markdown",
      "source": [
        "funcao para decidir"
      ],
      "metadata": {
        "id": "w8Krl1svpt7P"
      }
    },
    {
      "cell_type": "code",
      "source": [
        "#funcao para realizar a decisao\n",
        "def decision(a):\n",
        "  for i in range(a.shape[1]):\n",
        "    if a[0][i] >= 0.5:\n",
        "      a[0][i] = 1\n",
        "    else:\n",
        "      a[0][i] = 0\n",
        "  return a"
      ],
      "metadata": {
        "id": "0B8P64y-koOm"
      },
      "execution_count": null,
      "outputs": []
    },
    {
      "cell_type": "markdown",
      "source": [
        "## Realizando iterações do Gradiente Descendente\n",
        "\n",
        "texto texto texto"
      ],
      "metadata": {
        "id": "mOPNU8H3sCBD"
      }
    },
    {
      "cell_type": "code",
      "source": [
        "#iterações do gradiente descendente\n",
        "iteracoes = 1000\n",
        "lista_de_acertos , lista_de_iteracoes = [] , []\n",
        "for i in range(iteracoes):\n",
        "  a = forward_propagation(w,b,x_train_reshaped)\n",
        "  dw,db = backward_propagation(a,x_train_reshaped,y_train_reshaped)\n",
        "  w,b = gradient_descent(w,b,dw,db,alpha=0.001)\n",
        "  previsoes = decision(a)\n",
        "  if (i % 100) == 0:\n",
        "    acertos = (previsoes == y_train_reshaped).sum() / previsoes.shape[1]\n",
        "    print('Iteração:',i)\n",
        "    print('Acertos:',acertos) \n",
        "    lista_de_iteracoes.append(i)\n",
        "    lista_de_acertos.append(acertos)"
      ],
      "metadata": {
        "colab": {
          "base_uri": "https://localhost:8080/"
        },
        "id": "t5ZfwBv_sAll",
        "outputId": "805177a4-bc6c-443c-c14d-3bc0abf1b632"
      },
      "execution_count": null,
      "outputs": [
        {
          "output_type": "stream",
          "name": "stdout",
          "text": [
            "Iteração: 0\n",
            "Acertos: 0.6555023923444976\n",
            "Iteração: 100\n",
            "Acertos: 0.6555023923444976\n",
            "Iteração: 200\n",
            "Acertos: 0.6555023923444976\n",
            "Iteração: 300\n",
            "Acertos: 0.6555023923444976\n",
            "Iteração: 400\n",
            "Acertos: 0.6555023923444976\n",
            "Iteração: 500\n",
            "Acertos: 0.6555023923444976\n",
            "Iteração: 600\n",
            "Acertos: 0.6555023923444976\n",
            "Iteração: 700\n",
            "Acertos: 0.6555023923444976\n",
            "Iteração: 800\n",
            "Acertos: 0.6555023923444976\n",
            "Iteração: 900\n",
            "Acertos: 0.6555023923444976\n",
            "Iteração: 1000\n",
            "Acertos: 0.6555023923444976\n",
            "Iteração: 1100\n",
            "Acertos: 0.6555023923444976\n",
            "Iteração: 1200\n",
            "Acertos: 0.6555023923444976\n",
            "Iteração: 1300\n",
            "Acertos: 0.6555023923444976\n",
            "Iteração: 1400\n",
            "Acertos: 0.6555023923444976\n",
            "Iteração: 1500\n",
            "Acertos: 0.6555023923444976\n",
            "Iteração: 1600\n",
            "Acertos: 0.6555023923444976\n",
            "Iteração: 1700\n",
            "Acertos: 0.6555023923444976\n",
            "Iteração: 1800\n",
            "Acertos: 0.6555023923444976\n",
            "Iteração: 1900\n",
            "Acertos: 0.6507177033492823\n",
            "Iteração: 2000\n",
            "Acertos: 0.6555023923444976\n",
            "Iteração: 2100\n",
            "Acertos: 0.7368421052631579\n",
            "Iteração: 2200\n",
            "Acertos: 0.7416267942583732\n",
            "Iteração: 2300\n",
            "Acertos: 0.7416267942583732\n",
            "Iteração: 2400\n",
            "Acertos: 0.7416267942583732\n",
            "Iteração: 2500\n",
            "Acertos: 0.7464114832535885\n",
            "Iteração: 2600\n",
            "Acertos: 0.7511961722488039\n",
            "Iteração: 2700\n",
            "Acertos: 0.7559808612440191\n",
            "Iteração: 2800\n",
            "Acertos: 0.7607655502392344\n",
            "Iteração: 2900\n",
            "Acertos: 0.7607655502392344\n",
            "Iteração: 3000\n",
            "Acertos: 0.7703349282296651\n",
            "Iteração: 3100\n",
            "Acertos: 0.7703349282296651\n",
            "Iteração: 3200\n",
            "Acertos: 0.7799043062200957\n",
            "Iteração: 3300\n",
            "Acertos: 0.7799043062200957\n",
            "Iteração: 3400\n",
            "Acertos: 0.7894736842105263\n",
            "Iteração: 3500\n",
            "Acertos: 0.7894736842105263\n",
            "Iteração: 3600\n",
            "Acertos: 0.7894736842105263\n",
            "Iteração: 3700\n",
            "Acertos: 0.8133971291866029\n",
            "Iteração: 3800\n",
            "Acertos: 0.8133971291866029\n",
            "Iteração: 3900\n",
            "Acertos: 0.8181818181818182\n",
            "Iteração: 4000\n",
            "Acertos: 0.8373205741626795\n",
            "Iteração: 4100\n",
            "Acertos: 0.84688995215311\n",
            "Iteração: 4200\n",
            "Acertos: 0.8660287081339713\n",
            "Iteração: 4300\n",
            "Acertos: 0.8660287081339713\n",
            "Iteração: 4400\n",
            "Acertos: 0.8564593301435407\n",
            "Iteração: 4500\n",
            "Acertos: 0.8660287081339713\n",
            "Iteração: 4600\n",
            "Acertos: 0.861244019138756\n",
            "Iteração: 4700\n",
            "Acertos: 0.8660287081339713\n",
            "Iteração: 4800\n",
            "Acertos: 0.861244019138756\n",
            "Iteração: 4900\n",
            "Acertos: 0.861244019138756\n",
            "Iteração: 5000\n",
            "Acertos: 0.861244019138756\n",
            "Iteração: 5100\n",
            "Acertos: 0.8708133971291866\n",
            "Iteração: 5200\n",
            "Acertos: 0.8803827751196173\n",
            "Iteração: 5300\n",
            "Acertos: 0.8708133971291866\n",
            "Iteração: 5400\n",
            "Acertos: 0.8708133971291866\n",
            "Iteração: 5500\n",
            "Acertos: 0.8755980861244019\n",
            "Iteração: 5600\n",
            "Acertos: 0.8708133971291866\n",
            "Iteração: 5700\n",
            "Acertos: 0.8755980861244019\n",
            "Iteração: 5800\n",
            "Acertos: 0.8851674641148325\n",
            "Iteração: 5900\n",
            "Acertos: 0.8851674641148325\n",
            "Iteração: 6000\n",
            "Acertos: 0.8851674641148325\n",
            "Iteração: 6100\n",
            "Acertos: 0.8947368421052632\n",
            "Iteração: 6200\n",
            "Acertos: 0.8755980861244019\n",
            "Iteração: 6300\n",
            "Acertos: 0.8755980861244019\n",
            "Iteração: 6400\n",
            "Acertos: 0.8947368421052632\n",
            "Iteração: 6500\n",
            "Acertos: 0.8755980861244019\n",
            "Iteração: 6600\n",
            "Acertos: 0.8947368421052632\n",
            "Iteração: 6700\n",
            "Acertos: 0.8995215311004785\n",
            "Iteração: 6800\n",
            "Acertos: 0.8851674641148325\n",
            "Iteração: 6900\n",
            "Acertos: 0.8995215311004785\n",
            "Iteração: 7000\n",
            "Acertos: 0.9138755980861244\n",
            "Iteração: 7100\n",
            "Acertos: 0.9090909090909091\n",
            "Iteração: 7200\n",
            "Acertos: 0.9043062200956937\n",
            "Iteração: 7300\n",
            "Acertos: 0.9186602870813397\n",
            "Iteração: 7400\n",
            "Acertos: 0.9186602870813397\n",
            "Iteração: 7500\n",
            "Acertos: 0.9234449760765551\n",
            "Iteração: 7600\n",
            "Acertos: 0.937799043062201\n",
            "Iteração: 7700\n",
            "Acertos: 0.937799043062201\n",
            "Iteração: 7800\n",
            "Acertos: 0.9330143540669856\n",
            "Iteração: 7900\n",
            "Acertos: 0.9330143540669856\n",
            "Iteração: 8000\n",
            "Acertos: 0.9330143540669856\n",
            "Iteração: 8100\n",
            "Acertos: 0.9330143540669856\n",
            "Iteração: 8200\n",
            "Acertos: 0.937799043062201\n",
            "Iteração: 8300\n",
            "Acertos: 0.937799043062201\n",
            "Iteração: 8400\n",
            "Acertos: 0.9425837320574163\n",
            "Iteração: 8500\n",
            "Acertos: 0.937799043062201\n",
            "Iteração: 8600\n",
            "Acertos: 0.9330143540669856\n",
            "Iteração: 8700\n",
            "Acertos: 0.9425837320574163\n",
            "Iteração: 8800\n",
            "Acertos: 0.9425837320574163\n",
            "Iteração: 8900\n",
            "Acertos: 0.937799043062201\n",
            "Iteração: 9000\n",
            "Acertos: 0.9330143540669856\n",
            "Iteração: 9100\n",
            "Acertos: 0.9330143540669856\n",
            "Iteração: 9200\n",
            "Acertos: 0.9473684210526315\n",
            "Iteração: 9300\n",
            "Acertos: 0.9330143540669856\n",
            "Iteração: 9400\n",
            "Acertos: 0.937799043062201\n",
            "Iteração: 9500\n",
            "Acertos: 0.937799043062201\n",
            "Iteração: 9600\n",
            "Acertos: 0.9425837320574163\n",
            "Iteração: 9700\n",
            "Acertos: 0.9330143540669856\n",
            "Iteração: 9800\n",
            "Acertos: 0.9330143540669856\n",
            "Iteração: 9900\n",
            "Acertos: 0.9473684210526315\n",
            "Iteração: 10000\n",
            "Acertos: 0.9569377990430622\n",
            "Iteração: 10100\n",
            "Acertos: 0.9569377990430622\n",
            "Iteração: 10200\n",
            "Acertos: 0.9521531100478469\n",
            "Iteração: 10300\n",
            "Acertos: 0.9473684210526315\n",
            "Iteração: 10400\n",
            "Acertos: 0.9569377990430622\n",
            "Iteração: 10500\n",
            "Acertos: 0.9521531100478469\n",
            "Iteração: 10600\n",
            "Acertos: 0.9617224880382775\n",
            "Iteração: 10700\n",
            "Acertos: 0.9617224880382775\n",
            "Iteração: 10800\n",
            "Acertos: 0.9521531100478469\n",
            "Iteração: 10900\n",
            "Acertos: 0.9569377990430622\n",
            "Iteração: 11000\n",
            "Acertos: 0.9569377990430622\n",
            "Iteração: 11100\n",
            "Acertos: 0.9617224880382775\n",
            "Iteração: 11200\n",
            "Acertos: 0.9617224880382775\n",
            "Iteração: 11300\n",
            "Acertos: 0.9569377990430622\n",
            "Iteração: 11400\n",
            "Acertos: 0.9712918660287081\n",
            "Iteração: 11500\n",
            "Acertos: 0.9712918660287081\n",
            "Iteração: 11600\n",
            "Acertos: 0.9665071770334929\n",
            "Iteração: 11700\n",
            "Acertos: 0.9521531100478469\n",
            "Iteração: 11800\n",
            "Acertos: 0.9569377990430622\n",
            "Iteração: 11900\n",
            "Acertos: 0.9521531100478469\n",
            "Iteração: 12000\n",
            "Acertos: 0.9521531100478469\n",
            "Iteração: 12100\n",
            "Acertos: 0.9569377990430622\n",
            "Iteração: 12200\n",
            "Acertos: 0.9856459330143541\n",
            "Iteração: 12300\n",
            "Acertos: 0.9425837320574163\n",
            "Iteração: 12400\n",
            "Acertos: 0.9856459330143541\n",
            "Iteração: 12500\n",
            "Acertos: 0.9808612440191388\n",
            "Iteração: 12600\n",
            "Acertos: 0.9808612440191388\n",
            "Iteração: 12700\n",
            "Acertos: 0.9856459330143541\n",
            "Iteração: 12800\n",
            "Acertos: 0.9569377990430622\n",
            "Iteração: 12900\n",
            "Acertos: 0.9712918660287081\n",
            "Iteração: 13000\n",
            "Acertos: 0.9808612440191388\n",
            "Iteração: 13100\n",
            "Acertos: 0.9904306220095693\n",
            "Iteração: 13200\n",
            "Acertos: 0.9904306220095693\n",
            "Iteração: 13300\n",
            "Acertos: 0.9760765550239234\n",
            "Iteração: 13400\n",
            "Acertos: 0.9904306220095693\n",
            "Iteração: 13500\n",
            "Acertos: 0.9904306220095693\n",
            "Iteração: 13600\n",
            "Acertos: 0.9712918660287081\n",
            "Iteração: 13700\n",
            "Acertos: 0.9712918660287081\n",
            "Iteração: 13800\n",
            "Acertos: 0.9760765550239234\n",
            "Iteração: 13900\n",
            "Acertos: 0.9904306220095693\n",
            "Iteração: 14000\n",
            "Acertos: 0.9904306220095693\n",
            "Iteração: 14100\n",
            "Acertos: 0.9760765550239234\n",
            "Iteração: 14200\n",
            "Acertos: 0.9904306220095693\n",
            "Iteração: 14300\n",
            "Acertos: 0.9904306220095693\n",
            "Iteração: 14400\n",
            "Acertos: 0.9856459330143541\n",
            "Iteração: 14500\n",
            "Acertos: 0.9904306220095693\n",
            "Iteração: 14600\n",
            "Acertos: 0.9617224880382775\n",
            "Iteração: 14700\n",
            "Acertos: 0.9808612440191388\n",
            "Iteração: 14800\n",
            "Acertos: 0.9904306220095693\n",
            "Iteração: 14900\n",
            "Acertos: 0.9904306220095693\n"
          ]
        }
      ]
    },
    {
      "cell_type": "markdown",
      "source": [
        "fazer um gráfico"
      ],
      "metadata": {
        "id": "zZtPqgz4uTUz"
      }
    },
    {
      "cell_type": "code",
      "source": [
        "plt.plot(lista_de_iteracoes,lista_de_acertos);"
      ],
      "metadata": {
        "colab": {
          "base_uri": "https://localhost:8080/",
          "height": 264
        },
        "id": "4ei0dKj4sA0r",
        "outputId": "fbd7388d-3e6d-4b7f-dbf9-0075039daa91"
      },
      "execution_count": null,
      "outputs": [
        {
          "output_type": "display_data",
          "data": {
            "image/png": "[encoded data removed]",
            "text/plain": [
              "<Figure size 432x288 with 1 Axes>"
            ]
          },
          "metadata": {
            "needs_background": "light"
          }
        }
      ]
    },
    {
      "cell_type": "markdown",
      "source": [
        "# Utilizando para dados não treinados\n",
        "\n",
        "texto texto texto"
      ],
      "metadata": {
        "id": "HWlr02VMuWfz"
      }
    },
    {
      "cell_type": "code",
      "source": [
        "#passando os dados desconhecidos\n",
        "previsoes = decision(forward_propagation(w,b,x_test_reshaped))\n",
        "\n",
        "#comparando as previsoes\n",
        "porcentagem_de_acertos = (previsoes == y_test_reshaped).sum() / previsoes.shape[1]\n",
        "\n",
        "print('Acuracidade da rede neural:',porcentagem_de_acertos)"
      ],
      "metadata": {
        "colab": {
          "base_uri": "https://localhost:8080/"
        },
        "id": "M4RqsZlItDVk",
        "outputId": "67d67403-8a08-4444-e50d-ca0b191a9346"
      },
      "execution_count": null,
      "outputs": [
        {
          "output_type": "stream",
          "name": "stdout",
          "text": [
            "Acuracidade do modelo 0.76\n"
          ]
        }
      ]
    },
    {
      "cell_type": "markdown",
      "source": [
        "#Criando um modelo completo\n",
        "texto texto texto"
      ],
      "metadata": {
        "id": "zTFHw4OruChb"
      }
    },
    {
      "cell_type": "code",
      "source": [
        ""
      ],
      "metadata": {
        "id": "Eok_j7F2uF0u"
      },
      "execution_count": null,
      "outputs": []
    },
    {
      "cell_type": "code",
      "source": [
        ""
      ],
      "metadata": {
        "id": "Vr5FMb6muF3B"
      },
      "execution_count": null,
      "outputs": []
    },
    {
      "cell_type": "markdown",
      "source": [
        "#Testando com diferentes parâmetros\n",
        "\n",
        "texto texto\n",
        " learning rate"
      ],
      "metadata": {
        "id": "fzaUphjqxcFk"
      }
    },
    {
      "cell_type": "code",
      "source": [
        ""
      ],
      "metadata": {
        "id": "JVB8Trnjxf3p"
      },
      "execution_count": null,
      "outputs": []
    },
    {
      "cell_type": "code",
      "source": [
        ""
      ],
      "metadata": {
        "id": "K3ra5BGRxf53"
      },
      "execution_count": null,
      "outputs": []
    },
    {
      "cell_type": "code",
      "source": [
        ""
      ],
      "metadata": {
        "id": "5jeBxStMxf8K"
      },
      "execution_count": null,
      "outputs": []
    },
    {
      "cell_type": "code",
      "source": [
        ""
      ],
      "metadata": {
        "id": "Wj7ScpZNxf-F"
      },
      "execution_count": null,
      "outputs": []
    },
    {
      "cell_type": "markdown",
      "source": [
        "#Testando com uma imagem desconhecida da internet\n",
        "\n",
        "texto texto texto\n",
        "falar do redimensionamento"
      ],
      "metadata": {
        "id": "FWmp8noE0Okb"
      }
    },
    {
      "cell_type": "code",
      "source": [
        ""
      ],
      "metadata": {
        "id": "gtyASWZ50S3-"
      },
      "execution_count": null,
      "outputs": []
    },
    {
      "cell_type": "code",
      "source": [
        ""
      ],
      "metadata": {
        "id": "hzTConn70S6R"
      },
      "execution_count": null,
      "outputs": []
    },
    {
      "cell_type": "code",
      "source": [
        ""
      ],
      "metadata": {
        "id": "wviNUh1K0S8c"
      },
      "execution_count": null,
      "outputs": []
    },
    {
      "cell_type": "code",
      "source": [
        ""
      ],
      "metadata": {
        "id": "TKmQDmgS0S-f"
      },
      "execution_count": null,
      "outputs": []
    },
    {
      "cell_type": "markdown",
      "source": [
        "#Considerações Finais\n",
        "\n",
        "texto texto texto"
      ],
      "metadata": {
        "id": "4nThXqNrVM1m"
      }
    }
  ]
}