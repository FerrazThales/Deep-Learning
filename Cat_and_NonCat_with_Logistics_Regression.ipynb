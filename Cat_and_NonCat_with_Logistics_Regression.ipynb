{
  "nbformat": 4,
  "nbformat_minor": 0,
  "metadata": {
    "colab": {
      "name": "Cat and NonCat with Logistics Regression.ipynb",
      "provenance": [],
      "authorship_tag": "ABX9TyO/NDya0TXCeatEfMpJbFNZ",
      "include_colab_link": true
    },
    "kernelspec": {
      "name": "python3",
      "display_name": "Python 3"
    },
    "language_info": {
      "name": "python"
    }
  },
  "cells": [
    {
      "cell_type": "markdown",
      "metadata": {
        "id": "view-in-github",
        "colab_type": "text"
      },
      "source": [
        "<a href=\"https://colab.research.google.com/github/FerrazThales/Deep-Learning/blob/main/Cat_and_NonCat_with_Logistics_Regression.ipynb\" target=\"_parent\"><img src=\"https://colab.research.google.com/assets/colab-badge.svg\" alt=\"Open In Colab\"/></a>"
      ]
    },
    {
      "cell_type": "markdown",
      "source": [
        "<h1 align=\"center\"><b>Encontre eu e meus projetos nas redes sociais!</b></h1>\n",
        "<table>\n",
        "  <tr>\n",
        "  <td><a href=\"https://thalesferraz.medium.com/\">\n",
        "  <img src=\"https://github.com/FerrazThales/FerrazThales/blob/main/logo_gif.gif?raw=true\" width=\"800\" title=\"Olá, Meu nome é Thales e sou cientista de Dados!\"/>\n",
        "  </a>\n",
        "  </td>\n",
        "  <td><a href=\"https://github.com/FerrazThales\">\n",
        "  <img hspace=30 vspace=110 src=\"https://image.flaticon.com/icons/png/512/1051/1051326.png\" width=\"60%\" title=\"Entre em meu Github e veja mais projetos!\" /> \n",
        "  </a>\n",
        "  </td>\n",
        "  <td>\n",
        "  <a href=\"\">\n",
        "  <img vspace=110 src=\"https://download.logo.wine/logo/Medium_(website)/Medium_(website)-Logo.wine.png\" width=\"800\" title=\"Veja este meu projeto no Medium!\"/>\n",
        "  </a>\n",
        "  </td>\n",
        "  <td><a href=\"https://www.linkedin.com/in/thalesdefreitasferraz/\"><img vspace=150 src=\"https://image.flaticon.com/icons/png/512/889/889122.png\" width=\"40%\" title=\"Vamos trocar uma idéia sobre Data Science no LinkedIn?\" />\n",
        "  </a>\n",
        "  </td>\n",
        "  </tr>\n",
        "</table>\n"
      ],
      "metadata": {
        "id": "A7k-YvrQl6Fu"
      }
    },
    {
      "cell_type": "markdown",
      "source": [
        "# O que você vai aprender neste projeto:\n",
        "\n",
        "* O que é uma são redes **neurais** artificiais e como construir uma **simples**.\n",
        "* Como dados de imagens são armazenados.\n",
        "* x\n"
      ],
      "metadata": {
        "id": "rB_doX0vl60E"
      }
    },
    {
      "cell_type": "markdown",
      "source": [
        "AI is the new eletricity. a little explanation about features and a draw of a neural network.\n",
        "\n",
        "supervised learning , structured data and unstructured data\n",
        "\n",
        "scales deep learning progress"
      ],
      "metadata": {
        "id": "7CrTbyGNRmIi"
      }
    },
    {
      "cell_type": "markdown",
      "source": [
        "# Introdução a Redes Neurais Artificiais\n",
        "\n",
        "> Todo fazer é um conhecer e todo conhecer é um fazer.  *(Maturana e Varela, A árvore do conhecimento).*\n",
        "\n",
        "A arquitetura do **sistema** nervoso vem sendo estudada há muito tempo. Os avanços da **neurociência** permitiram entender, de forma resumida, como as atividades ocorrem nas células cerebrais.\n",
        "\n",
        "Na imagem abaixo observamos que os **impulsos** nervosos são passados de um neurônio ao outro **através** de seus axônios (*saída*) e dendritos (*chegada*). A efetividade desta **sinapse** (*ponto de contato estreito entre os neurônios*) está **subordinada** ao estado de excitação/atividade de **cada** impulso. Caso não existam condições **favoráveis** ao impulso, a **comunicação** entre os neurônios não prossegue.\n",
        "\n",
        "<center><img src=\"https://cdn.kastatic.org/ka-perseus-images/b404bfc9d6246ff3475f6fd2b34fbb7374fc4873.png\" width=\"80%\"></center>\n",
        "<p></p>\n",
        "\n",
        "Foi no paper [A logical calculus of the ideias immanent in nervous activity](https://jontalle.web.engr.illinois.edu/uploads/498-NS.19/McCulloch-Pitts-1943-neural-networks.pdf) publicado em **1943** que *McCulloch e Pitts*, inspirados pelo funcionamento dos **neurônios** reais, propuseram um modelo **matemático** que simulava os comportamentos de *all-or-none* das **atividades** neurofisiológicas. Ou seja, este **tudo-ou-nada** representava se o sinal iria **prosseguir** ao próximo neurônio ou não - e isto estava condicionado a uma proposição **lógica**. \n",
        "\n",
        "A imagem abaixo ilustra este simples **modelo** matemático. As **entradas** (*x1,x2,x3...*) ingressam no neurônio, se combinam **linearmente** e ficam dependentes de uma função de **ativação**. Caso esta função retorne um valor **favorável** `(1)`, o impulso prosegue.\n",
        "\n",
        "<center><img src=\"https://miro.medium.com/max/738/1*fDHlg9iNo0LLK4czQqqO9A.png\"></center>\n",
        "\n",
        "Portanto, uma rede neural artificial é isso. \n",
        "\n",
        "- explicar a regressão logística\n",
        "  - o obj do modelo logístico é estimar p(probabilidade) para para uma combinação linear das variáveis independentes.\n",
        "\n",
        "\n",
        "[creditos](https://www.datasciencecentral.com/profiles/blogs/logistic-regression-as-a-neural-network)\n",
        "<center><img src=\"https://storage.ning.com/topology/rest/1.0/file/get/2408482975?profile=RESIZE_710x\"></center>"
      ],
      "metadata": {
        "id": "Di3qDdauVFog"
      }
    },
    {
      "cell_type": "code",
      "execution_count": null,
      "metadata": {
        "id": "8owiXSCbU9y-"
      },
      "outputs": [],
      "source": [
        "#ignorar os warnings\n",
        "import warnings\n",
        "warnings.filterwarnings('ignore')\n",
        "\n",
        "#importando as bibliotecas que serão utilizadas\n",
        "import numpy as np\n",
        "import h5py\n",
        "import matplotlib.pyplot as plt\n",
        "%matplotlib inline"
      ]
    },
    {
      "cell_type": "markdown",
      "source": [
        "#Obtenção dos dados\n",
        "\n",
        "Estas bases de dados foram obtidas no [Kaggle](https://www.kaggle.com/muhammeddalkran/catvnoncat). De acordo com o autor, elas foram **disponibilizadas** como desafio de uma de suas aulas de **Introdução a Visão Computacional** na *Bilkent University*. As bases de dados vieram no formato `h5` e os dados já estavam **separados** em treino e teste.\n",
        "\n",
        "Em resumo, estes registros trazem informações de **imagens** (64x64 pixels) que contém - ou não contém, gatos. Desta forma, as imagens que contém **gatos** estão rotuladas com o valor 1 e as que não contém estão **rotuladas** com o valor **zero**.\n",
        "\n",
        "Caso os **links** dos datasets não estejam funcionando, você pode buscá-los em meu [Github](https://github.com/FerrazThales/Deep-Learning/tree/main/catvnoncat).\n"
      ],
      "metadata": {
        "id": "D0rHcQfzdw__"
      }
    },
    {
      "cell_type": "code",
      "source": [
        "#guardando os endereços dos dados de treino e teste\n",
        "train_data_path = \"/content/train_catvnoncat.h5\"\n",
        "test_data_path = \"/content/test_catvnoncat.h5\"\n",
        "\n",
        "#importando os dados de treino e teste\n",
        "train_data = h5py.File(train_data_path,'r')\n",
        "test_data = h5py.File(test_data_path,'r')\n",
        "\n",
        "#armazenando as variáveis do treino\n",
        "x_train = train_data['train_set_x']\n",
        "y_train = train_data['train_set_y']\n",
        "\n",
        "#armazenando as variáveis de teste\n",
        "x_test = test_data['test_set_x']\n",
        "y_test = test_data['test_set_y']"
      ],
      "metadata": {
        "id": "wyvxOp6xdyX7"
      },
      "execution_count": null,
      "outputs": []
    },
    {
      "cell_type": "markdown",
      "source": [
        "#Análise Exploratória dos Dados\n",
        "\n",
        "texto texto texto\n",
        "\n",
        "comentar do array (50,)"
      ],
      "metadata": {
        "id": "dv-m1iPfh0f7"
      }
    },
    {
      "cell_type": "code",
      "source": [
        "#visualizando o tipo de dado\n",
        "type(x_train)"
      ],
      "metadata": {
        "colab": {
          "base_uri": "https://localhost:8080/"
        },
        "id": "VTPJyiFTpEPj",
        "outputId": "ab10325a-4cfd-4332-dd24-51ffaf7f653d"
      },
      "execution_count": null,
      "outputs": [
        {
          "output_type": "execute_result",
          "data": {
            "text/plain": [
              "h5py._hl.dataset.Dataset"
            ]
          },
          "metadata": {},
          "execution_count": 3
        }
      ]
    },
    {
      "cell_type": "code",
      "source": [
        "#avaliando a quantidade de valores para treino\n",
        "print('Variavéis independentes de treino:', x_train.shape)\n",
        "print('Variavéis dependentes de treino:', y_train.shape)"
      ],
      "metadata": {
        "colab": {
          "base_uri": "https://localhost:8080/"
        },
        "id": "l7_ysn38eFNQ",
        "outputId": "e98d7fe8-2d51-4884-e185-2bf632cd06e3"
      },
      "execution_count": null,
      "outputs": [
        {
          "output_type": "stream",
          "name": "stdout",
          "text": [
            "Variavéis independentes de treino: (209, 64, 64, 3)\n",
            "Variavéis dependentes de treino: (209,)\n"
          ]
        }
      ]
    },
    {
      "cell_type": "code",
      "source": [
        "#avaliando a quantidade de valores para teste\n",
        "print('Variavéis independentes de teste:', x_test.shape)\n",
        "print('Variavéis dependentes de teste:', y_test.shape)"
      ],
      "metadata": {
        "colab": {
          "base_uri": "https://localhost:8080/"
        },
        "id": "qLVVVoVseFPe",
        "outputId": "f7bbcdb9-4b6b-4a1e-c44b-4737b1005a53"
      },
      "execution_count": null,
      "outputs": [
        {
          "output_type": "stream",
          "name": "stdout",
          "text": [
            "Variavéis independentes de teste: (50, 64, 64, 3)\n",
            "Variavéis dependentes de teste: (50,)\n"
          ]
        }
      ]
    },
    {
      "cell_type": "markdown",
      "source": [
        "falar deste 50,\n",
        "\n",
        "explicar o 64 x 64 e 3 , ver o type\n",
        "\n",
        "<center><img src=\"https://www.researchgate.net/profile/Belal-Ayyoub/publication/339435251/figure/fig1/AS:861467612028928@1582401292006/Color-image-and-RGB-matrices.jpg\"></center>"
      ],
      "metadata": {
        "id": "ccda4_e-jtN0"
      }
    },
    {
      "cell_type": "code",
      "source": [
        "#observando os parâmetros da primeira imagem\n",
        "x_train[0].shape"
      ],
      "metadata": {
        "colab": {
          "base_uri": "https://localhost:8080/"
        },
        "id": "twqVmddqjCjr",
        "outputId": "27cac257-959d-47d6-d524-495b33c81731"
      },
      "execution_count": null,
      "outputs": [
        {
          "output_type": "execute_result",
          "data": {
            "text/plain": [
              "(64, 64, 3)"
            ]
          },
          "metadata": {},
          "execution_count": 6
        }
      ]
    },
    {
      "cell_type": "code",
      "source": [
        "#analisando o primeiro registro\n",
        "x_train[0]"
      ],
      "metadata": {
        "colab": {
          "base_uri": "https://localhost:8080/"
        },
        "id": "NW_-q4utkveY",
        "outputId": "0ba34d2c-5643-443e-a15b-f084c59cbaf8"
      },
      "execution_count": null,
      "outputs": [
        {
          "output_type": "execute_result",
          "data": {
            "text/plain": [
              "array([[[17, 31, 56],\n",
              "        [22, 33, 59],\n",
              "        [25, 35, 62],\n",
              "        ...,\n",
              "        [ 1, 28, 57],\n",
              "        [ 1, 26, 56],\n",
              "        [ 1, 22, 51]],\n",
              "\n",
              "       [[25, 36, 62],\n",
              "        [28, 38, 64],\n",
              "        [30, 40, 67],\n",
              "        ...,\n",
              "        [ 1, 27, 56],\n",
              "        [ 1, 25, 55],\n",
              "        [ 2, 21, 51]],\n",
              "\n",
              "       [[32, 40, 67],\n",
              "        [34, 42, 69],\n",
              "        [35, 42, 70],\n",
              "        ...,\n",
              "        [ 1, 25, 55],\n",
              "        [ 0, 24, 54],\n",
              "        [ 1, 21, 51]],\n",
              "\n",
              "       ...,\n",
              "\n",
              "       [[ 0,  0,  0],\n",
              "        [ 0,  0,  0],\n",
              "        [ 0,  0,  0],\n",
              "        ...,\n",
              "        [ 0,  0,  0],\n",
              "        [ 0,  0,  0],\n",
              "        [ 0,  0,  0]],\n",
              "\n",
              "       [[ 0,  0,  0],\n",
              "        [ 0,  0,  0],\n",
              "        [ 0,  0,  0],\n",
              "        ...,\n",
              "        [ 0,  0,  0],\n",
              "        [ 0,  0,  0],\n",
              "        [ 0,  0,  0]],\n",
              "\n",
              "       [[ 0,  0,  0],\n",
              "        [ 0,  0,  0],\n",
              "        [ 0,  0,  0],\n",
              "        ...,\n",
              "        [ 0,  0,  0],\n",
              "        [ 0,  0,  0],\n",
              "        [ 0,  0,  0]]], dtype=uint8)"
            ]
          },
          "metadata": {},
          "execution_count": 7
        }
      ]
    },
    {
      "cell_type": "code",
      "source": [
        "#visualizando a primeira imagem\n",
        "plt.imshow(x_train[0]);\n",
        "plt.title('Rótulo: {} - não contém gato'.format(y_train[0]));"
      ],
      "metadata": {
        "colab": {
          "base_uri": "https://localhost:8080/",
          "height": 281
        },
        "id": "BDI6peGXjCl1",
        "outputId": "46b009db-719e-42ce-de3b-17e00cf8c1e2"
      },
      "execution_count": null,
      "outputs": [
        {
          "output_type": "display_data",
          "data": {
            "image/png": "[encoded data removed]",
            "text/plain": [
              "<Figure size 432x288 with 1 Axes>"
            ]
          },
          "metadata": {
            "needs_background": "light"
          }
        }
      ]
    },
    {
      "cell_type": "markdown",
      "source": [
        "imagem de um gato (1), comentar da régua"
      ],
      "metadata": {
        "id": "LiiemWr9kl2q"
      }
    },
    {
      "cell_type": "code",
      "source": [
        "#exibindo a imagem de um gato da base de treino\n",
        "plt.imshow(x_train[7])\n",
        "plt.title('Rótulo: {} - contém gato'.format(y_train[7]));"
      ],
      "metadata": {
        "colab": {
          "base_uri": "https://localhost:8080/",
          "height": 281
        },
        "id": "Ru8RDdGhjCoA",
        "outputId": "6798966b-4cbb-40de-9519-b0bd3873e8fb"
      },
      "execution_count": null,
      "outputs": [
        {
          "output_type": "display_data",
          "data": {
            "image/png": "[encoded data removed]",
            "text/plain": [
              "<Figure size 432x288 with 1 Axes>"
            ]
          },
          "metadata": {
            "needs_background": "light"
          }
        }
      ]
    },
    {
      "cell_type": "markdown",
      "source": [
        "#Ajustando os Dados\n",
        "\n",
        "texto texto texto\n",
        "\n",
        "falar do reshape\n",
        " 64x64 x 3 = 12288 entradas, cada um representa um x"
      ],
      "metadata": {
        "id": "KbeIH_aAnJFm"
      }
    },
    {
      "cell_type": "code",
      "source": [
        "#transformando em um array da numpy\n",
        "x_train = np.array(x_train)\n",
        "y_train = np.array(y_train)\n",
        "x_test = np.array(x_test)\n",
        "y_test = np.array(y_test)"
      ],
      "metadata": {
        "id": "oPm_h7lIlCZ3"
      },
      "execution_count": null,
      "outputs": []
    },
    {
      "cell_type": "markdown",
      "source": [
        "pega quantas linhas vc quiser, mas eu quero com tantas colunas"
      ],
      "metadata": {
        "id": "IgAbnl0vp-Nz"
      }
    },
    {
      "cell_type": "code",
      "source": [
        "#quantidade de dados de treino e teste\n",
        "number_of_train = x_train.shape[0]\n",
        "number_of_test = x_test.shape[0]\n",
        "\n",
        "#fazendo o reshape dos x de treino e teste\n",
        "x_train_reshaped = x_train.reshape(number_of_train,-1).T\n",
        "x_test_reshaped = x_test.reshape(number_of_test,-1).T\n",
        "\n",
        "#fazendo o reshape dos y de treino e teste\n",
        "y_train_reshaped = y_train.reshape(number_of_train,-1).T\n",
        "y_test_reshaped = y_test.reshape(number_of_test,-1).T"
      ],
      "metadata": {
        "id": "g0a-JYb0oIS9"
      },
      "execution_count": null,
      "outputs": []
    },
    {
      "cell_type": "code",
      "source": [
        "#avaliando a quantidade de valores para treino\n",
        "print('Variavéis independentes de treino:', x_train_reshaped.shape)\n",
        "print('Variavéis dependentes de treino:', y_train_reshaped.shape)"
      ],
      "metadata": {
        "colab": {
          "base_uri": "https://localhost:8080/"
        },
        "id": "-x7dWD_6seE-",
        "outputId": "03b5d4a6-774d-466e-e079-4667e23f2c52"
      },
      "execution_count": null,
      "outputs": [
        {
          "output_type": "stream",
          "name": "stdout",
          "text": [
            "Variavéis independentes de treino: (12288, 209)\n",
            "Variavéis dependentes de treino: (1, 209)\n"
          ]
        }
      ]
    },
    {
      "cell_type": "code",
      "source": [
        "#avaliando a quantidade de valores para teste\n",
        "print('Variavéis independentes de teste:', x_test_reshaped.shape)\n",
        "print('Variavéis dependentes de teste:', y_test_reshaped.shape)"
      ],
      "metadata": {
        "colab": {
          "base_uri": "https://localhost:8080/"
        },
        "id": "W55yfwRHseHE",
        "outputId": "f65edb2c-2791-446c-b45e-6a0d476e4e87"
      },
      "execution_count": null,
      "outputs": [
        {
          "output_type": "stream",
          "name": "stdout",
          "text": [
            "Variavéis independentes de teste: (12288, 50)\n",
            "Variavéis dependentes de teste: (1, 50)\n"
          ]
        }
      ]
    },
    {
      "cell_type": "markdown",
      "source": [
        "#Implementação da Regressão Logística para Classificação\n",
        "\n",
        "texto texto \n",
        "\n",
        "[link](https://ml-cheatsheet.readthedocs.io/en/latest/logistic_regression.html)\n",
        "\n",
        "<center><img src=\"https://sebastianraschka.com/images/faq/logisticregr-neuralnet/schematic.png\"></center>\n",
        "\n",
        "classificação supervisionada, binária\n",
        "\n",
        "colocar uma equação\n"
      ],
      "metadata": {
        "id": "9pOjDDT5iDAZ"
      }
    },
    {
      "cell_type": "code",
      "source": [
        "#função para inicializar os valores\n",
        "def inicializar(x):\n",
        "  \"\"\"\n",
        "    texto explicando a função\n",
        "\n",
        "    dar uma atenção neste b\n",
        "  \"\"\"\n",
        "  w = np.zeros((x.shape[0],1))\n",
        "  b = 0.0\n",
        "  return w,b"
      ],
      "metadata": {
        "id": "tomc0CPjiHL0"
      },
      "execution_count": null,
      "outputs": []
    },
    {
      "cell_type": "code",
      "source": [
        "#inicializando os weights e o bias com zero\n",
        "w,b = inicializar(x_train_reshaped)\n",
        "print('Dimensões de w',w.shape)\n",
        "print('Valor de b:',b)"
      ],
      "metadata": {
        "colab": {
          "base_uri": "https://localhost:8080/"
        },
        "id": "09w9tTl0-hrZ",
        "outputId": "3ca07026-a843-48ba-d50c-18aaf5c9a5c0"
      },
      "execution_count": null,
      "outputs": [
        {
          "output_type": "stream",
          "name": "stdout",
          "text": [
            "Dimensões de w (12288, 1)\n",
            "Valor de b: 0.0\n"
          ]
        }
      ]
    },
    {
      "cell_type": "markdown",
      "source": [
        "falar de criar a função de ativação sigmoidal e falar que ela retorna a probabilidade\n",
        "\n",
        "<center><img src=\"https://ai-master.gitbooks.io/logistic-regression/content/assets/sigmoid_function.png\"></center>"
      ],
      "metadata": {
        "id": "Yh0sfEinVptI"
      }
    },
    {
      "cell_type": "code",
      "source": [
        "#função de ativação\n",
        "def sigmoidal(z):\n",
        "  return 1.0/(1.0+np.exp(-z))"
      ],
      "metadata": {
        "id": "1outXFvpVmql"
      },
      "execution_count": null,
      "outputs": []
    },
    {
      "cell_type": "markdown",
      "source": [
        "## Forward Propagation - Left to Right\n",
        "\n",
        "texto texto\n",
        "<center><img src=\"https://lh5.googleusercontent.com/0h2x6KBGVF6sEkHA12kq-lrCGH9iX0_LEtphjCbb0A-WUQDqQwmjU0HvSzb3s_k-pe7tkAL1zC0MqfROHiCLnbogb5R2OVaD9FUX8tFEkYis8K8NlBq1SoBND3wM0oOCNQWFrtI\" width=\"50%\"></center>"
      ],
      "metadata": {
        "id": "5ibOQmMBwE6_"
      }
    },
    {
      "cell_type": "code",
      "source": [
        "#funcao da propagação da esquerda para a direita\n",
        "def forward_propagation(w,b,x):\n",
        "  z = np.dot(w.T,x) + b\n",
        "  a = sigmoidal(z)\n",
        "  return a"
      ],
      "metadata": {
        "id": "W6P5V70Ov5A1"
      },
      "execution_count": null,
      "outputs": []
    },
    {
      "cell_type": "markdown",
      "source": [
        "texto texto"
      ],
      "metadata": {
        "id": "SOk25yfe9DMv"
      }
    },
    {
      "cell_type": "code",
      "source": [
        "#primeiros valores retornados após a aplicação na equação logística\n",
        "a =  forward_propagation(w,b,x_train_reshaped)\n",
        "print('Dimensões da matriz após passar pela função de ativação:',a.shape,'\\n')\n",
        "a"
      ],
      "metadata": {
        "id": "er_5nlqfv5DD",
        "colab": {
          "base_uri": "https://localhost:8080/"
        },
        "outputId": "e805b80f-fac3-45ec-ee46-7fcf4ef00dc9"
      },
      "execution_count": null,
      "outputs": [
        {
          "output_type": "stream",
          "name": "stdout",
          "text": [
            "Dimensões da matriz após passar pela função de ativação: (1, 209) \n",
            "\n"
          ]
        },
        {
          "output_type": "execute_result",
          "data": {
            "text/plain": [
              "array([[0.5, 0.5, 0.5, 0.5, 0.5, 0.5, 0.5, 0.5, 0.5, 0.5, 0.5, 0.5, 0.5,\n",
              "        0.5, 0.5, 0.5, 0.5, 0.5, 0.5, 0.5, 0.5, 0.5, 0.5, 0.5, 0.5, 0.5,\n",
              "        0.5, 0.5, 0.5, 0.5, 0.5, 0.5, 0.5, 0.5, 0.5, 0.5, 0.5, 0.5, 0.5,\n",
              "        0.5, 0.5, 0.5, 0.5, 0.5, 0.5, 0.5, 0.5, 0.5, 0.5, 0.5, 0.5, 0.5,\n",
              "        0.5, 0.5, 0.5, 0.5, 0.5, 0.5, 0.5, 0.5, 0.5, 0.5, 0.5, 0.5, 0.5,\n",
              "        0.5, 0.5, 0.5, 0.5, 0.5, 0.5, 0.5, 0.5, 0.5, 0.5, 0.5, 0.5, 0.5,\n",
              "        0.5, 0.5, 0.5, 0.5, 0.5, 0.5, 0.5, 0.5, 0.5, 0.5, 0.5, 0.5, 0.5,\n",
              "        0.5, 0.5, 0.5, 0.5, 0.5, 0.5, 0.5, 0.5, 0.5, 0.5, 0.5, 0.5, 0.5,\n",
              "        0.5, 0.5, 0.5, 0.5, 0.5, 0.5, 0.5, 0.5, 0.5, 0.5, 0.5, 0.5, 0.5,\n",
              "        0.5, 0.5, 0.5, 0.5, 0.5, 0.5, 0.5, 0.5, 0.5, 0.5, 0.5, 0.5, 0.5,\n",
              "        0.5, 0.5, 0.5, 0.5, 0.5, 0.5, 0.5, 0.5, 0.5, 0.5, 0.5, 0.5, 0.5,\n",
              "        0.5, 0.5, 0.5, 0.5, 0.5, 0.5, 0.5, 0.5, 0.5, 0.5, 0.5, 0.5, 0.5,\n",
              "        0.5, 0.5, 0.5, 0.5, 0.5, 0.5, 0.5, 0.5, 0.5, 0.5, 0.5, 0.5, 0.5,\n",
              "        0.5, 0.5, 0.5, 0.5, 0.5, 0.5, 0.5, 0.5, 0.5, 0.5, 0.5, 0.5, 0.5,\n",
              "        0.5, 0.5, 0.5, 0.5, 0.5, 0.5, 0.5, 0.5, 0.5, 0.5, 0.5, 0.5, 0.5,\n",
              "        0.5, 0.5, 0.5, 0.5, 0.5, 0.5, 0.5, 0.5, 0.5, 0.5, 0.5, 0.5, 0.5,\n",
              "        0.5]])"
            ]
          },
          "metadata": {},
          "execution_count": 18
        }
      ]
    },
    {
      "cell_type": "markdown",
      "source": [
        "##Backward Propagation - Right to Left\n",
        "\n",
        "texto texto\n",
        "\n",
        "cost function\n",
        "loss function\n",
        "\n",
        "**COLOCAR UMA IMAGEM BOA**\n",
        "\n",
        "derivar a função"
      ],
      "metadata": {
        "id": "o8IREtgwvYFb"
      }
    },
    {
      "cell_type": "code",
      "source": [
        "#funcao propagacao da direita para a esquerda, \"aprender com os erros\"\n",
        "def backward_propagation(a,x,y):\n",
        "  m = x.shape[1]\n",
        "  dz = a - y\n",
        "  dw = (np.dot(x,dz.T))*(1/m)\n",
        "  db = np.sum(dz) * (1/m)\n",
        "  return dw,db"
      ],
      "metadata": {
        "id": "jfEdAvAUvHbI"
      },
      "execution_count": null,
      "outputs": []
    },
    {
      "cell_type": "code",
      "source": [
        "#realizando a propagação left to right\n",
        "dw,db  = backward_propagation(a,x_train_reshaped,y_train_reshaped)\n",
        "\n",
        "#imprimindo as dimensões das matrizes\n",
        "print('Dimensão do dw:',dw.shape)\n",
        "print('Valor do db:',db)"
      ],
      "metadata": {
        "id": "KJgS4csevQux",
        "colab": {
          "base_uri": "https://localhost:8080/"
        },
        "outputId": "58ea683b-570e-4b67-a7e5-dc8d1431ffe5"
      },
      "execution_count": null,
      "outputs": [
        {
          "output_type": "stream",
          "name": "stdout",
          "text": [
            "Dimensão do dw: (12288, 1)\n",
            "Valor do db: 0.15550239234449761\n"
          ]
        }
      ]
    },
    {
      "cell_type": "code",
      "source": [
        "dw"
      ],
      "metadata": {
        "colab": {
          "base_uri": "https://localhost:8080/"
        },
        "id": "wbRi_rP71YFS",
        "outputId": "00dac159-af72-4dfb-ef2a-8b90dd756509"
      },
      "execution_count": null,
      "outputs": [
        {
          "output_type": "execute_result",
          "data": {
            "text/plain": [
              "array([[12.03827751],\n",
              "       [16.0645933 ],\n",
              "       [12.55502392],\n",
              "       ...,\n",
              "       [12.94019139],\n",
              "       [15.84210526],\n",
              "       [ 8.27511962]])"
            ]
          },
          "metadata": {},
          "execution_count": 21
        }
      ]
    },
    {
      "cell_type": "code",
      "source": [
        "db"
      ],
      "metadata": {
        "colab": {
          "base_uri": "https://localhost:8080/"
        },
        "id": "8UQhS7Vl1ZL_",
        "outputId": "a6d7936a-6877-478a-bfd9-6ef680d36899"
      },
      "execution_count": null,
      "outputs": [
        {
          "output_type": "execute_result",
          "data": {
            "text/plain": [
              "0.15550239234449761"
            ]
          },
          "metadata": {},
          "execution_count": 22
        }
      ]
    },
    {
      "cell_type": "markdown",
      "source": [
        "## Gradiente Descendente\n",
        "texto texto\n",
        "\n",
        "<center><img src=\"https://cdn.builtin.com/sites/www.builtin.com/files/styles/ckeditor_optimize/public/inline-images/national/gradient-descent-convex-function.png\" width=\"50%\"></center>\n",
        "\n",
        "texto texto texto\n",
        "<center><img src=\"https://i.stack.imgur.com/khaJb.png\" width=\"40%\"></center>\n",
        "texto texto\n",
        "<center><img src=\"https://editor.analyticsvidhya.com/uploads/36152Screenshot%20(43).png\" width=\"30%\"></center>"
      ],
      "metadata": {
        "id": "_k-snywx-Qx4"
      }
    },
    {
      "cell_type": "code",
      "source": [
        "#função do gradiente descendente\n",
        "def gradient_descent(w,b,dw,db,alpha):\n",
        "  w = w - (alpha*dw)\n",
        "  b = b - (alpha*db)\n",
        "  return w,b"
      ],
      "metadata": {
        "id": "l6Q2XoAFvQ1e"
      },
      "execution_count": null,
      "outputs": []
    },
    {
      "cell_type": "code",
      "source": [
        "#aplicando o gradiente uma vez\n",
        "w,b = gradient_descent(w,b,dw,db,alpha=0.05)"
      ],
      "metadata": {
        "id": "Ujmw8xHPvQ3x"
      },
      "execution_count": null,
      "outputs": []
    },
    {
      "cell_type": "code",
      "source": [
        "#visualizando o w após o primeiro gradiente\n",
        "w"
      ],
      "metadata": {
        "colab": {
          "base_uri": "https://localhost:8080/"
        },
        "id": "iTgARldZC0da",
        "outputId": "5de9e50a-975a-43ad-9083-82ccbaaac459"
      },
      "execution_count": null,
      "outputs": [
        {
          "output_type": "execute_result",
          "data": {
            "text/plain": [
              "array([[-0.60191388],\n",
              "       [-0.80322967],\n",
              "       [-0.6277512 ],\n",
              "       ...,\n",
              "       [-0.64700957],\n",
              "       [-0.79210526],\n",
              "       [-0.41375598]])"
            ]
          },
          "metadata": {},
          "execution_count": 25
        }
      ]
    },
    {
      "cell_type": "code",
      "source": [
        "#visualizando o b após o primeiro gradiente\n",
        "b"
      ],
      "metadata": {
        "colab": {
          "base_uri": "https://localhost:8080/"
        },
        "id": "31m-hHo_C2LM",
        "outputId": "e9bb280c-b2af-43e0-82a2-3a1c7c360e7c"
      },
      "execution_count": null,
      "outputs": [
        {
          "output_type": "execute_result",
          "data": {
            "text/plain": [
              "-0.007775119617224881"
            ]
          },
          "metadata": {},
          "execution_count": 26
        }
      ]
    },
    {
      "cell_type": "markdown",
      "source": [
        "falar de fazer um left to right novamente"
      ],
      "metadata": {
        "id": "nQF_kbBwD16s"
      }
    },
    {
      "cell_type": "code",
      "source": [
        "#refazendo o forward propagation\n",
        "forward_propagation(w,b,x_train_reshaped)"
      ],
      "metadata": {
        "colab": {
          "base_uri": "https://localhost:8080/"
        },
        "id": "qEm9GeOXDqK0",
        "outputId": "9c7309b2-0c68-4297-d595-4ca99f2b4ce1"
      },
      "execution_count": null,
      "outputs": [
        {
          "output_type": "execute_result",
          "data": {
            "text/plain": [
              "array([[0., 0., 0., 0., 0., 0., 0., 0., 0., 0., 0., 0., 0., 0., 0., 0.,\n",
              "        0., 0., 0., 0., 0., 0., 0., 0., 0., 0., 0., 0., 0., 0., 0., 0.,\n",
              "        0., 0., 0., 0., 0., 0., 0., 0., 0., 0., 0., 0., 0., 0., 0., 0.,\n",
              "        0., 0., 0., 0., 0., 0., 0., 0., 0., 0., 0., 0., 0., 0., 0., 0.,\n",
              "        0., 0., 0., 0., 0., 0., 0., 0., 0., 0., 0., 0., 0., 0., 0., 0.,\n",
              "        0., 0., 0., 0., 0., 0., 0., 0., 0., 0., 0., 0., 0., 0., 0., 0.,\n",
              "        0., 0., 0., 0., 0., 0., 0., 0., 0., 0., 0., 0., 0., 0., 0., 0.,\n",
              "        0., 0., 0., 0., 0., 0., 0., 0., 0., 0., 0., 0., 0., 0., 0., 0.,\n",
              "        0., 0., 0., 0., 0., 0., 0., 0., 0., 0., 0., 0., 0., 0., 0., 0.,\n",
              "        0., 0., 0., 0., 0., 0., 0., 0., 0., 0., 0., 0., 0., 0., 0., 0.,\n",
              "        0., 0., 0., 0., 0., 0., 0., 0., 0., 0., 0., 0., 0., 0., 0., 0.,\n",
              "        0., 0., 0., 0., 0., 0., 0., 0., 0., 0., 0., 0., 0., 0., 0., 0.,\n",
              "        0., 0., 0., 0., 0., 0., 0., 0., 0., 0., 0., 0., 0., 0., 0., 0.,\n",
              "        0.]])"
            ]
          },
          "metadata": {},
          "execution_count": 27
        }
      ]
    },
    {
      "cell_type": "markdown",
      "source": [
        "funcao para decidir"
      ],
      "metadata": {
        "id": "w8Krl1svpt7P"
      }
    },
    {
      "cell_type": "code",
      "source": [
        "#funcao para realizar a decisao\n",
        "def decision(a):\n",
        "  for i in range(a.shape[1]):\n",
        "    if a[0][i] >= 0.5:\n",
        "      a[0][i] = 1\n",
        "    else:\n",
        "      a[0][i] = 0\n",
        "  return a"
      ],
      "metadata": {
        "id": "0B8P64y-koOm"
      },
      "execution_count": null,
      "outputs": []
    },
    {
      "cell_type": "markdown",
      "source": [
        "## Realizando iterações do Gradiente Descendente\n",
        "\n",
        "texto texto texto"
      ],
      "metadata": {
        "id": "mOPNU8H3sCBD"
      }
    },
    {
      "cell_type": "code",
      "source": [
        "#iterações do gradiente descendente\n",
        "iteracoes = 1000\n",
        "lista_de_acertos , lista_de_iteracoes = [] , []\n",
        "for i in range(iteracoes):\n",
        "  a = forward_propagation(w,b,x_train_reshaped)\n",
        "  dw,db = backward_propagation(a,x_train_reshaped,y_train_reshaped)\n",
        "  w,b = gradient_descent(w,b,dw,db,alpha=0.001)\n",
        "  previsoes = decision(a)\n",
        "  if (i % 100) == 0:\n",
        "    acertos = (previsoes == y_train_reshaped).sum() / previsoes.shape[1]\n",
        "    print('Iteração:',i)\n",
        "    print('Acertos:',acertos) \n",
        "    lista_de_iteracoes.append(i)\n",
        "    lista_de_acertos.append(acertos)"
      ],
      "metadata": {
        "colab": {
          "base_uri": "https://localhost:8080/"
        },
        "id": "t5ZfwBv_sAll",
        "outputId": "805177a4-bc6c-443c-c14d-3bc0abf1b632"
      },
      "execution_count": null,
      "outputs": [
        {
          "output_type": "stream",
          "name": "stdout",
          "text": [
            "Iteração: 0\n",
            "Acertos: 0.6555023923444976\n",
            "Iteração: 100\n",
            "Acertos: 0.6555023923444976\n",
            "Iteração: 200\n",
            "Acertos: 0.6555023923444976\n",
            "Iteração: 300\n",
            "Acertos: 0.6555023923444976\n",
            "Iteração: 400\n",
            "Acertos: 0.6555023923444976\n",
            "Iteração: 500\n",
            "Acertos: 0.6555023923444976\n",
            "Iteração: 600\n",
            "Acertos: 0.6555023923444976\n",
            "Iteração: 700\n",
            "Acertos: 0.6555023923444976\n",
            "Iteração: 800\n",
            "Acertos: 0.6555023923444976\n",
            "Iteração: 900\n",
            "Acertos: 0.6555023923444976\n",
            "Iteração: 1000\n",
            "Acertos: 0.6555023923444976\n",
            "Iteração: 1100\n",
            "Acertos: 0.6555023923444976\n",
            "Iteração: 1200\n",
            "Acertos: 0.6555023923444976\n",
            "Iteração: 1300\n",
            "Acertos: 0.6555023923444976\n",
            "Iteração: 1400\n",
            "Acertos: 0.6555023923444976\n",
            "Iteração: 1500\n",
            "Acertos: 0.6555023923444976\n",
            "Iteração: 1600\n",
            "Acertos: 0.6555023923444976\n",
            "Iteração: 1700\n",
            "Acertos: 0.6555023923444976\n",
            "Iteração: 1800\n",
            "Acertos: 0.6555023923444976\n",
            "Iteração: 1900\n",
            "Acertos: 0.6507177033492823\n",
            "Iteração: 2000\n",
            "Acertos: 0.6555023923444976\n",
            "Iteração: 2100\n",
            "Acertos: 0.7368421052631579\n",
            "Iteração: 2200\n",
            "Acertos: 0.7416267942583732\n",
            "Iteração: 2300\n",
            "Acertos: 0.7416267942583732\n",
            "Iteração: 2400\n",
            "Acertos: 0.7416267942583732\n",
            "Iteração: 2500\n",
            "Acertos: 0.7464114832535885\n",
            "Iteração: 2600\n",
            "Acertos: 0.7511961722488039\n",
            "Iteração: 2700\n",
            "Acertos: 0.7559808612440191\n",
            "Iteração: 2800\n",
            "Acertos: 0.7607655502392344\n",
            "Iteração: 2900\n",
            "Acertos: 0.7607655502392344\n",
            "Iteração: 3000\n",
            "Acertos: 0.7703349282296651\n",
            "Iteração: 3100\n",
            "Acertos: 0.7703349282296651\n",
            "Iteração: 3200\n",
            "Acertos: 0.7799043062200957\n",
            "Iteração: 3300\n",
            "Acertos: 0.7799043062200957\n",
            "Iteração: 3400\n",
            "Acertos: 0.7894736842105263\n",
            "Iteração: 3500\n",
            "Acertos: 0.7894736842105263\n",
            "Iteração: 3600\n",
            "Acertos: 0.7894736842105263\n",
            "Iteração: 3700\n",
            "Acertos: 0.8133971291866029\n",
            "Iteração: 3800\n",
            "Acertos: 0.8133971291866029\n",
            "Iteração: 3900\n",
            "Acertos: 0.8181818181818182\n",
            "Iteração: 4000\n",
            "Acertos: 0.8373205741626795\n",
            "Iteração: 4100\n",
            "Acertos: 0.84688995215311\n",
            "Iteração: 4200\n",
            "Acertos: 0.8660287081339713\n",
            "Iteração: 4300\n",
            "Acertos: 0.8660287081339713\n",
            "Iteração: 4400\n",
            "Acertos: 0.8564593301435407\n",
            "Iteração: 4500\n",
            "Acertos: 0.8660287081339713\n",
            "Iteração: 4600\n",
            "Acertos: 0.861244019138756\n",
            "Iteração: 4700\n",
            "Acertos: 0.8660287081339713\n",
            "Iteração: 4800\n",
            "Acertos: 0.861244019138756\n",
            "Iteração: 4900\n",
            "Acertos: 0.861244019138756\n",
            "Iteração: 5000\n",
            "Acertos: 0.861244019138756\n",
            "Iteração: 5100\n",
            "Acertos: 0.8708133971291866\n",
            "Iteração: 5200\n",
            "Acertos: 0.8803827751196173\n",
            "Iteração: 5300\n",
            "Acertos: 0.8708133971291866\n",
            "Iteração: 5400\n",
            "Acertos: 0.8708133971291866\n",
            "Iteração: 5500\n",
            "Acertos: 0.8755980861244019\n",
            "Iteração: 5600\n",
            "Acertos: 0.8708133971291866\n",
            "Iteração: 5700\n",
            "Acertos: 0.8755980861244019\n",
            "Iteração: 5800\n",
            "Acertos: 0.8851674641148325\n",
            "Iteração: 5900\n",
            "Acertos: 0.8851674641148325\n",
            "Iteração: 6000\n",
            "Acertos: 0.8851674641148325\n",
            "Iteração: 6100\n",
            "Acertos: 0.8947368421052632\n",
            "Iteração: 6200\n",
            "Acertos: 0.8755980861244019\n",
            "Iteração: 6300\n",
            "Acertos: 0.8755980861244019\n",
            "Iteração: 6400\n",
            "Acertos: 0.8947368421052632\n",
            "Iteração: 6500\n",
            "Acertos: 0.8755980861244019\n",
            "Iteração: 6600\n",
            "Acertos: 0.8947368421052632\n",
            "Iteração: 6700\n",
            "Acertos: 0.8995215311004785\n",
            "Iteração: 6800\n",
            "Acertos: 0.8851674641148325\n",
            "Iteração: 6900\n",
            "Acertos: 0.8995215311004785\n",
            "Iteração: 7000\n",
            "Acertos: 0.9138755980861244\n",
            "Iteração: 7100\n",
            "Acertos: 0.9090909090909091\n",
            "Iteração: 7200\n",
            "Acertos: 0.9043062200956937\n",
            "Iteração: 7300\n",
            "Acertos: 0.9186602870813397\n",
            "Iteração: 7400\n",
            "Acertos: 0.9186602870813397\n",
            "Iteração: 7500\n",
            "Acertos: 0.9234449760765551\n",
            "Iteração: 7600\n",
            "Acertos: 0.937799043062201\n",
            "Iteração: 7700\n",
            "Acertos: 0.937799043062201\n",
            "Iteração: 7800\n",
            "Acertos: 0.9330143540669856\n",
            "Iteração: 7900\n",
            "Acertos: 0.9330143540669856\n",
            "Iteração: 8000\n",
            "Acertos: 0.9330143540669856\n",
            "Iteração: 8100\n",
            "Acertos: 0.9330143540669856\n",
            "Iteração: 8200\n",
            "Acertos: 0.937799043062201\n",
            "Iteração: 8300\n",
            "Acertos: 0.937799043062201\n",
            "Iteração: 8400\n",
            "Acertos: 0.9425837320574163\n",
            "Iteração: 8500\n",
            "Acertos: 0.937799043062201\n",
            "Iteração: 8600\n",
            "Acertos: 0.9330143540669856\n",
            "Iteração: 8700\n",
            "Acertos: 0.9425837320574163\n",
            "Iteração: 8800\n",
            "Acertos: 0.9425837320574163\n",
            "Iteração: 8900\n",
            "Acertos: 0.937799043062201\n",
            "Iteração: 9000\n",
            "Acertos: 0.9330143540669856\n",
            "Iteração: 9100\n",
            "Acertos: 0.9330143540669856\n",
            "Iteração: 9200\n",
            "Acertos: 0.9473684210526315\n",
            "Iteração: 9300\n",
            "Acertos: 0.9330143540669856\n",
            "Iteração: 9400\n",
            "Acertos: 0.937799043062201\n",
            "Iteração: 9500\n",
            "Acertos: 0.937799043062201\n",
            "Iteração: 9600\n",
            "Acertos: 0.9425837320574163\n",
            "Iteração: 9700\n",
            "Acertos: 0.9330143540669856\n",
            "Iteração: 9800\n",
            "Acertos: 0.9330143540669856\n",
            "Iteração: 9900\n",
            "Acertos: 0.9473684210526315\n",
            "Iteração: 10000\n",
            "Acertos: 0.9569377990430622\n",
            "Iteração: 10100\n",
            "Acertos: 0.9569377990430622\n",
            "Iteração: 10200\n",
            "Acertos: 0.9521531100478469\n",
            "Iteração: 10300\n",
            "Acertos: 0.9473684210526315\n",
            "Iteração: 10400\n",
            "Acertos: 0.9569377990430622\n",
            "Iteração: 10500\n",
            "Acertos: 0.9521531100478469\n",
            "Iteração: 10600\n",
            "Acertos: 0.9617224880382775\n",
            "Iteração: 10700\n",
            "Acertos: 0.9617224880382775\n",
            "Iteração: 10800\n",
            "Acertos: 0.9521531100478469\n",
            "Iteração: 10900\n",
            "Acertos: 0.9569377990430622\n",
            "Iteração: 11000\n",
            "Acertos: 0.9569377990430622\n",
            "Iteração: 11100\n",
            "Acertos: 0.9617224880382775\n",
            "Iteração: 11200\n",
            "Acertos: 0.9617224880382775\n",
            "Iteração: 11300\n",
            "Acertos: 0.9569377990430622\n",
            "Iteração: 11400\n",
            "Acertos: 0.9712918660287081\n",
            "Iteração: 11500\n",
            "Acertos: 0.9712918660287081\n",
            "Iteração: 11600\n",
            "Acertos: 0.9665071770334929\n",
            "Iteração: 11700\n",
            "Acertos: 0.9521531100478469\n",
            "Iteração: 11800\n",
            "Acertos: 0.9569377990430622\n",
            "Iteração: 11900\n",
            "Acertos: 0.9521531100478469\n",
            "Iteração: 12000\n",
            "Acertos: 0.9521531100478469\n",
            "Iteração: 12100\n",
            "Acertos: 0.9569377990430622\n",
            "Iteração: 12200\n",
            "Acertos: 0.9856459330143541\n",
            "Iteração: 12300\n",
            "Acertos: 0.9425837320574163\n",
            "Iteração: 12400\n",
            "Acertos: 0.9856459330143541\n",
            "Iteração: 12500\n",
            "Acertos: 0.9808612440191388\n",
            "Iteração: 12600\n",
            "Acertos: 0.9808612440191388\n",
            "Iteração: 12700\n",
            "Acertos: 0.9856459330143541\n",
            "Iteração: 12800\n",
            "Acertos: 0.9569377990430622\n",
            "Iteração: 12900\n",
            "Acertos: 0.9712918660287081\n",
            "Iteração: 13000\n",
            "Acertos: 0.9808612440191388\n",
            "Iteração: 13100\n",
            "Acertos: 0.9904306220095693\n",
            "Iteração: 13200\n",
            "Acertos: 0.9904306220095693\n",
            "Iteração: 13300\n",
            "Acertos: 0.9760765550239234\n",
            "Iteração: 13400\n",
            "Acertos: 0.9904306220095693\n",
            "Iteração: 13500\n",
            "Acertos: 0.9904306220095693\n",
            "Iteração: 13600\n",
            "Acertos: 0.9712918660287081\n",
            "Iteração: 13700\n",
            "Acertos: 0.9712918660287081\n",
            "Iteração: 13800\n",
            "Acertos: 0.9760765550239234\n",
            "Iteração: 13900\n",
            "Acertos: 0.9904306220095693\n",
            "Iteração: 14000\n",
            "Acertos: 0.9904306220095693\n",
            "Iteração: 14100\n",
            "Acertos: 0.9760765550239234\n",
            "Iteração: 14200\n",
            "Acertos: 0.9904306220095693\n",
            "Iteração: 14300\n",
            "Acertos: 0.9904306220095693\n",
            "Iteração: 14400\n",
            "Acertos: 0.9856459330143541\n",
            "Iteração: 14500\n",
            "Acertos: 0.9904306220095693\n",
            "Iteração: 14600\n",
            "Acertos: 0.9617224880382775\n",
            "Iteração: 14700\n",
            "Acertos: 0.9808612440191388\n",
            "Iteração: 14800\n",
            "Acertos: 0.9904306220095693\n",
            "Iteração: 14900\n",
            "Acertos: 0.9904306220095693\n"
          ]
        }
      ]
    },
    {
      "cell_type": "markdown",
      "source": [
        "fazer um gráfico"
      ],
      "metadata": {
        "id": "zZtPqgz4uTUz"
      }
    },
    {
      "cell_type": "code",
      "source": [
        "plt.plot(lista_de_iteracoes,lista_de_acertos);"
      ],
      "metadata": {
        "colab": {
          "base_uri": "https://localhost:8080/",
          "height": 264
        },
        "id": "4ei0dKj4sA0r",
        "outputId": "fbd7388d-3e6d-4b7f-dbf9-0075039daa91"
      },
      "execution_count": null,
      "outputs": [
        {
          "output_type": "display_data",
          "data": {
            "image/png": "[encoded data removed]",
            "text/plain": [
              "<Figure size 432x288 with 1 Axes>"
            ]
          },
          "metadata": {
            "needs_background": "light"
          }
        }
      ]
    },
    {
      "cell_type": "markdown",
      "source": [
        "# Utilizando para dados não treinados\n",
        "\n",
        "texto texto texto"
      ],
      "metadata": {
        "id": "HWlr02VMuWfz"
      }
    },
    {
      "cell_type": "code",
      "source": [
        "#passando os dados desconhecidos\n",
        "previsoes = decision(forward_propagation(w,b,x_test_reshaped))\n",
        "\n",
        "#comparando as previsoes\n",
        "porcentagem_de_acertos = (previsoes == y_test_reshaped).sum() / previsoes.shape[1]\n",
        "\n",
        "print('Acuracidade da rede neural:',porcentagem_de_acertos)"
      ],
      "metadata": {
        "colab": {
          "base_uri": "https://localhost:8080/"
        },
        "id": "M4RqsZlItDVk",
        "outputId": "67d67403-8a08-4444-e50d-ca0b191a9346"
      },
      "execution_count": null,
      "outputs": [
        {
          "output_type": "stream",
          "name": "stdout",
          "text": [
            "Acuracidade do modelo 0.76\n"
          ]
        }
      ]
    },
    {
      "cell_type": "markdown",
      "source": [
        "#Criando um modelo completo\n",
        "texto texto texto"
      ],
      "metadata": {
        "id": "zTFHw4OruChb"
      }
    },
    {
      "cell_type": "code",
      "source": [
        ""
      ],
      "metadata": {
        "id": "Eok_j7F2uF0u"
      },
      "execution_count": null,
      "outputs": []
    },
    {
      "cell_type": "code",
      "source": [
        ""
      ],
      "metadata": {
        "id": "Vr5FMb6muF3B"
      },
      "execution_count": null,
      "outputs": []
    },
    {
      "cell_type": "markdown",
      "source": [
        "#Testando com diferentes parâmetros\n",
        "\n",
        "texto texto\n",
        " learning rate"
      ],
      "metadata": {
        "id": "fzaUphjqxcFk"
      }
    },
    {
      "cell_type": "code",
      "source": [
        ""
      ],
      "metadata": {
        "id": "JVB8Trnjxf3p"
      },
      "execution_count": null,
      "outputs": []
    },
    {
      "cell_type": "code",
      "source": [
        ""
      ],
      "metadata": {
        "id": "K3ra5BGRxf53"
      },
      "execution_count": null,
      "outputs": []
    },
    {
      "cell_type": "code",
      "source": [
        ""
      ],
      "metadata": {
        "id": "5jeBxStMxf8K"
      },
      "execution_count": null,
      "outputs": []
    },
    {
      "cell_type": "code",
      "source": [
        ""
      ],
      "metadata": {
        "id": "Wj7ScpZNxf-F"
      },
      "execution_count": null,
      "outputs": []
    },
    {
      "cell_type": "markdown",
      "source": [
        "#Testando com uma imagem desconhecida da internet\n",
        "\n",
        "texto texto texto\n",
        "falar do redimensionamento"
      ],
      "metadata": {
        "id": "FWmp8noE0Okb"
      }
    },
    {
      "cell_type": "code",
      "source": [
        ""
      ],
      "metadata": {
        "id": "gtyASWZ50S3-"
      },
      "execution_count": null,
      "outputs": []
    },
    {
      "cell_type": "code",
      "source": [
        ""
      ],
      "metadata": {
        "id": "hzTConn70S6R"
      },
      "execution_count": null,
      "outputs": []
    },
    {
      "cell_type": "code",
      "source": [
        ""
      ],
      "metadata": {
        "id": "wviNUh1K0S8c"
      },
      "execution_count": null,
      "outputs": []
    },
    {
      "cell_type": "code",
      "source": [
        ""
      ],
      "metadata": {
        "id": "TKmQDmgS0S-f"
      },
      "execution_count": null,
      "outputs": []
    },
    {
      "cell_type": "markdown",
      "source": [
        "#Considerações Finais\n",
        "\n",
        "texto texto texto"
      ],
      "metadata": {
        "id": "4nThXqNrVM1m"
      }
    }
  ]
}