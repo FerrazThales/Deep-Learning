{
  "nbformat": 4,
  "nbformat_minor": 0,
  "metadata": {
    "colab": {
      "name": "Cat and NonCat with Logistics Regression.ipynb",
      "provenance": [],
      "authorship_tag": "ABX9TyPl1Pu8uDIV81I9Lhlv/RDq",
      "include_colab_link": true
    },
    "kernelspec": {
      "name": "python3",
      "display_name": "Python 3"
    },
    "language_info": {
      "name": "python"
    }
  },
  "cells": [
    {
      "cell_type": "markdown",
      "metadata": {
        "id": "view-in-github",
        "colab_type": "text"
      },
      "source": [
        "<a href=\"https://colab.research.google.com/github/FerrazThales/Deep-Learning/blob/main/Cat_and_NonCat_with_Logistics_Regression.ipynb\" target=\"_parent\"><img src=\"https://colab.research.google.com/assets/colab-badge.svg\" alt=\"Open In Colab\"/></a>"
      ]
    },
    {
      "cell_type": "markdown",
      "source": [
        "# O que você vai aprender neste projeto:\n",
        "\n",
        "* O que é uma Rede Neural e como construir uma simples.\n",
        "* Como dados de imagens são armazenados.\n",
        "* x\n"
      ],
      "metadata": {
        "id": "rB_doX0vl60E"
      }
    },
    {
      "cell_type": "markdown",
      "source": [
        "# Introdução a Redes Neurais\n",
        "AI is the new eletricity. a little explanation about features and a draw of a neural network.\n",
        "\n",
        "supervised learning , structured data and unstructured data\n",
        "\n",
        "scales deep learning progress"
      ],
      "metadata": {
        "id": "Di3qDdauVFog"
      }
    },
    {
      "cell_type": "code",
      "execution_count": 1,
      "metadata": {
        "id": "8owiXSCbU9y-"
      },
      "outputs": [],
      "source": [
        "#ignorar os warnings\n",
        "import warnings\n",
        "warnings.filterwarnings('ignore')\n",
        "\n",
        "#importando as bibliotecas que serão utilizadas\n",
        "import numpy as np\n",
        "import h5py\n",
        "import matplotlib.pyplot as plt\n",
        "%matplotlib inline"
      ]
    },
    {
      "cell_type": "markdown",
      "source": [
        "#Obtenção dos dados\n",
        "\n",
        "Estas bases de dados foram obtidas no [Kaggle](https://www.kaggle.com/muhammeddalkran/catvnoncat). De acordo com o autor, elas foram **disponibilizadas** como desafio de uma de suas aulas de **Introdução a Visão Computacional** na *Bilkent University*. As bases de dados vieram no formato `h5` e os dados já estavam **separados** em treino e teste.\n",
        "\n",
        "Em resumo, estes registros trazem informações de **imagens** (64x64 pixels) que contém - ou não contém, gatos. Desta forma, as imagens que contém **gatos** estão rotuladas com o valor 1 e as que não contém estão **rotuladas** com o valor **zero**.\n",
        "\n",
        "Caso os links dos datasets não estejam funcionando, você pode buscá-los em meu [Github](https://github.com/FerrazThales/Deep-Learning/tree/main/catvnoncat).\n"
      ],
      "metadata": {
        "id": "D0rHcQfzdw__"
      }
    },
    {
      "cell_type": "code",
      "source": [
        "#guardando os endereços dos dados de treino e teste\n",
        "train_data_path = \"/content/train_catvnoncat.h5\"\n",
        "test_data_path = \"/content/test_catvnoncat.h5\"\n",
        "\n",
        "#importando os dados de treino e teste\n",
        "train_data = h5py.File(train_data_path,'r')\n",
        "test_data = h5py.File(test_data_path,'r')\n",
        "\n",
        "#armazenando as variáveis do treino\n",
        "x_train = train_data['train_set_x']\n",
        "y_train = train_data['train_set_y']\n",
        "\n",
        "#armazenando as variáveis de teste\n",
        "x_test = test_data['test_set_x']\n",
        "y_test = test_data['test_set_y']"
      ],
      "metadata": {
        "id": "wyvxOp6xdyX7"
      },
      "execution_count": 2,
      "outputs": []
    },
    {
      "cell_type": "markdown",
      "source": [
        "#Análise Exploratória dos Dados\n",
        "\n",
        "texto texto texto\n",
        "\n",
        "comentar do array (50,)"
      ],
      "metadata": {
        "id": "dv-m1iPfh0f7"
      }
    },
    {
      "cell_type": "code",
      "source": [
        "#visualizando o tipo de dado\n",
        "type(x_train)"
      ],
      "metadata": {
        "colab": {
          "base_uri": "https://localhost:8080/"
        },
        "id": "VTPJyiFTpEPj",
        "outputId": "57a3b01b-cdfd-4b76-9256-6a72224b79fc"
      },
      "execution_count": 3,
      "outputs": [
        {
          "output_type": "execute_result",
          "data": {
            "text/plain": [
              "h5py._hl.dataset.Dataset"
            ]
          },
          "metadata": {},
          "execution_count": 3
        }
      ]
    },
    {
      "cell_type": "code",
      "source": [
        "#avaliando a quantidade de valores para treino\n",
        "print('Variavéis independentes de treino:', x_train.shape)\n",
        "print('Variavéis dependentes de treino:', y_train.shape)"
      ],
      "metadata": {
        "colab": {
          "base_uri": "https://localhost:8080/"
        },
        "id": "l7_ysn38eFNQ",
        "outputId": "2b0210f0-65bb-4441-8446-bc5786a733ce"
      },
      "execution_count": 4,
      "outputs": [
        {
          "output_type": "stream",
          "name": "stdout",
          "text": [
            "Variavéis independentes de treino: (209, 64, 64, 3)\n",
            "Variavéis dependentes de treino: (209,)\n"
          ]
        }
      ]
    },
    {
      "cell_type": "code",
      "source": [
        "#avaliando a quantidade de valores para teste\n",
        "print('Variavéis independentes de teste:', x_test.shape)\n",
        "print('Variavéis dependentes de teste:', y_test.shape)"
      ],
      "metadata": {
        "colab": {
          "base_uri": "https://localhost:8080/"
        },
        "id": "qLVVVoVseFPe",
        "outputId": "677dd6e8-3774-4a02-c857-53ad3a053828"
      },
      "execution_count": 5,
      "outputs": [
        {
          "output_type": "stream",
          "name": "stdout",
          "text": [
            "Variavéis independentes de teste: (50, 64, 64, 3)\n",
            "Variavéis dependentes de teste: (50,)\n"
          ]
        }
      ]
    },
    {
      "cell_type": "markdown",
      "source": [
        "falar deste 50,\n",
        "\n",
        "explicar o 64 x 64 e 3 , ver o type\n",
        "\n",
        "<center><img src=\"https://www.researchgate.net/profile/Belal-Ayyoub/publication/339435251/figure/fig1/AS:861467612028928@1582401292006/Color-image-and-RGB-matrices.jpg\"></center>"
      ],
      "metadata": {
        "id": "ccda4_e-jtN0"
      }
    },
    {
      "cell_type": "code",
      "source": [
        "#observando os parâmetros da primeira imagem\n",
        "x_train[0].shape"
      ],
      "metadata": {
        "colab": {
          "base_uri": "https://localhost:8080/"
        },
        "id": "twqVmddqjCjr",
        "outputId": "7ec02288-22de-493e-aeb3-9f2bcb84f3af"
      },
      "execution_count": 6,
      "outputs": [
        {
          "output_type": "execute_result",
          "data": {
            "text/plain": [
              "(64, 64, 3)"
            ]
          },
          "metadata": {},
          "execution_count": 6
        }
      ]
    },
    {
      "cell_type": "code",
      "source": [
        "#analisando o primeiro registro\n",
        "x_train[0]"
      ],
      "metadata": {
        "colab": {
          "base_uri": "https://localhost:8080/"
        },
        "id": "NW_-q4utkveY",
        "outputId": "3cc865ff-cff7-487e-a300-4302bb1e69d8"
      },
      "execution_count": 7,
      "outputs": [
        {
          "output_type": "execute_result",
          "data": {
            "text/plain": [
              "array([[[17, 31, 56],\n",
              "        [22, 33, 59],\n",
              "        [25, 35, 62],\n",
              "        ...,\n",
              "        [ 1, 28, 57],\n",
              "        [ 1, 26, 56],\n",
              "        [ 1, 22, 51]],\n",
              "\n",
              "       [[25, 36, 62],\n",
              "        [28, 38, 64],\n",
              "        [30, 40, 67],\n",
              "        ...,\n",
              "        [ 1, 27, 56],\n",
              "        [ 1, 25, 55],\n",
              "        [ 2, 21, 51]],\n",
              "\n",
              "       [[32, 40, 67],\n",
              "        [34, 42, 69],\n",
              "        [35, 42, 70],\n",
              "        ...,\n",
              "        [ 1, 25, 55],\n",
              "        [ 0, 24, 54],\n",
              "        [ 1, 21, 51]],\n",
              "\n",
              "       ...,\n",
              "\n",
              "       [[ 0,  0,  0],\n",
              "        [ 0,  0,  0],\n",
              "        [ 0,  0,  0],\n",
              "        ...,\n",
              "        [ 0,  0,  0],\n",
              "        [ 0,  0,  0],\n",
              "        [ 0,  0,  0]],\n",
              "\n",
              "       [[ 0,  0,  0],\n",
              "        [ 0,  0,  0],\n",
              "        [ 0,  0,  0],\n",
              "        ...,\n",
              "        [ 0,  0,  0],\n",
              "        [ 0,  0,  0],\n",
              "        [ 0,  0,  0]],\n",
              "\n",
              "       [[ 0,  0,  0],\n",
              "        [ 0,  0,  0],\n",
              "        [ 0,  0,  0],\n",
              "        ...,\n",
              "        [ 0,  0,  0],\n",
              "        [ 0,  0,  0],\n",
              "        [ 0,  0,  0]]], dtype=uint8)"
            ]
          },
          "metadata": {},
          "execution_count": 7
        }
      ]
    },
    {
      "cell_type": "code",
      "source": [
        "#visualizando a primeira imagem\n",
        "plt.imshow(x_train[0]);\n",
        "plt.title('Rótulo: {} - não contém gato'.format(y_train[0]));"
      ],
      "metadata": {
        "colab": {
          "base_uri": "https://localhost:8080/",
          "height": 281
        },
        "id": "BDI6peGXjCl1",
        "outputId": "a45a0bc2-c288-4e15-9584-d1cb4e71f1e1"
      },
      "execution_count": 8,
      "outputs": [
        {
          "output_type": "display_data",
          "data": {
            "image/png": "[encoded data removed]",
            "text/plain": [
              "<Figure size 432x288 with 1 Axes>"
            ]
          },
          "metadata": {
            "needs_background": "light"
          }
        }
      ]
    },
    {
      "cell_type": "markdown",
      "source": [
        "imagem de um gato (1), comentar da régua"
      ],
      "metadata": {
        "id": "LiiemWr9kl2q"
      }
    },
    {
      "cell_type": "code",
      "source": [
        "#exibindo a imagem de um gato da base de treino\n",
        "plt.imshow(x_train[7])\n",
        "plt.title('Rótulo: {} - contém gato'.format(y_train[7]));"
      ],
      "metadata": {
        "colab": {
          "base_uri": "https://localhost:8080/",
          "height": 281
        },
        "id": "Ru8RDdGhjCoA",
        "outputId": "7ec74392-775b-48d7-db5e-3b9010d8fdef"
      },
      "execution_count": 9,
      "outputs": [
        {
          "output_type": "display_data",
          "data": {
            "image/png": "[encoded data removed]",
            "text/plain": [
              "<Figure size 432x288 with 1 Axes>"
            ]
          },
          "metadata": {
            "needs_background": "light"
          }
        }
      ]
    },
    {
      "cell_type": "markdown",
      "source": [
        "#Ajustando os Dados\n",
        "\n",
        "texto texto texto\n",
        "\n",
        "falar do reshape\n",
        " 64x64 x 3 = 12288 entradas, cada um representa um x"
      ],
      "metadata": {
        "id": "KbeIH_aAnJFm"
      }
    },
    {
      "cell_type": "code",
      "source": [
        "#transformando em um array da numpy\n",
        "x_train = np.array(x_train)\n",
        "y_train = np.array(y_train)\n",
        "x_test = np.array(x_test)\n",
        "y_test = np.array(y_test)"
      ],
      "metadata": {
        "id": "oPm_h7lIlCZ3"
      },
      "execution_count": 10,
      "outputs": []
    },
    {
      "cell_type": "markdown",
      "source": [
        "pega quantas linhas vc quiser, mas eu quero com tantas colunas"
      ],
      "metadata": {
        "id": "IgAbnl0vp-Nz"
      }
    },
    {
      "cell_type": "code",
      "source": [
        "#quantidade de dados de treino e teste\n",
        "number_of_train = x_train.shape[0]\n",
        "number_of_test = x_test.shape[0]\n",
        "\n",
        "#fazendo o reshape dos x de treino e teste\n",
        "x_train_reshaped = x_train.reshape(number_of_train,-1).T\n",
        "x_test_reshaped = x_test.reshape(number_of_test,-1).T\n",
        "\n",
        "#fazendo o reshape dos y de treino e teste\n",
        "y_train_reshaped = y_train.reshape(number_of_train,-1).T\n",
        "y_test_reshaped = y_test.reshape(number_of_test,-1).T"
      ],
      "metadata": {
        "id": "g0a-JYb0oIS9"
      },
      "execution_count": 11,
      "outputs": []
    },
    {
      "cell_type": "code",
      "source": [
        "#avaliando a quantidade de valores para treino\n",
        "print('Variavéis independentes de treino:', x_train_reshaped.shape)\n",
        "print('Variavéis dependentes de treino:', y_train_reshaped.shape)"
      ],
      "metadata": {
        "colab": {
          "base_uri": "https://localhost:8080/"
        },
        "id": "-x7dWD_6seE-",
        "outputId": "f71cb770-f531-41d8-d7e7-9aa1af7277ff"
      },
      "execution_count": 12,
      "outputs": [
        {
          "output_type": "stream",
          "name": "stdout",
          "text": [
            "Variavéis independentes de treino: (12288, 209)\n",
            "Variavéis dependentes de treino: (1, 209)\n"
          ]
        }
      ]
    },
    {
      "cell_type": "code",
      "source": [
        "#avaliando a quantidade de valores para teste\n",
        "print('Variavéis independentes de teste:', x_test_reshaped.shape)\n",
        "print('Variavéis dependentes de teste:', y_test_reshaped.shape)"
      ],
      "metadata": {
        "colab": {
          "base_uri": "https://localhost:8080/"
        },
        "id": "W55yfwRHseHE",
        "outputId": "c6ffcb38-2d00-42bb-c94d-3437ff5c0387"
      },
      "execution_count": 13,
      "outputs": [
        {
          "output_type": "stream",
          "name": "stdout",
          "text": [
            "Variavéis independentes de teste: (12288, 50)\n",
            "Variavéis dependentes de teste: (1, 50)\n"
          ]
        }
      ]
    },
    {
      "cell_type": "markdown",
      "source": [
        "#Implementação da Regressão Logística para Classificação\n",
        "\n",
        "texto texto \n",
        "\n",
        "[link](https://ml-cheatsheet.readthedocs.io/en/latest/logistic_regression.html)\n",
        "\n",
        "classificação supervisionada, binária\n",
        "\n",
        "colocar uma equação\n"
      ],
      "metadata": {
        "id": "9pOjDDT5iDAZ"
      }
    },
    {
      "cell_type": "code",
      "source": [
        "#função para inicializar os valores\n",
        "def inicializar(x):\n",
        "  \"\"\"\n",
        "    texto explicando a função\n",
        "\n",
        "    dar uma atenção neste b\n",
        "  \"\"\"\n",
        "  w = np.zeros((x.shape[0],1))\n",
        "  b = 0.0\n",
        "  return w,b"
      ],
      "metadata": {
        "id": "tomc0CPjiHL0"
      },
      "execution_count": 14,
      "outputs": []
    },
    {
      "cell_type": "code",
      "source": [
        "#inicializando os weights e o bias com zero\n",
        "w,b = inicializar(x_train_reshaped)\n",
        "print('Dimensões de w',w.shape)\n",
        "print('Valor de b:',b)"
      ],
      "metadata": {
        "colab": {
          "base_uri": "https://localhost:8080/"
        },
        "id": "09w9tTl0-hrZ",
        "outputId": "c4ac2327-2ead-4f13-ccc9-77d6c87049b6"
      },
      "execution_count": 15,
      "outputs": [
        {
          "output_type": "stream",
          "name": "stdout",
          "text": [
            "Dimensões de w (12288, 1)\n",
            "Valor de b: 0.0\n"
          ]
        }
      ]
    },
    {
      "cell_type": "markdown",
      "source": [
        "falar de criar a função de ativação sigmoidal e falar que ela retorna a probabilidade\n",
        "\n",
        "<center><img src=\"https://ai-master.gitbooks.io/logistic-regression/content/assets/sigmoid_function.png\"></center>"
      ],
      "metadata": {
        "id": "Yh0sfEinVptI"
      }
    },
    {
      "cell_type": "code",
      "source": [
        "#função de ativação\n",
        "def sigmoidal(z):\n",
        "  return 1.0/(1.0+np.exp(-z))"
      ],
      "metadata": {
        "id": "1outXFvpVmql"
      },
      "execution_count": 16,
      "outputs": []
    },
    {
      "cell_type": "markdown",
      "source": [
        "## Forward Propagation - Left to Right\n",
        "\n",
        "texto texto\n",
        "<center><img src=\"https://lh5.googleusercontent.com/0h2x6KBGVF6sEkHA12kq-lrCGH9iX0_LEtphjCbb0A-WUQDqQwmjU0HvSzb3s_k-pe7tkAL1zC0MqfROHiCLnbogb5R2OVaD9FUX8tFEkYis8K8NlBq1SoBND3wM0oOCNQWFrtI\" width=\"50%\"></center>"
      ],
      "metadata": {
        "id": "5ibOQmMBwE6_"
      }
    },
    {
      "cell_type": "code",
      "source": [
        "#funcao da propagação da esquerda para a direita\n",
        "def forward_propagation(w,b,x):\n",
        "  z = np.dot(w.T,x) + b\n",
        "  a = sigmoidal(z)\n",
        "  return a"
      ],
      "metadata": {
        "id": "W6P5V70Ov5A1"
      },
      "execution_count": 17,
      "outputs": []
    },
    {
      "cell_type": "markdown",
      "source": [
        "texto texto"
      ],
      "metadata": {
        "id": "SOk25yfe9DMv"
      }
    },
    {
      "cell_type": "code",
      "source": [
        "#primeiros valores retornados após a aplicação na equação logística\n",
        "a =  forward_propagation(w,b,x_train_reshaped)\n",
        "print('Dimensões da matriz após passar pela função de ativação:',a.shape,'\\n')\n",
        "a"
      ],
      "metadata": {
        "id": "er_5nlqfv5DD",
        "colab": {
          "base_uri": "https://localhost:8080/"
        },
        "outputId": "be792295-b332-4116-c751-a53ed634dad5"
      },
      "execution_count": 18,
      "outputs": [
        {
          "output_type": "stream",
          "name": "stdout",
          "text": [
            "Dimensões da matriz após passar pela função de ativação: (1, 209) \n",
            "\n"
          ]
        },
        {
          "output_type": "execute_result",
          "data": {
            "text/plain": [
              "array([[0.5, 0.5, 0.5, 0.5, 0.5, 0.5, 0.5, 0.5, 0.5, 0.5, 0.5, 0.5, 0.5,\n",
              "        0.5, 0.5, 0.5, 0.5, 0.5, 0.5, 0.5, 0.5, 0.5, 0.5, 0.5, 0.5, 0.5,\n",
              "        0.5, 0.5, 0.5, 0.5, 0.5, 0.5, 0.5, 0.5, 0.5, 0.5, 0.5, 0.5, 0.5,\n",
              "        0.5, 0.5, 0.5, 0.5, 0.5, 0.5, 0.5, 0.5, 0.5, 0.5, 0.5, 0.5, 0.5,\n",
              "        0.5, 0.5, 0.5, 0.5, 0.5, 0.5, 0.5, 0.5, 0.5, 0.5, 0.5, 0.5, 0.5,\n",
              "        0.5, 0.5, 0.5, 0.5, 0.5, 0.5, 0.5, 0.5, 0.5, 0.5, 0.5, 0.5, 0.5,\n",
              "        0.5, 0.5, 0.5, 0.5, 0.5, 0.5, 0.5, 0.5, 0.5, 0.5, 0.5, 0.5, 0.5,\n",
              "        0.5, 0.5, 0.5, 0.5, 0.5, 0.5, 0.5, 0.5, 0.5, 0.5, 0.5, 0.5, 0.5,\n",
              "        0.5, 0.5, 0.5, 0.5, 0.5, 0.5, 0.5, 0.5, 0.5, 0.5, 0.5, 0.5, 0.5,\n",
              "        0.5, 0.5, 0.5, 0.5, 0.5, 0.5, 0.5, 0.5, 0.5, 0.5, 0.5, 0.5, 0.5,\n",
              "        0.5, 0.5, 0.5, 0.5, 0.5, 0.5, 0.5, 0.5, 0.5, 0.5, 0.5, 0.5, 0.5,\n",
              "        0.5, 0.5, 0.5, 0.5, 0.5, 0.5, 0.5, 0.5, 0.5, 0.5, 0.5, 0.5, 0.5,\n",
              "        0.5, 0.5, 0.5, 0.5, 0.5, 0.5, 0.5, 0.5, 0.5, 0.5, 0.5, 0.5, 0.5,\n",
              "        0.5, 0.5, 0.5, 0.5, 0.5, 0.5, 0.5, 0.5, 0.5, 0.5, 0.5, 0.5, 0.5,\n",
              "        0.5, 0.5, 0.5, 0.5, 0.5, 0.5, 0.5, 0.5, 0.5, 0.5, 0.5, 0.5, 0.5,\n",
              "        0.5, 0.5, 0.5, 0.5, 0.5, 0.5, 0.5, 0.5, 0.5, 0.5, 0.5, 0.5, 0.5,\n",
              "        0.5]])"
            ]
          },
          "metadata": {},
          "execution_count": 18
        }
      ]
    },
    {
      "cell_type": "markdown",
      "source": [
        "##Backward Propagation - Right to Left\n",
        "\n",
        "texto texto\n",
        "\n",
        "cost function\n",
        "loss function\n",
        "\n",
        "**COLOCAR UMA IMAGEM BOA**\n",
        "\n",
        "derivar a função"
      ],
      "metadata": {
        "id": "o8IREtgwvYFb"
      }
    },
    {
      "cell_type": "code",
      "source": [
        "#funcao propagacao da direita para a esquerda, \"aprender com os erros\"\n",
        "def backward_propagation(a,x,y):\n",
        "  m = x.shape[1]\n",
        "  dz = a - y\n",
        "  dw = (np.dot(x,dz.T))*(1/m)\n",
        "  db = np.sum(dz) * (1/m)\n",
        "  return dw,db"
      ],
      "metadata": {
        "id": "jfEdAvAUvHbI"
      },
      "execution_count": 19,
      "outputs": []
    },
    {
      "cell_type": "code",
      "source": [
        "#realizando a propagação left to right\n",
        "dw,db  = backward_propagation(a,x_train_reshaped,y_train_reshaped)\n",
        "\n",
        "#imprimindo as dimensões das matrizes\n",
        "print('Dimensão do dw:',dw.shape)\n",
        "print('Valor do db:',db)"
      ],
      "metadata": {
        "id": "KJgS4csevQux",
        "colab": {
          "base_uri": "https://localhost:8080/"
        },
        "outputId": "b3d4a883-70f0-4ca1-cd81-a82985ebc3a1"
      },
      "execution_count": 20,
      "outputs": [
        {
          "output_type": "stream",
          "name": "stdout",
          "text": [
            "Dimensão do dw: (12288, 1)\n",
            "Valor do db: 0.15550239234449761\n"
          ]
        }
      ]
    },
    {
      "cell_type": "code",
      "source": [
        "dw"
      ],
      "metadata": {
        "colab": {
          "base_uri": "https://localhost:8080/"
        },
        "id": "wbRi_rP71YFS",
        "outputId": "8e110865-8f90-4e1a-eea8-f47c3190cc88"
      },
      "execution_count": 21,
      "outputs": [
        {
          "output_type": "execute_result",
          "data": {
            "text/plain": [
              "array([[12.03827751],\n",
              "       [16.0645933 ],\n",
              "       [12.55502392],\n",
              "       ...,\n",
              "       [12.94019139],\n",
              "       [15.84210526],\n",
              "       [ 8.27511962]])"
            ]
          },
          "metadata": {},
          "execution_count": 21
        }
      ]
    },
    {
      "cell_type": "code",
      "source": [
        "db"
      ],
      "metadata": {
        "colab": {
          "base_uri": "https://localhost:8080/"
        },
        "id": "8UQhS7Vl1ZL_",
        "outputId": "48d224c0-34e7-46cb-9984-1226ddb815c0"
      },
      "execution_count": 22,
      "outputs": [
        {
          "output_type": "execute_result",
          "data": {
            "text/plain": [
              "0.15550239234449761"
            ]
          },
          "metadata": {},
          "execution_count": 22
        }
      ]
    },
    {
      "cell_type": "markdown",
      "source": [
        "## Gradiente Descendente\n",
        "texto texto\n",
        "\n",
        "<center><img src=\"https://cdn.builtin.com/sites/www.builtin.com/files/styles/ckeditor_optimize/public/inline-images/national/gradient-descent-convex-function.png\" width=\"50%\"></center>\n",
        "\n",
        "texto texto texto\n",
        "<center><img src=\"https://i.stack.imgur.com/khaJb.png\" width=\"40%\"></center>\n",
        "texto texto\n",
        "<center><img src=\"https://editor.analyticsvidhya.com/uploads/36152Screenshot%20(43).png\" width=\"30%\"></center>"
      ],
      "metadata": {
        "id": "_k-snywx-Qx4"
      }
    },
    {
      "cell_type": "code",
      "source": [
        "#função do gradiente descendente\n",
        "def gradient_descent(w,b,dw,db,alpha):\n",
        "  w = w - (alpha*dw)\n",
        "  b = b - (alpha*db)\n",
        "  return w,b"
      ],
      "metadata": {
        "id": "l6Q2XoAFvQ1e"
      },
      "execution_count": 23,
      "outputs": []
    },
    {
      "cell_type": "code",
      "source": [
        "#aplicando o gradiente uma vez\n",
        "w,b = gradient_descent(w,b,dw,db,alpha=0.05)"
      ],
      "metadata": {
        "id": "Ujmw8xHPvQ3x"
      },
      "execution_count": 24,
      "outputs": []
    },
    {
      "cell_type": "code",
      "source": [
        "#visualizando o w após o primeiro gradiente\n",
        "w"
      ],
      "metadata": {
        "colab": {
          "base_uri": "https://localhost:8080/"
        },
        "id": "iTgARldZC0da",
        "outputId": "75761ae0-7198-4023-ed55-31bb10087e3c"
      },
      "execution_count": 25,
      "outputs": [
        {
          "output_type": "execute_result",
          "data": {
            "text/plain": [
              "array([[-0.60191388],\n",
              "       [-0.80322967],\n",
              "       [-0.6277512 ],\n",
              "       ...,\n",
              "       [-0.64700957],\n",
              "       [-0.79210526],\n",
              "       [-0.41375598]])"
            ]
          },
          "metadata": {},
          "execution_count": 25
        }
      ]
    },
    {
      "cell_type": "code",
      "source": [
        "#visualizando o b após o primeiro gradiente\n",
        "b"
      ],
      "metadata": {
        "colab": {
          "base_uri": "https://localhost:8080/"
        },
        "id": "31m-hHo_C2LM",
        "outputId": "c89d4530-8ab6-4668-ff26-ce497baa151e"
      },
      "execution_count": 26,
      "outputs": [
        {
          "output_type": "execute_result",
          "data": {
            "text/plain": [
              "-0.007775119617224881"
            ]
          },
          "metadata": {},
          "execution_count": 26
        }
      ]
    },
    {
      "cell_type": "markdown",
      "source": [
        "falar de fazer um left to right novamente"
      ],
      "metadata": {
        "id": "nQF_kbBwD16s"
      }
    },
    {
      "cell_type": "code",
      "source": [
        "#refazendo o forward propagation\n",
        "forward_propagation(w,b,x_train_reshaped)"
      ],
      "metadata": {
        "colab": {
          "base_uri": "https://localhost:8080/"
        },
        "id": "qEm9GeOXDqK0",
        "outputId": "a0c2f98b-85bf-4ee6-f378-fe06ceaa5f17"
      },
      "execution_count": 27,
      "outputs": [
        {
          "output_type": "execute_result",
          "data": {
            "text/plain": [
              "array([[0., 0., 0., 0., 0., 0., 0., 0., 0., 0., 0., 0., 0., 0., 0., 0.,\n",
              "        0., 0., 0., 0., 0., 0., 0., 0., 0., 0., 0., 0., 0., 0., 0., 0.,\n",
              "        0., 0., 0., 0., 0., 0., 0., 0., 0., 0., 0., 0., 0., 0., 0., 0.,\n",
              "        0., 0., 0., 0., 0., 0., 0., 0., 0., 0., 0., 0., 0., 0., 0., 0.,\n",
              "        0., 0., 0., 0., 0., 0., 0., 0., 0., 0., 0., 0., 0., 0., 0., 0.,\n",
              "        0., 0., 0., 0., 0., 0., 0., 0., 0., 0., 0., 0., 0., 0., 0., 0.,\n",
              "        0., 0., 0., 0., 0., 0., 0., 0., 0., 0., 0., 0., 0., 0., 0., 0.,\n",
              "        0., 0., 0., 0., 0., 0., 0., 0., 0., 0., 0., 0., 0., 0., 0., 0.,\n",
              "        0., 0., 0., 0., 0., 0., 0., 0., 0., 0., 0., 0., 0., 0., 0., 0.,\n",
              "        0., 0., 0., 0., 0., 0., 0., 0., 0., 0., 0., 0., 0., 0., 0., 0.,\n",
              "        0., 0., 0., 0., 0., 0., 0., 0., 0., 0., 0., 0., 0., 0., 0., 0.,\n",
              "        0., 0., 0., 0., 0., 0., 0., 0., 0., 0., 0., 0., 0., 0., 0., 0.,\n",
              "        0., 0., 0., 0., 0., 0., 0., 0., 0., 0., 0., 0., 0., 0., 0., 0.,\n",
              "        0.]])"
            ]
          },
          "metadata": {},
          "execution_count": 27
        }
      ]
    },
    {
      "cell_type": "markdown",
      "source": [
        "funcao para decidir"
      ],
      "metadata": {
        "id": "w8Krl1svpt7P"
      }
    },
    {
      "cell_type": "code",
      "source": [
        "#funcao para realizar a decisao\n",
        "def decision(a):\n",
        "  for i in range(a.shape[1]):\n",
        "    if a[0][i] >= 0.5:\n",
        "      a[0][i] = 1\n",
        "    else:\n",
        "      a[0][i] = 0\n",
        "  return a"
      ],
      "metadata": {
        "id": "0B8P64y-koOm"
      },
      "execution_count": 28,
      "outputs": []
    },
    {
      "cell_type": "markdown",
      "source": [
        "## Realizando iterações do Gradiente Descendente\n",
        "\n",
        "texto texto texto"
      ],
      "metadata": {
        "id": "mOPNU8H3sCBD"
      }
    },
    {
      "cell_type": "code",
      "source": [
        "#iterações do gradiente descendente\n",
        "iteracoes = 5000\n",
        "lista_de_acertos , lista_de_iteracoes = [] , []\n",
        "for i in range(iteracoes):\n",
        "  a = forward_propagation(w,b,x_train_reshaped)\n",
        "  dw,db = backward_propagation(a,x_train_reshaped,y_train_reshaped)\n",
        "  w,b = gradient_descent(w,b,dw,db,alpha=0.001)\n",
        "  previsoes = decision(a)\n",
        "  if (i % 1000) == 0:\n",
        "    acertos = (previsoes == y_train_reshaped).sum() / previsoes.shape[1]\n",
        "    print('Iteração:',i)\n",
        "    print('Acertos:',acertos.round(2)) \n",
        "    lista_de_iteracoes.append(i)\n",
        "    lista_de_acertos.append(acertos)"
      ],
      "metadata": {
        "colab": {
          "base_uri": "https://localhost:8080/"
        },
        "id": "t5ZfwBv_sAll",
        "outputId": "761eb744-fb94-40ff-d087-085b7bf134f5"
      },
      "execution_count": 29,
      "outputs": [
        {
          "output_type": "stream",
          "name": "stdout",
          "text": [
            "Iteração: 0\n",
            "Acertos: 0.66\n",
            "Iteração: 1000\n",
            "Acertos: 1.0\n",
            "Iteração: 2000\n",
            "Acertos: 1.0\n",
            "Iteração: 3000\n",
            "Acertos: 1.0\n",
            "Iteração: 4000\n",
            "Acertos: 1.0\n"
          ]
        }
      ]
    },
    {
      "cell_type": "markdown",
      "source": [
        "fazer um gráfico"
      ],
      "metadata": {
        "id": "zZtPqgz4uTUz"
      }
    },
    {
      "cell_type": "code",
      "source": [
        "plt.plot(lista_de_iteracoes,lista_de_acertos);"
      ],
      "metadata": {
        "colab": {
          "base_uri": "https://localhost:8080/",
          "height": 264
        },
        "id": "4ei0dKj4sA0r",
        "outputId": "2cbf2493-0481-4b16-fe42-ea854ebec8b6"
      },
      "execution_count": 30,
      "outputs": [
        {
          "output_type": "display_data",
          "data": {
            "image/png": "[encoded data removed]",
            "text/plain": [
              "<Figure size 432x288 with 1 Axes>"
            ]
          },
          "metadata": {
            "needs_background": "light"
          }
        }
      ]
    },
    {
      "cell_type": "markdown",
      "source": [
        "# Utilizando para dados não treinados\n",
        "\n",
        "texto texto texto"
      ],
      "metadata": {
        "id": "HWlr02VMuWfz"
      }
    },
    {
      "cell_type": "code",
      "source": [
        ""
      ],
      "metadata": {
        "id": "zYKex4iMzxz6"
      },
      "execution_count": null,
      "outputs": []
    },
    {
      "cell_type": "code",
      "source": [
        ""
      ],
      "metadata": {
        "id": "M4RqsZlItDVk"
      },
      "execution_count": null,
      "outputs": []
    },
    {
      "cell_type": "markdown",
      "source": [
        "#Testando com uma imagem desconhecida da internet"
      ],
      "metadata": {
        "id": "FWmp8noE0Okb"
      }
    },
    {
      "cell_type": "code",
      "source": [
        ""
      ],
      "metadata": {
        "id": "gtyASWZ50S3-"
      },
      "execution_count": null,
      "outputs": []
    },
    {
      "cell_type": "code",
      "source": [
        ""
      ],
      "metadata": {
        "id": "hzTConn70S6R"
      },
      "execution_count": null,
      "outputs": []
    },
    {
      "cell_type": "code",
      "source": [
        ""
      ],
      "metadata": {
        "id": "wviNUh1K0S8c"
      },
      "execution_count": null,
      "outputs": []
    },
    {
      "cell_type": "code",
      "source": [
        ""
      ],
      "metadata": {
        "id": "TKmQDmgS0S-f"
      },
      "execution_count": null,
      "outputs": []
    },
    {
      "cell_type": "markdown",
      "source": [
        "#Considerações Finais\n",
        "\n",
        "texto texto texto"
      ],
      "metadata": {
        "id": "4nThXqNrVM1m"
      }
    }
  ]
}