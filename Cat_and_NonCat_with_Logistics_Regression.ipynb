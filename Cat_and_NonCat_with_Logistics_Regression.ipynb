{
  "nbformat": 4,
  "nbformat_minor": 0,
  "metadata": {
    "colab": {
      "name": "Cat and NonCat with Logistics Regression.ipynb",
      "provenance": [],
      "authorship_tag": "ABX9TyNt5IzdAopncSJeUh5L+C7d",
      "include_colab_link": true
    },
    "kernelspec": {
      "name": "python3",
      "display_name": "Python 3"
    },
    "language_info": {
      "name": "python"
    }
  },
  "cells": [
    {
      "cell_type": "markdown",
      "metadata": {
        "id": "view-in-github",
        "colab_type": "text"
      },
      "source": [
        "<a href=\"https://colab.research.google.com/github/FerrazThales/Deep-Learning/blob/main/Cat_and_NonCat_with_Logistics_Regression.ipynb\" target=\"_parent\"><img src=\"https://colab.research.google.com/assets/colab-badge.svg\" alt=\"Open In Colab\"/></a>"
      ]
    },
    {
      "cell_type": "markdown",
      "source": [
        "# Introdução a Redes Neurais\n",
        "AI is the new eletricity. a little explanation about features and a draw of a neural network.\n",
        "\n",
        "supervised learning , structured data and unstructured data\n",
        "\n",
        "scales deep learning progress"
      ],
      "metadata": {
        "id": "Di3qDdauVFog"
      }
    },
    {
      "cell_type": "code",
      "execution_count": 11,
      "metadata": {
        "id": "8owiXSCbU9y-"
      },
      "outputs": [],
      "source": [
        "#importando as bibliotecas que serão utilizadas\n",
        "import numpy as np\n",
        "import h5py"
      ]
    },
    {
      "cell_type": "markdown",
      "source": [
        "#Obtenção dos dados\n",
        "\n",
        "[link do kaggle](https://www.kaggle.com/muhammeddalkran/catvnoncat)\n",
        "\n",
        "dados de treino e teste\n",
        "\n"
      ],
      "metadata": {
        "id": "D0rHcQfzdw__"
      }
    },
    {
      "cell_type": "code",
      "source": [
        "#guardando os endereços dos dados de treino e teste\n",
        "train_data_path = \"/content/train_catvnoncat.h5\"\n",
        "test_data_path = \"/content/test_catvnoncat.h5\"\n",
        "\n",
        "#importando os dados de treino e teste\n",
        "train_data = h5py.File(train_data_path,'r')\n",
        "test_data = h5py.File(test_data_path,'r')\n",
        "\n",
        "#armazenando as variáveis do treino\n",
        "x_train = train_data['train_set_x']\n",
        "y_train = train_data['train_set_y']\n",
        "\n",
        "#armazenando as variáveis de teste\n",
        "x_test = test_data['test_set_x']\n",
        "y_test = test_data['test_set_y']"
      ],
      "metadata": {
        "id": "wyvxOp6xdyX7"
      },
      "execution_count": 26,
      "outputs": []
    },
    {
      "cell_type": "markdown",
      "source": [
        "#Análise Exploratória dos Dados\n",
        "\n",
        "texto texto texto"
      ],
      "metadata": {
        "id": "dv-m1iPfh0f7"
      }
    },
    {
      "cell_type": "code",
      "source": [
        "#avaliando a quantidade de valores para treino\n",
        "print('Variavéis independentes de treino:', x_train.shape)\n",
        "print('Variavéis dependentes de treino:', y_train.shape)"
      ],
      "metadata": {
        "colab": {
          "base_uri": "https://localhost:8080/"
        },
        "id": "l7_ysn38eFNQ",
        "outputId": "3c1247cd-738e-4869-d11d-76094a7abac4"
      },
      "execution_count": 31,
      "outputs": [
        {
          "output_type": "stream",
          "name": "stdout",
          "text": [
            "Variavéis independentes de treino: (209, 64, 64, 3)\n",
            "Variavéis dependentes de treino: (209,)\n"
          ]
        }
      ]
    },
    {
      "cell_type": "code",
      "source": [
        "#avaliando a quantidade de valores para teste\n",
        "print('Variavéis independentes de treino:', x_test.shape)\n",
        "print('Variavéis dependentes de treino:', y_test.shape)"
      ],
      "metadata": {
        "colab": {
          "base_uri": "https://localhost:8080/"
        },
        "id": "qLVVVoVseFPe",
        "outputId": "3356c261-f509-40d7-8e91-413f8e96faae"
      },
      "execution_count": 32,
      "outputs": [
        {
          "output_type": "stream",
          "name": "stdout",
          "text": [
            "Variavéis independentes de treino: (50, 64, 64, 3)\n",
            "Variavéis dependentes de treino: (50,)\n"
          ]
        }
      ]
    },
    {
      "cell_type": "code",
      "source": [
        ""
      ],
      "metadata": {
        "id": "twqVmddqjCjr"
      },
      "execution_count": null,
      "outputs": []
    },
    {
      "cell_type": "code",
      "source": [
        ""
      ],
      "metadata": {
        "id": "BDI6peGXjCl1"
      },
      "execution_count": null,
      "outputs": []
    },
    {
      "cell_type": "code",
      "source": [
        ""
      ],
      "metadata": {
        "id": "Ru8RDdGhjCoA"
      },
      "execution_count": null,
      "outputs": []
    },
    {
      "cell_type": "markdown",
      "source": [
        "#Implementação da Regressão Logística para Classificação"
      ],
      "metadata": {
        "id": "9pOjDDT5iDAZ"
      }
    },
    {
      "cell_type": "code",
      "source": [
        ""
      ],
      "metadata": {
        "id": "tomc0CPjiHL0"
      },
      "execution_count": null,
      "outputs": []
    },
    {
      "cell_type": "markdown",
      "source": [
        "falar de criar a função de ativação sigmoidal"
      ],
      "metadata": {
        "id": "Yh0sfEinVptI"
      }
    },
    {
      "cell_type": "code",
      "source": [
        "#criando a função de ativação\n",
        "def sigmoidal(z):\n",
        "  return 1/(1+np.exp(-z))"
      ],
      "metadata": {
        "id": "1outXFvpVmql"
      },
      "execution_count": null,
      "outputs": []
    },
    {
      "cell_type": "code",
      "source": [
        ""
      ],
      "metadata": {
        "id": "HPITp-xdiHih"
      },
      "execution_count": null,
      "outputs": []
    },
    {
      "cell_type": "code",
      "source": [
        ""
      ],
      "metadata": {
        "id": "4UCGVjryiHko"
      },
      "execution_count": null,
      "outputs": []
    },
    {
      "cell_type": "code",
      "source": [
        ""
      ],
      "metadata": {
        "id": "wKYDgYn-iHmy"
      },
      "execution_count": null,
      "outputs": []
    },
    {
      "cell_type": "code",
      "source": [
        ""
      ],
      "metadata": {
        "id": "-bgMhu4jiHo1"
      },
      "execution_count": null,
      "outputs": []
    }
  ]
}