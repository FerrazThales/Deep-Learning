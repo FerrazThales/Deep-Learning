{
  "nbformat": 4,
  "nbformat_minor": 0,
  "metadata": {
    "colab": {
      "name": "Cat and NonCat with Logistics Regression.ipynb",
      "provenance": [],
      "collapsed_sections": [],
      "authorship_tag": "ABX9TyO3GSLKfsgGRkfG110Y4FZ3",
      "include_colab_link": true
    },
    "kernelspec": {
      "name": "python3",
      "display_name": "Python 3"
    },
    "language_info": {
      "name": "python"
    }
  },
  "cells": [
    {
      "cell_type": "markdown",
      "metadata": {
        "id": "view-in-github",
        "colab_type": "text"
      },
      "source": [
        "<a href=\"https://colab.research.google.com/github/FerrazThales/Deep-Learning/blob/main/Cat_and_NonCat_with_Logistics_Regression.ipynb\" target=\"_parent\"><img src=\"https://colab.research.google.com/assets/colab-badge.svg\" alt=\"Open In Colab\"/></a>"
      ]
    },
    {
      "cell_type": "markdown",
      "source": [
        "<h1 align=\"center\"><b>Encontre eu e meus projetos nas redes sociais!</b></h1>\n",
        "<table>\n",
        "  <tr>\n",
        "  <td><a href=\"https://thalesferraz.medium.com/\">\n",
        "  <img src=\"https://github.com/FerrazThales/FerrazThales/blob/main/logo_gif.gif?raw=true\" width=\"800\" title=\"Olá, Meu nome é Thales e sou cientista de Dados!\"/>\n",
        "  </a>\n",
        "  </td>\n",
        "  <td><a href=\"https://github.com/FerrazThales\">\n",
        "  <img hspace=30 vspace=110 src=\"https://image.flaticon.com/icons/png/512/1051/1051326.png\" width=\"60%\" title=\"Entre em meu Github e veja mais projetos!\" /> \n",
        "  </a>\n",
        "  </td>\n",
        "  <td>\n",
        "  <a href=\"https://www.youtube.com/watch?v=3N-6OZBrDoI\">\n",
        "  <img vspace=110 src=\"https://download.logo.wine/logo/Medium_(website)/Medium_(website)-Logo.wine.png\" width=\"800\" title=\"Veja este meu projeto no Medium!\"/>\n",
        "  </a>\n",
        "  </td>\n",
        "  <td><a href=\"https://www.linkedin.com/in/thalesdefreitasferraz/\"><img vspace=150 src=\"https://image.flaticon.com/icons/png/512/889/889122.png\" width=\"40%\" title=\"Vamos trocar uma idéia sobre Data Science no LinkedIn?\" />\n",
        "  </a>\n",
        "  </td>\n",
        "  </tr>\n",
        "</table>\n"
      ],
      "metadata": {
        "id": "A7k-YvrQl6Fu"
      }
    },
    {
      "cell_type": "markdown",
      "source": [
        "# O que você vai aprender neste projeto: \n",
        "\n",
        "* O que são redes **neurais** artificiais e como construir uma **simples**.\n",
        "* Como **dados** de imagens são **armazenados** e podem ser **processados** atráves da vetorização.\n",
        "* Um **classificador** de imagens de **gatos** que utiliza *Deep Learning*.\n"
      ],
      "metadata": {
        "id": "rB_doX0vl60E"
      }
    },
    {
      "cell_type": "markdown",
      "source": [
        "# Introdução a Redes Neurais Artificiais 🧠\n",
        "\n",
        "> Todo fazer é um conhecer e todo conhecer é um fazer.  *(Maturana e Varela, A árvore do conhecimento).*\n",
        "\n",
        "A arquitetura do **sistema** nervoso vem sendo estudada há muito tempo. Os avanços da **neurociência** permitiram entender, de forma resumida, como as atividades ocorrem nas células cerebrais.\n",
        "\n",
        "Na imagem abaixo observamos que os **impulsos** nervosos são passados de um neurônio ao outro **através** de seus axônios (*saída*) e dendritos (*chegada*). A efetividade desta **sinapse** (*ponto de contato estreito entre os neurônios*) está **subordinada** ao estado de excitação/atividade de **cada** impulso. Caso não existam condições **favoráveis** ao impulso, a **comunicação** entre os neurônios não prossegue.\n",
        "\n",
        "<center><img src=\"https://cdn.kastatic.org/ka-perseus-images/b404bfc9d6246ff3475f6fd2b34fbb7374fc4873.png\" width=\"80%\"></center>\n",
        "\n",
        "\n",
        "Foi no paper [A logical calculus of the ideias immanent in nervous activity](https://jontalle.web.engr.illinois.edu/uploads/498-NS.19/McCulloch-Pitts-1943-neural-networks.pdf) publicado em **1943** que *McCulloch e Pitts*, inspirados pelo funcionamento dos **neurônios** reais, propuseram um modelo **matemático** que simulava os comportamentos *all-or-none* das **atividades** neurofisiológicas. Ou seja, este **tudo-ou-nada** representava se o sinal iria **prosseguir** ao próximo neurônio ou não - e isto estava condicionado a uma proposição **lógica**. \n",
        "\n",
        "A imagem abaixo ilustra este simples **modelo** matemático. As **entradas** (*x1,x2,x3...*) ingressam no neurônio, se combinam **linearmente** e ficam dependentes de uma função de **ativação**. Caso esta função retorne um valor **favorável** `(1)`, o impulso prosegue.\n",
        "\n",
        "<center><img src=\"https://miro.medium.com/max/738/1*fDHlg9iNo0LLK4czQqqO9A.png\"></center>\n",
        "\n",
        "Portanto, uma rede neural **artificial** simples é isso. Uma **combinação** de diferentes **entradas**, também chamadas de variáveis *independentes*, que são inputadas em uma função de ativação para nos trazer a estimativa da **probabilidade** de uma **classe** ocorrer. \n",
        "\n",
        "Ao longo deste projeto, será apresentada às **fórmulas matemáticas** que podem ser utilizadas para representar esta combinação linear e qual seria uma boa função de ativação, também haverá algumas **derivadas** para nos ajudar nestes processos🤓 . Além disso, será apresentada a ideia de **Forward Propagation** e **Backward Propagation**.\n",
        "\n",
        "A forma resumida da **construção** da estrutura de uma simples rede neural foi brilhantemente **resumida** por [Tess Ferrandez](https://www.datasciencecentral.com/profiles/blogs/logistic-regression-as-a-neural-network).\n",
        "\n",
        "<center><img src=\"https://storage.ning.com/topology/rest/1.0/file/get/2408482975?profile=RESIZE_710x\" width=\"75%\"></center>\n",
        "\n",
        "O objetivo deste projeto é utilizar esta estrutura de uma rede neural simples para **classificar** imagens. Portanto, a partir de diferentes figuras de **gatos** nosso algoritmo irá rotular o plot como **sendo** ou não de um gato.  "
      ],
      "metadata": {
        "id": "Di3qDdauVFog"
      }
    },
    {
      "cell_type": "code",
      "execution_count": 1,
      "metadata": {
        "id": "8owiXSCbU9y-"
      },
      "outputs": [],
      "source": [
        "#ignorar os warnings\n",
        "import warnings\n",
        "warnings.filterwarnings('ignore')\n",
        "\n",
        "#importando as bibliotecas que serão utilizadas\n",
        "import numpy as np\n",
        "import h5py\n",
        "import matplotlib.pyplot as plt\n",
        "%matplotlib inline"
      ]
    },
    {
      "cell_type": "markdown",
      "source": [
        "#Obtenção dos dados\n",
        "\n",
        "Estas bases de dados foram obtidas no [Kaggle](https://www.kaggle.com/muhammeddalkran/catvnoncat). De acordo com o autor, elas foram **disponibilizadas** como desafio de uma de suas aulas de **Introdução a Visão Computacional** na *Bilkent University*. As bases de dados vieram no formato `h5` e os dados já estavam **separados** em treino e teste.\n",
        "\n",
        "Em resumo, estes registros trazem informações de **imagens** (64x64 pixels) que contém - ou não contém, gatos. Desta forma, as imagens que contém **gatos** estão rotuladas com o valor 1 e as que não contém estão **rotuladas** com o valor **zero**.\n",
        "\n",
        "Caso os **links** dos datasets não estejam funcionando, você pode buscá-los em meu [Github](https://github.com/FerrazThales/Deep-Learning/tree/main/catvnoncat).\n"
      ],
      "metadata": {
        "id": "D0rHcQfzdw__"
      }
    },
    {
      "cell_type": "code",
      "source": [
        "#guardando os endereços dos dados de treino e teste\n",
        "train_data_path = \"/content/train_catvnoncat.h5\"\n",
        "test_data_path = \"/content/test_catvnoncat.h5\"\n",
        "\n",
        "#importando os dados de treino e teste\n",
        "train_data = h5py.File(train_data_path,'r')\n",
        "test_data = h5py.File(test_data_path,'r')\n",
        "\n",
        "#armazenando as variáveis do treino\n",
        "x_train = train_data['train_set_x']\n",
        "y_train = train_data['train_set_y']\n",
        "\n",
        "#armazenando as variáveis de teste\n",
        "x_test = test_data['test_set_x']\n",
        "y_test = test_data['test_set_y']"
      ],
      "metadata": {
        "id": "wyvxOp6xdyX7"
      },
      "execution_count": 3,
      "outputs": []
    },
    {
      "cell_type": "markdown",
      "source": [
        "#Análise Exploratória dos Dados\n",
        "\n",
        "Ok, importamos um **dataset** no formato [h5](https://pt.wikipedia.org/wiki/Hierarchical_Data_Format). Agora precisamos **explorar** um pouco mais o `shape` destes dados - uma vez que **imagens** quase sempre vem no formato [matricial](https://brasilescola.uol.com.br/matematica/matriz.htm). Além disso, realizar alguns **plots** para ver se de fato existem estes **gatos** e não pegamos o dataset errado 😆."
      ],
      "metadata": {
        "id": "dv-m1iPfh0f7"
      }
    },
    {
      "cell_type": "code",
      "source": [
        "#visualizando o tipo de dado\n",
        "type(x_train)"
      ],
      "metadata": {
        "colab": {
          "base_uri": "https://localhost:8080/"
        },
        "id": "VTPJyiFTpEPj",
        "outputId": "169b8b00-543e-48ed-e84d-7166fb334123"
      },
      "execution_count": 4,
      "outputs": [
        {
          "output_type": "execute_result",
          "data": {
            "text/plain": [
              "h5py._hl.dataset.Dataset"
            ]
          },
          "metadata": {},
          "execution_count": 4
        }
      ]
    },
    {
      "cell_type": "code",
      "source": [
        "#avaliando a quantidade de valores para treino\n",
        "print('Variavéis independentes de treino:', x_train.shape)\n",
        "print('Variavéis dependentes de treino:', y_train.shape)"
      ],
      "metadata": {
        "colab": {
          "base_uri": "https://localhost:8080/"
        },
        "id": "l7_ysn38eFNQ",
        "outputId": "fc7d05e1-c84b-4b51-da50-bca69e8bc684"
      },
      "execution_count": 5,
      "outputs": [
        {
          "output_type": "stream",
          "name": "stdout",
          "text": [
            "Variavéis independentes de treino: (209, 64, 64, 3)\n",
            "Variavéis dependentes de treino: (209,)\n"
          ]
        }
      ]
    },
    {
      "cell_type": "code",
      "source": [
        "#avaliando a quantidade de valores para teste\n",
        "print('Variavéis independentes de teste:', x_test.shape)\n",
        "print('Variavéis dependentes de teste:', y_test.shape)"
      ],
      "metadata": {
        "colab": {
          "base_uri": "https://localhost:8080/"
        },
        "id": "qLVVVoVseFPe",
        "outputId": "78ebe8ff-a862-45a2-d393-3fdce6b46d70"
      },
      "execution_count": 6,
      "outputs": [
        {
          "output_type": "stream",
          "name": "stdout",
          "text": [
            "Variavéis independentes de teste: (50, 64, 64, 3)\n",
            "Variavéis dependentes de teste: (50,)\n"
          ]
        }
      ]
    },
    {
      "cell_type": "markdown",
      "source": [
        "Como esperado, os **dados** estão em formas **matriciais** bem interessantes. Existem *209* registros para **treino** e *50* para **teste**. \n",
        "\n",
        "Os valores de `x` representam a forma **matricial** de representação das **imagens**. Já os valores de `y` são as **classificações** destas imagens. Mais adiante tornaremos estes **rótulos** de classificação mais visíveis e compreensíveis.\n",
        "\n",
        "Antes de continuar com o *python*, vamos dar uma nova olhada no **shape** de nosso `x_train`:\n",
        "\n",
        "**Variavéis independentes de treino: (209, 64, 64, 3)**\n",
        "\n",
        "- 209 são os registros de treino, ou seja, 209 imagens que podem ou não ser de gatos. ✅\n",
        "- 64 e 64 (?) \n",
        "- 3 (?) \n",
        "\n",
        "Lá em cima, comentamos que as **imagens** do dataset tem 64x64 **pixels**. Talvez este número *64* esteja **relacionado** com isso. Mas e o número **3**? A imagem abaixo nos traz algumas dicas.\n",
        "\n",
        "<center><img src=\"https://www.researchgate.net/profile/Belal-Ayyoub/publication/339435251/figure/fig1/AS:861467612028928@1582401292006/Color-image-and-RGB-matrices.jpg\"></center>\n",
        "\n",
        "Esta formosa imagem de um pato não é de 64x64 pixels, mas sim de **5x10** pixels. E o número 3 são os **canais** de cor, no caso **R**ed **G**reen **B**lue. O famoso **RGB**.\n",
        "\n",
        "Agora podemos voltar para o **Python** e ver como está estruturada a **primeira** imagem internamente.\n"
      ],
      "metadata": {
        "id": "ccda4_e-jtN0"
      }
    },
    {
      "cell_type": "code",
      "source": [
        "#observando os parâmetros da primeira imagem\n",
        "x_train[0].shape"
      ],
      "metadata": {
        "colab": {
          "base_uri": "https://localhost:8080/"
        },
        "id": "twqVmddqjCjr",
        "outputId": "bb0c50bb-68f6-4106-cf1c-51fb3ba6e655"
      },
      "execution_count": 7,
      "outputs": [
        {
          "output_type": "execute_result",
          "data": {
            "text/plain": [
              "(64, 64, 3)"
            ]
          },
          "metadata": {},
          "execution_count": 7
        }
      ]
    },
    {
      "cell_type": "code",
      "source": [
        "#analisando o primeiro registro\n",
        "x_train[0]"
      ],
      "metadata": {
        "colab": {
          "base_uri": "https://localhost:8080/"
        },
        "id": "NW_-q4utkveY",
        "outputId": "ab30f05e-7474-4e0c-b163-06f6ed9bb3a5"
      },
      "execution_count": 8,
      "outputs": [
        {
          "output_type": "execute_result",
          "data": {
            "text/plain": [
              "array([[[17, 31, 56],\n",
              "        [22, 33, 59],\n",
              "        [25, 35, 62],\n",
              "        ...,\n",
              "        [ 1, 28, 57],\n",
              "        [ 1, 26, 56],\n",
              "        [ 1, 22, 51]],\n",
              "\n",
              "       [[25, 36, 62],\n",
              "        [28, 38, 64],\n",
              "        [30, 40, 67],\n",
              "        ...,\n",
              "        [ 1, 27, 56],\n",
              "        [ 1, 25, 55],\n",
              "        [ 2, 21, 51]],\n",
              "\n",
              "       [[32, 40, 67],\n",
              "        [34, 42, 69],\n",
              "        [35, 42, 70],\n",
              "        ...,\n",
              "        [ 1, 25, 55],\n",
              "        [ 0, 24, 54],\n",
              "        [ 1, 21, 51]],\n",
              "\n",
              "       ...,\n",
              "\n",
              "       [[ 0,  0,  0],\n",
              "        [ 0,  0,  0],\n",
              "        [ 0,  0,  0],\n",
              "        ...,\n",
              "        [ 0,  0,  0],\n",
              "        [ 0,  0,  0],\n",
              "        [ 0,  0,  0]],\n",
              "\n",
              "       [[ 0,  0,  0],\n",
              "        [ 0,  0,  0],\n",
              "        [ 0,  0,  0],\n",
              "        ...,\n",
              "        [ 0,  0,  0],\n",
              "        [ 0,  0,  0],\n",
              "        [ 0,  0,  0]],\n",
              "\n",
              "       [[ 0,  0,  0],\n",
              "        [ 0,  0,  0],\n",
              "        [ 0,  0,  0],\n",
              "        ...,\n",
              "        [ 0,  0,  0],\n",
              "        [ 0,  0,  0],\n",
              "        [ 0,  0,  0]]], dtype=uint8)"
            ]
          },
          "metadata": {},
          "execution_count": 8
        }
      ]
    },
    {
      "cell_type": "markdown",
      "source": [
        "Estas matrizes estão **preenchidas** com vários número que vão de 0 até 255. Onde **zero** representa uma intensidade **nula** daquele canal de cor e **255** uma intensidade **máxima** do canal de cor **correspondente**.\n",
        "\n",
        "A imagem abaixo ajuda a **esclarecer** esta ideia de **intensidade** e a resultante do **agrupamento** dos diferentes canais de cor.\n",
        "\n",
        "<center><img src=\"https://miro.medium.com/max/778/1*NGiOxkpKOZ_ezzk2iWJppQ.png\" height=\"80%\"></center>"
      ],
      "metadata": {
        "id": "T0J0bErTttno"
      }
    },
    {
      "cell_type": "code",
      "source": [
        "#visualizando a primeira imagem\n",
        "plt.imshow(x_train[0]);\n",
        "plt.title('Rótulo: {} - não contém gato'.format(y_train[0]));"
      ],
      "metadata": {
        "colab": {
          "base_uri": "https://localhost:8080/",
          "height": 281
        },
        "id": "BDI6peGXjCl1",
        "outputId": "08166284-38de-4544-c278-3b51a805e3e3"
      },
      "execution_count": 9,
      "outputs": [
        {
          "output_type": "display_data",
          "data": {
            "image/png": "[encoded data removed]",
            "text/plain": [
              "<Figure size 432x288 with 1 Axes>"
            ]
          },
          "metadata": {
            "needs_background": "light"
          }
        }
      ]
    },
    {
      "cell_type": "markdown",
      "source": [
        "Eu não sei muito bem o que é a **primeira** imagem, mas certamente não é a de um **gato**. Nosso **objetivo** é conseguir ensinar a máquina a **classificar** gatos, então vamos procurar outro registro do dataset.\n",
        "\n",
        "O **terceiro** registro é a de um gato, encontramos. Mas você notou que ao **plotar** a imagem com [plt.imshow](https://matplotlib.org/stable/api/_as_gen/matplotlib.pyplot.show.html) aparece algo semelhante a uma **escala** do lado? E que ela vai até 60 e poucos?\n",
        "\n",
        "E nossa imagem tem 60 e poucos pixels..."
      ],
      "metadata": {
        "id": "LiiemWr9kl2q"
      }
    },
    {
      "cell_type": "code",
      "source": [
        "#exibindo a imagem de um gato da base de treino\n",
        "plt.imshow(x_train[2])\n",
        "plt.title('Rótulo: {} - contém gato'.format(y_train[2]));"
      ],
      "metadata": {
        "colab": {
          "base_uri": "https://localhost:8080/",
          "height": 281
        },
        "id": "Ru8RDdGhjCoA",
        "outputId": "68217a14-6df1-440e-afee-6418f5fb0c5e"
      },
      "execution_count": 10,
      "outputs": [
        {
          "output_type": "display_data",
          "data": {
            "image/png": "[encoded data removed]",
            "text/plain": [
              "<Figure size 432x288 with 1 Axes>"
            ]
          },
          "metadata": {
            "needs_background": "light"
          }
        }
      ]
    },
    {
      "cell_type": "markdown",
      "source": [
        "#Ajustando os Dados\n",
        "\n",
        "Por conveniência e performance computacional, se costuma tratar **cada** imagem como um **vetor**-coluna e mudar o formato para um **array** da numpy. Como nossas imagens tem 64x64 pixels e **três** canais de cor, este vetor teria cerca de `64x64x3 = 12288` **elementos**. Ao criarmos uma matriz que conntivesse cada uma destas imagens, teriamos uma matriz com 12288 **linhas** e `m` **colunas**. Onde m pode ser *209* se for os dados de **treino** ou *50* se for os dados de **teste**.\n",
        "\n",
        " <center><img src=\"https://cdn-images-1.medium.com/max/800/1*V8OxIKYrVuuPUhkD5LTMXA.png\" width=\"50%\"></center>"
      ],
      "metadata": {
        "id": "KbeIH_aAnJFm"
      }
    },
    {
      "cell_type": "code",
      "source": [
        "#transformando em um array da numpy\n",
        "x_train = np.array(x_train)\n",
        "y_train = np.array(y_train)\n",
        "x_test = np.array(x_test)\n",
        "y_test = np.array(y_test)"
      ],
      "metadata": {
        "id": "oPm_h7lIlCZ3"
      },
      "execution_count": 11,
      "outputs": []
    },
    {
      "cell_type": "markdown",
      "source": [
        "O código abaixo **transforma** os dados na matriz **comentada** acima. É importante ressaltar que os dados de cada imagem vão sendo **empilhados**. Primeiro são **colocados** os 64x64 elementos do canal vermelho, depois do verde e por fim os do canal azul."
      ],
      "metadata": {
        "id": "IgAbnl0vp-Nz"
      }
    },
    {
      "cell_type": "code",
      "source": [
        "#quantidade de dados de treino e teste\n",
        "number_of_train = x_train.shape[0]\n",
        "number_of_test = x_test.shape[0]\n",
        "\n",
        "#fazendo o reshape dos x de treino e teste\n",
        "x_train_reshaped = x_train.reshape(number_of_train,-1).T\n",
        "x_test_reshaped = x_test.reshape(number_of_test,-1).T\n",
        "\n",
        "#fazendo o reshape dos y de treino e teste\n",
        "y_train_reshaped = y_train.reshape(number_of_train,-1).T\n",
        "y_test_reshaped = y_test.reshape(number_of_test,-1).T"
      ],
      "metadata": {
        "id": "g0a-JYb0oIS9"
      },
      "execution_count": 12,
      "outputs": []
    },
    {
      "cell_type": "code",
      "source": [
        "#avaliando a quantidade de valores para treino\n",
        "print('Variavéis independentes de treino:', x_train_reshaped.shape)\n",
        "print('Variavéis dependentes de treino:', y_train_reshaped.shape)"
      ],
      "metadata": {
        "colab": {
          "base_uri": "https://localhost:8080/"
        },
        "id": "-x7dWD_6seE-",
        "outputId": "96b15717-31f6-41e7-acb3-356b8436c18f"
      },
      "execution_count": 13,
      "outputs": [
        {
          "output_type": "stream",
          "name": "stdout",
          "text": [
            "Variavéis independentes de treino: (12288, 209)\n",
            "Variavéis dependentes de treino: (1, 209)\n"
          ]
        }
      ]
    },
    {
      "cell_type": "code",
      "source": [
        "#avaliando a quantidade de valores para teste\n",
        "print('Variavéis independentes de teste:', x_test_reshaped.shape)\n",
        "print('Variavéis dependentes de teste:', y_test_reshaped.shape)"
      ],
      "metadata": {
        "colab": {
          "base_uri": "https://localhost:8080/"
        },
        "id": "W55yfwRHseHE",
        "outputId": "878c26c3-7c7f-48bf-be87-cc0c2356c8b7"
      },
      "execution_count": 14,
      "outputs": [
        {
          "output_type": "stream",
          "name": "stdout",
          "text": [
            "Variavéis independentes de teste: (12288, 50)\n",
            "Variavéis dependentes de teste: (1, 50)\n"
          ]
        }
      ]
    },
    {
      "cell_type": "markdown",
      "source": [
        "Lá em cima, falamos que iriamos comentar da variável **dependente** `Y`.\n",
        "Chegou a hora!\n",
        "\n",
        "A variável `y` traz o **rótulo** de cada imagem. O valor `1` significa que a imagem representa um gato, já o **zero** traz a **negativa**. Ou seja, a imagem **não** representa um gato.\n",
        "\n",
        "Ao exibir o `y` de treino (o de teste é o **mesmo** raciocínio) percebemos que o **primeiro** elemento **não** é a de um gato, já que está assinalada como **zero**. Já o **terceiro** elemento está com o valor `1`, portanto é a de um **gato**.\n",
        "\n",
        "Você deve ter observado que também demos uma [reshape](https://numpy.org/doc/stable/reference/generated/numpy.reshape.html) nesta variável. Fizemos isso porque o numpy não **performa** muito bem quando ela está do tipo (209,)."
      ],
      "metadata": {
        "id": "J1TfhuZ47SN9"
      }
    },
    {
      "cell_type": "code",
      "source": [
        "y_train_reshaped"
      ],
      "metadata": {
        "colab": {
          "base_uri": "https://localhost:8080/"
        },
        "id": "R_ynnSiN7TaG",
        "outputId": "47eea51e-c3ab-4cc2-edb7-35523d778000"
      },
      "execution_count": 15,
      "outputs": [
        {
          "output_type": "execute_result",
          "data": {
            "text/plain": [
              "array([[0, 0, 1, 0, 0, 0, 0, 1, 0, 0, 0, 1, 0, 1, 1, 0, 0, 0, 0, 1, 0, 0,\n",
              "        0, 0, 1, 1, 0, 1, 0, 1, 0, 0, 0, 0, 0, 0, 0, 0, 1, 0, 0, 1, 1, 0,\n",
              "        0, 0, 0, 1, 0, 0, 1, 0, 0, 0, 1, 0, 1, 1, 0, 1, 1, 1, 0, 0, 0, 0,\n",
              "        0, 0, 1, 0, 0, 1, 0, 0, 0, 0, 0, 0, 0, 0, 0, 0, 0, 1, 1, 0, 0, 0,\n",
              "        1, 0, 0, 0, 1, 1, 1, 0, 0, 1, 0, 0, 0, 0, 1, 0, 1, 0, 1, 1, 1, 1,\n",
              "        1, 1, 0, 0, 0, 0, 0, 1, 0, 0, 0, 1, 0, 0, 1, 0, 1, 0, 1, 1, 0, 0,\n",
              "        0, 1, 1, 1, 1, 1, 0, 0, 0, 0, 1, 0, 1, 1, 1, 0, 1, 1, 0, 0, 0, 1,\n",
              "        0, 0, 1, 0, 0, 0, 0, 0, 1, 0, 1, 0, 1, 0, 0, 1, 1, 1, 0, 0, 1, 1,\n",
              "        0, 1, 0, 1, 0, 0, 0, 0, 0, 1, 0, 0, 1, 0, 0, 0, 1, 0, 0, 0, 0, 1,\n",
              "        0, 0, 1, 0, 0, 0, 0, 0, 0, 0, 0]])"
            ]
          },
          "metadata": {},
          "execution_count": 15
        }
      ]
    },
    {
      "cell_type": "markdown",
      "source": [
        "Lembra que cada **quadradinho** de pixel pode estar indo de 0 até 255? Um processo comum em *machine learning* é reduzir o **intervalo** entre valores de nossa variável, ou seja, tentar diminuir este *255 - 0* que pode causar algum tipo de enviesamento para valores maiores. \n",
        "\n",
        "Uma maneira simples de realizar este **procedimento** é dividir os valores pelo valor **máximo** de intensidade do array, ou seja, 255.\n"
      ],
      "metadata": {
        "id": "g1XlMTEN2pN6"
      }
    },
    {
      "cell_type": "code",
      "source": [
        "#standartizando os valores de x\n",
        "x_train_reshaped = x_train_reshaped / 255\n",
        "x_test_reshaped = x_test_reshaped / 255"
      ],
      "metadata": {
        "id": "Vcc2aTzM2q2Z"
      },
      "execution_count": 16,
      "outputs": []
    },
    {
      "cell_type": "markdown",
      "source": [
        "#Implementação da combinação linear e função de ativação\n",
        "\n",
        "Pronto, agora temos nossas imagens **vetorizadas**. Precisamos fazer com que elas, nossos `x` (**inputs**), \"*entrem*\" em uma função linear e posteriormente \"*passem*\" por uma função de **ativação** que retorne a probabilidade de ela pertencer a classe dos gatos.\n",
        "\n",
        "A figura embaixo **ilustra** este processo de forma **simplificada**. É importante ressaltar que **neste caso** exemplificado não são 12288 elementos que estão determinando uma imagem, mas **apenas** 3.\n",
        "\n",
        "<center><img src=\"https://miro.medium.com/max/1200/1*sPg-0hha7o3iNPjY4n-vow.jpeg\" width=\"60%\"></center>\n",
        "\n",
        "Neste momento, precisamos retornar a ideia **inicial** do neurônio proposto por [McCulloch e Pitts](https://jontalle.web.engr.illinois.edu/uploads/498-NS.19/McCulloch-Pitts-1943-neural-networks.pdf). Em nosso caso, a combinação linear (`z`) é uma **regressão** simples. Onde os valores de `w` e `b` são variáveis que foram **atribuídas** com o valor zero.\n",
        "\n",
        "<center><img src=\"https://miro.medium.com/max/700/1*wldytf7qpc3svHc0hLMiJQ@2x.png\" width=\"30%\"></center>\n",
        "\n",
        "**Obs: os valores dos vetores w e b serão otimizados posteriormente.**\n",
        "\n",
        "É importante notar que `w`, ou sua [transposta](https://www.todamateria.com.br/matriz-transposta/), deve ser um **vetor** de tamanho *1 X 12288*. Isso ocorre porque uma das **propriedades** da  [multiplicação de vetores - ou matrizes](https://www.infoescola.com/matematica/operacoes-com-matrizes-multiplicacao/), obriga o número de **colunas** de uma matriz ter **igual** valor ao número de **linhas** da outra matriz.\n",
        "\n",
        "<center><img src=\"https://cdn-images-1.medium.com/max/800/1*DwTuChaiToN9qnhPi4cDVg.png\" width=\"70%\"></center>\n",
        "\n",
        "Após realizada a **multiplicação** entre `w` e `x`, obteremos um vetor *1 x 209*. Basta somar o b, que deve ter a **mesma dimensão** desta última *multiplicação* feita, e temos os valores de nossa combinação linear `z` - um vetor de dimensão *1 x 209*. Volte um pouquinho no texto e **compare** com a dimensão do `y_train_reshaped`!\n",
        "\n",
        "**Obs: o 209 é considerando os dados de treino, caso fosse os de teste seria 50.**"
      ],
      "metadata": {
        "id": "9pOjDDT5iDAZ"
      }
    },
    {
      "cell_type": "code",
      "source": [
        "#função para inicializar os valores de w e b como zeros\n",
        "def inicializar(x):\n",
        "  w = np.zeros((x.shape[0],1))\n",
        "  b = 0.0\n",
        "  return w,b"
      ],
      "metadata": {
        "id": "tomc0CPjiHL0"
      },
      "execution_count": 17,
      "outputs": []
    },
    {
      "cell_type": "code",
      "source": [
        "#inicializando os weights e o bias com zero\n",
        "w,b = inicializar(x_train_reshaped)\n",
        "print('Dimensões de w:',w.shape)\n",
        "print('Valor de b:',b)"
      ],
      "metadata": {
        "colab": {
          "base_uri": "https://localhost:8080/"
        },
        "id": "09w9tTl0-hrZ",
        "outputId": "d7743682-0ea7-4b71-cbf2-3834227bc392"
      },
      "execution_count": 18,
      "outputs": [
        {
          "output_type": "stream",
          "name": "stdout",
          "text": [
            "Dimensões de w: (12288, 1)\n",
            "Valor de b: 0.0\n"
          ]
        }
      ]
    },
    {
      "cell_type": "markdown",
      "source": [
        "Ok, temos uma combinação **linear** e setamos os valores iniciais de `w` e `b` como **zero**. Tudo feito para a parte **linear**!\n",
        "\n",
        "Agora precisamos de uma **função** que coloque nossos valores em um intervalo entre `0` e `1`, isso é conhecido como [função de ativação](https://www.deeplearningbook.com.br/funcao-de-ativacao/#:~:text=A%20fun%C3%A7%C3%A3o%20de%20ativa%C3%A7%C3%A3o%20%C3%A9%20a%20transforma%C3%A7%C3%A3o%20n%C3%A3o%20linear%20que,simplesmente%20fazem%20uma%20transforma%C3%A7%C3%A3o%20linear.). Estes valores representariam a **probabilidade** da imagem representar ou não um **gato**. Em resumo, nós estamos tentando **simular** a atividade *all-or-none* dos neurônios. Neste caso específico 1 , ou próximo disso, para **gatos** e 0 para não-gatos.\n",
        "\n",
        "A função de **ativação** que utilizaremos está **ilustrada** abaixo. Ela é conhecida como [sigmóide](https://pt.wikipedia.org/wiki/Fun%C3%A7%C3%A3o_sigmoide). Observe que seu eixo **vertical** vai de zero até 1. \n",
        "\n",
        "<center><img src=\"https://ai-master.gitbooks.io/logistic-regression/content/assets/sigmoid_function.png\"></center>\n",
        "\n",
        "\n",
        "Com a função de ativação **definida**, podemos **inputar** nossos valores de `z` já estabelecidos. Isso, em termos **matemáticos** significa:\n",
        "\n",
        "<center><img src=\"https://miro.medium.com/max/700/1*NamKraiU7OQaDzkY1FSX3w@2x.png\" width=\"50%\"></center>"
      ],
      "metadata": {
        "id": "Yh0sfEinVptI"
      }
    },
    {
      "cell_type": "code",
      "source": [
        "#função de ativação sigmoidal\n",
        "def sigmoidal(z):\n",
        "  return 1.0/(1.0+np.exp(-z))"
      ],
      "metadata": {
        "id": "1outXFvpVmql"
      },
      "execution_count": 19,
      "outputs": []
    },
    {
      "cell_type": "markdown",
      "source": [
        "**Sintetizando** tudo o que foi feito até agora:\n",
        "\n",
        "* **empilhamos** os valores de cada imagem em um **coluna** da matriz `x`. Cada imagem está em uma coluna.\n",
        "* essa matriz `x` passará por uma transformação **linear**.\n",
        "* o **resultado** desta transformação será **inputada** em uma função de **ativação** e **retornará** um valor entre zero e 1.\n",
        "* o valor (y) retornado é considerado a **probabilidade** de nossa imagem ser ou não um gato.\n",
        "\n",
        "\n",
        "<center><img src=\"https://cdn-images-1.medium.com/max/800/1*NqQz69UgV083Id6Ex7pcvA.png\"></center>\n",
        "\n"
      ],
      "metadata": {
        "id": "MqPetijHaxYw"
      }
    },
    {
      "cell_type": "markdown",
      "source": [
        "## Forward Propagation - Left to Right ⏩\n",
        "\n",
        "Agora é a hora de **simular** o *aprendizado* da forma mais simples possível.\n",
        "\n",
        "Suponha que nosso neurônio aviste uma **imagem** aleatória. Da mesma forma que ocorre em um **impulso** elétrico, os elementos da imagem se **propagam** da *esquerda para direita* em nossa rede. Estes valores de entrada se combinam **linearmente** e passam por uma função de **ativação** que dirá se temos ou não um gato.\n",
        "\n",
        "<center><img src=\"https://lh5.googleusercontent.com/0h2x6KBGVF6sEkHA12kq-lrCGH9iX0_LEtphjCbb0A-WUQDqQwmjU0HvSzb3s_k-pe7tkAL1zC0MqfROHiCLnbogb5R2OVaD9FUX8tFEkYis8K8NlBq1SoBND3wM0oOCNQWFrtI\" width=\"50%\"></center>"
      ],
      "metadata": {
        "id": "5ibOQmMBwE6_"
      }
    },
    {
      "cell_type": "code",
      "source": [
        "#funcao da propagação da esquerda para a direita\n",
        "def forward_propagation(w,b,x):\n",
        "  z = np.dot(w.T,x) + b\n",
        "  a = sigmoidal(z)\n",
        "  return a"
      ],
      "metadata": {
        "id": "W6P5V70Ov5A1"
      },
      "execution_count": 20,
      "outputs": []
    },
    {
      "cell_type": "markdown",
      "source": [
        "Lembra que setamos os valores do vetores w e b como **zeros**? No código abaixo vemos o resultado desta propagação direta **unidirecional** utilizando estes valores **considerados**."
      ],
      "metadata": {
        "id": "SOk25yfe9DMv"
      }
    },
    {
      "cell_type": "code",
      "source": [
        "#primeiros valores retornados após a aplicação na equação logística\n",
        "a =  forward_propagation(w,b,x_train_reshaped)\n",
        "print('Dimensões da matriz após passar pela função de ativação:',a.shape,'\\n')\n",
        "a"
      ],
      "metadata": {
        "id": "er_5nlqfv5DD",
        "colab": {
          "base_uri": "https://localhost:8080/"
        },
        "outputId": "73df8d9b-42a5-4bf6-aaf8-c1bc1cc0ca40"
      },
      "execution_count": 21,
      "outputs": [
        {
          "output_type": "stream",
          "name": "stdout",
          "text": [
            "Dimensões da matriz após passar pela função de ativação: (1, 209) \n",
            "\n"
          ]
        },
        {
          "output_type": "execute_result",
          "data": {
            "text/plain": [
              "array([[0.5, 0.5, 0.5, 0.5, 0.5, 0.5, 0.5, 0.5, 0.5, 0.5, 0.5, 0.5, 0.5,\n",
              "        0.5, 0.5, 0.5, 0.5, 0.5, 0.5, 0.5, 0.5, 0.5, 0.5, 0.5, 0.5, 0.5,\n",
              "        0.5, 0.5, 0.5, 0.5, 0.5, 0.5, 0.5, 0.5, 0.5, 0.5, 0.5, 0.5, 0.5,\n",
              "        0.5, 0.5, 0.5, 0.5, 0.5, 0.5, 0.5, 0.5, 0.5, 0.5, 0.5, 0.5, 0.5,\n",
              "        0.5, 0.5, 0.5, 0.5, 0.5, 0.5, 0.5, 0.5, 0.5, 0.5, 0.5, 0.5, 0.5,\n",
              "        0.5, 0.5, 0.5, 0.5, 0.5, 0.5, 0.5, 0.5, 0.5, 0.5, 0.5, 0.5, 0.5,\n",
              "        0.5, 0.5, 0.5, 0.5, 0.5, 0.5, 0.5, 0.5, 0.5, 0.5, 0.5, 0.5, 0.5,\n",
              "        0.5, 0.5, 0.5, 0.5, 0.5, 0.5, 0.5, 0.5, 0.5, 0.5, 0.5, 0.5, 0.5,\n",
              "        0.5, 0.5, 0.5, 0.5, 0.5, 0.5, 0.5, 0.5, 0.5, 0.5, 0.5, 0.5, 0.5,\n",
              "        0.5, 0.5, 0.5, 0.5, 0.5, 0.5, 0.5, 0.5, 0.5, 0.5, 0.5, 0.5, 0.5,\n",
              "        0.5, 0.5, 0.5, 0.5, 0.5, 0.5, 0.5, 0.5, 0.5, 0.5, 0.5, 0.5, 0.5,\n",
              "        0.5, 0.5, 0.5, 0.5, 0.5, 0.5, 0.5, 0.5, 0.5, 0.5, 0.5, 0.5, 0.5,\n",
              "        0.5, 0.5, 0.5, 0.5, 0.5, 0.5, 0.5, 0.5, 0.5, 0.5, 0.5, 0.5, 0.5,\n",
              "        0.5, 0.5, 0.5, 0.5, 0.5, 0.5, 0.5, 0.5, 0.5, 0.5, 0.5, 0.5, 0.5,\n",
              "        0.5, 0.5, 0.5, 0.5, 0.5, 0.5, 0.5, 0.5, 0.5, 0.5, 0.5, 0.5, 0.5,\n",
              "        0.5, 0.5, 0.5, 0.5, 0.5, 0.5, 0.5, 0.5, 0.5, 0.5, 0.5, 0.5, 0.5,\n",
              "        0.5]])"
            ]
          },
          "metadata": {},
          "execution_count": 21
        }
      ]
    },
    {
      "cell_type": "markdown",
      "source": [
        "##Backward Propagation - Right to Left ⏪  ***TERMINAR***\n",
        "\n",
        "A **probabilidade** de todas as imagens serem gatos **resultou** em `0.5`. Se aplicássemos este algoritmo em imagens **desconhecidas** os resultados seriam os **mesmos**.\n",
        "\n",
        "Isso aconteceu porque nossas variáveis `w` e `b` tem os seus elementos valendo **zero**. Mas quais seriam os **melhores** valores para `w` e `b`? Eu também não sei! 😭\n",
        "\n",
        "Mas é **justamente** isto que o neurônio tem que **aprender**. *Sozinho*...\n",
        "\n",
        "Uma **técnica** para realizar esta tarefa foi popularizada por [Geoffrey Hinton](https://medium.com/syncedreview/who-invented-backpropagation-hinton-says-he-didnt-but-his-work-made-it-popular-e0854504d6d1), ela é chamada de **Backpropagation**.  Basicamente, serão utilizados os **erros** de nosso algoritmo para melhorá-lo.\n",
        "\n",
        "Para **calcular** o erro de **todas** as imagens, usaremos uma [Função de Perda](https://towardsdatascience.com/machine-learning-fundamentals-via-linear-regression-41a5d11f5220). Sua fórmula\n",
        " matemática é a seguinte:\n",
        "\n",
        "<center><img src=\"https://editor.analyticsvidhya.com/uploads/90149Capture0.PNG\"></center>\n",
        "\n",
        "**Obs: p(yi) é nosso estimador. Ou seja, os valores resultantes de nossa função de ativação.**\n",
        "\n",
        "Ok, neste momento estou ciente que dei uma **cartada**. Mas esta é a *cost function* utilizada para a regressão **logística**. **Utilizamos essa função pq**....\n",
        "\n",
        "\n",
        "Vamos **voltar** a nossa rede neural e o backpropagation. Nós queremos valores para as variáveis `w` e `b` que **minimizem** a nossa função de **perda**. *Minimizar* e *função*, duas palavras que os **matemáticos** são apaixonados!\n",
        "\n",
        "Na verdade, esta ideia de *maximizar/minimizar* **funções** também pode ser entendida como uma [otimização](https://pt.wikipedia.org/wiki/Otimiza%C3%A7%C3%A3o). Se você entende um pouco de **cálculo** sabe que para encontrar o ponto **mínimo** da perda em função das variáveis `w` e `b`, é necessário realizar as **derivadas** destas funções em **razão** destas variáveis. Mais especificamente, a derivada **parcial** de cada variável **considerando** a função de perda.\n",
        "\n",
        "<center><img src=\"https://i.ytimg.com/vi/mbjHQzkLWFE/hqdefault.jpg\"></center>\n",
        "\n",
        "Vamos lá, no fundo queremos saber como as variáveis de **entrada** variam em função da **perda**, isso quer dizer:\n",
        "\n",
        "<center>\n",
        " $\\frac{\\partial L}{\\partial w}$ e $\\frac{\\partial L}{\\partial b}$</center>\n",
        "\n",
        "Pela [regra da cadeia](https://www.somatematica.com.br/superior/derivada2.php), temos que:\n",
        "\n",
        " $\\frac{\\partial L}{\\partial w} = \\frac{\\partial L}{\\partial z}\\frac{\\partial z}{\\partial w}$ e $\\frac{\\partial L}{\\partial b} = \\frac{\\partial L}{\\partial z}\\frac{\\partial z}{\\partial b}$\n",
        "\n",
        "  * onde pode ser visto facilmente que : $\\frac{\\partial z}{\\partial b} = 1$\n",
        "\n",
        "Expandindo os últimos termos, obtemos:\n",
        "\n",
        " $\\frac{\\partial L}{\\partial w} = \\frac{\\partial L}{\\partial a}\\frac{\\partial a}{\\partial z}\\frac{\\partial z}{\\partial w}$ e $\\frac{\\partial L}{\\partial b} = \\frac{\\partial L}{\\partial a}\\frac{\\partial a}{\\partial z}$\n",
        "\n",
        "Não precisamos reinventar a roda, [a sigmóide já foi derivada](https://towardsdatascience.com/derivative-of-the-sigmoid-function-536880cf918e)\n",
        "\n",
        "\n",
        "\n",
        "$\\frac{\\partial a}{\\partial z}=\\vec{a}(1-\\vec{a})$\n"
      ],
      "metadata": {
        "id": "o8IREtgwvYFb"
      }
    },
    {
      "cell_type": "code",
      "source": [
        "#funcao propagacao da direita para a esquerda, \"aprender com os erros\"\n",
        "def backward_propagation(a,x,y):\n",
        "  m = x.shape[1]\n",
        "  dz = a - y\n",
        "  dw = (np.dot(x,dz.T))*(1/m)\n",
        "  db = np.sum(dz) * (1/m)\n",
        "  return dw,db"
      ],
      "metadata": {
        "id": "jfEdAvAUvHbI"
      },
      "execution_count": null,
      "outputs": []
    },
    {
      "cell_type": "code",
      "source": [
        "#realizando a propagação left to right\n",
        "dw,db  = backward_propagation(a,x_train_reshaped,y_train_reshaped)\n",
        "\n",
        "#imprimindo as dimensões das matrizes\n",
        "print('Dimensão do dw:',dw.shape)\n",
        "print('Valor do db:',db)"
      ],
      "metadata": {
        "id": "KJgS4csevQux",
        "colab": {
          "base_uri": "https://localhost:8080/"
        },
        "outputId": "03189513-d499-4ed2-ac3e-c6c0cf04330b"
      },
      "execution_count": null,
      "outputs": [
        {
          "output_type": "stream",
          "name": "stdout",
          "text": [
            "Dimensão do dw: (12288, 1)\n",
            "Valor do db: 0.15550239234449761\n"
          ]
        }
      ]
    },
    {
      "cell_type": "markdown",
      "source": [
        "## Gradiente Descendente\n",
        "texto texto\n",
        "\n",
        "<center><img src=\"https://cdn.builtin.com/sites/www.builtin.com/files/styles/ckeditor_optimize/public/inline-images/national/gradient-descent-convex-function.png\" width=\"30%\"></center>\n",
        "\n",
        "texto texto texto\n",
        "<center><img src=\"https://i.stack.imgur.com/khaJb.png\" width=\"40%\"></center>\n",
        "texto texto\n",
        "<center><img src=\"https://editor.analyticsvidhya.com/uploads/36152Screenshot%20(43).png\" width=\"30%\"></center>\n",
        "\n"
      ],
      "metadata": {
        "id": "_k-snywx-Qx4"
      }
    },
    {
      "cell_type": "code",
      "source": [
        "#função do gradiente descendente\n",
        "def gradient_descent(w,b,dw,db,alpha):\n",
        "  w = w - (alpha*dw)\n",
        "  b = b - (alpha*db)\n",
        "  return w,b"
      ],
      "metadata": {
        "id": "l6Q2XoAFvQ1e"
      },
      "execution_count": null,
      "outputs": []
    },
    {
      "cell_type": "code",
      "source": [
        "#aplicando o gradiente uma vez\n",
        "w,b = gradient_descent(w,b,dw,db,alpha=0.05)"
      ],
      "metadata": {
        "id": "Ujmw8xHPvQ3x"
      },
      "execution_count": null,
      "outputs": []
    },
    {
      "cell_type": "code",
      "source": [
        "#visualizando o w após o primeiro gradiente\n",
        "w"
      ],
      "metadata": {
        "id": "iTgARldZC0da",
        "colab": {
          "base_uri": "https://localhost:8080/"
        },
        "outputId": "92987a7b-ff9b-455a-edd7-ef2a170c0059"
      },
      "execution_count": null,
      "outputs": [
        {
          "output_type": "execute_result",
          "data": {
            "text/plain": [
              "array([[-0.00236045],\n",
              "       [-0.00314992],\n",
              "       [-0.00246177],\n",
              "       ...,\n",
              "       [-0.00253729],\n",
              "       [-0.0031063 ],\n",
              "       [-0.00162257]])"
            ]
          },
          "metadata": {},
          "execution_count": 25
        }
      ]
    },
    {
      "cell_type": "code",
      "source": [
        "#visualizando o b após o primeiro gradiente\n",
        "b"
      ],
      "metadata": {
        "id": "31m-hHo_C2LM",
        "colab": {
          "base_uri": "https://localhost:8080/"
        },
        "outputId": "cf6fee5e-7fe4-4fb8-9cc7-5feb55d35bbb"
      },
      "execution_count": null,
      "outputs": [
        {
          "output_type": "execute_result",
          "data": {
            "text/plain": [
              "-0.007775119617224881"
            ]
          },
          "metadata": {},
          "execution_count": 26
        }
      ]
    },
    {
      "cell_type": "markdown",
      "source": [
        "falar de fazer um left to right novamente"
      ],
      "metadata": {
        "id": "nQF_kbBwD16s"
      }
    },
    {
      "cell_type": "code",
      "source": [
        "#refazendo o forward propagation\n",
        "forward_propagation(w,b,x_train_reshaped)"
      ],
      "metadata": {
        "id": "qEm9GeOXDqK0",
        "colab": {
          "base_uri": "https://localhost:8080/"
        },
        "outputId": "d169d966-8d47-4bb9-ac79-cd71d6ed0573"
      },
      "execution_count": null,
      "outputs": [
        {
          "output_type": "execute_result",
          "data": {
            "text/plain": [
              "array([[5.15371275e-05, 1.00416208e-07, 6.90105825e-09, 8.25975462e-05,\n",
              "        6.04630389e-05, 1.71890542e-04, 6.51982405e-05, 1.16083030e-05,\n",
              "        7.18799375e-07, 4.42643816e-06, 4.49956267e-09, 1.60608657e-07,\n",
              "        6.27427570e-06, 1.50607025e-09, 1.70478589e-08, 5.44878887e-10,\n",
              "        2.87244853e-09, 4.88935925e-11, 2.65235007e-08, 3.35837800e-04,\n",
              "        6.68138075e-08, 3.24431632e-05, 3.07121378e-11, 2.99957257e-10,\n",
              "        9.31860166e-09, 2.58536275e-03, 4.48606345e-07, 1.49141113e-07,\n",
              "        1.11353417e-05, 9.91140095e-07, 3.74077895e-04, 1.53116595e-08,\n",
              "        1.59178634e-07, 2.71314074e-08, 6.99315574e-06, 2.08427941e-05,\n",
              "        1.06107986e-06, 1.32201485e-10, 3.96881496e-02, 1.24198476e-06,\n",
              "        6.55995680e-07, 1.56335474e-03, 6.97270310e-08, 9.62351237e-09,\n",
              "        2.43048643e-07, 8.95776645e-05, 1.42805478e-07, 6.06406423e-06,\n",
              "        9.05486884e-06, 1.05593356e-06, 2.91461324e-10, 6.97966480e-08,\n",
              "        3.60577187e-08, 2.94594843e-10, 9.13046307e-06, 6.47965618e-10,\n",
              "        2.11244082e-06, 2.04167932e-11, 1.10645511e-03, 3.55625078e-05,\n",
              "        2.09638166e-05, 5.82648743e-07, 1.05003259e-08, 2.08118573e-06,\n",
              "        4.00022940e-11, 2.97841537e-05, 5.13790406e-09, 5.00180589e-07,\n",
              "        2.68125906e-08, 6.92634148e-09, 4.37905659e-08, 7.44983559e-06,\n",
              "        4.12519511e-04, 7.89434781e-06, 1.92163942e-07, 1.32448489e-08,\n",
              "        3.58438189e-06, 3.12571494e-06, 6.63718135e-06, 2.86298533e-03,\n",
              "        2.76589188e-07, 2.09654632e-08, 2.20612810e-04, 9.98479435e-05,\n",
              "        6.64317343e-08, 1.33623837e-07, 1.03208490e-08, 2.60563714e-05,\n",
              "        1.01093515e-07, 1.65995656e-04, 2.04496345e-08, 7.10472072e-07,\n",
              "        2.76659152e-06, 1.02132658e-06, 6.59618116e-08, 2.45962285e-10,\n",
              "        1.44516474e-09, 1.82608905e-06, 3.52152829e-10, 2.93444874e-08,\n",
              "        2.34338637e-08, 8.99919709e-07, 2.06104684e-08, 8.02880761e-07,\n",
              "        9.62896991e-06, 2.21069162e-09, 5.19448797e-09, 5.36739686e-07,\n",
              "        8.84198752e-07, 1.57108019e-08, 1.63909309e-08, 4.95653817e-07,\n",
              "        1.07204189e-04, 1.72344877e-08, 1.49406940e-09, 1.11722798e-07,\n",
              "        2.70305241e-07, 1.86006358e-06, 1.69107916e-05, 1.12282613e-07,\n",
              "        5.13761689e-07, 6.82354966e-10, 5.21975492e-07, 2.89104911e-08,\n",
              "        1.61925278e-07, 1.40365967e-06, 3.74957483e-07, 1.26183493e-05,\n",
              "        2.83154357e-09, 2.12191669e-04, 1.49048326e-06, 3.75488054e-08,\n",
              "        2.60565567e-06, 1.94065404e-05, 5.90375205e-06, 7.74740501e-10,\n",
              "        1.36700828e-09, 1.30023014e-09, 1.39318828e-07, 1.02100714e-05,\n",
              "        8.93094688e-08, 3.00286483e-08, 2.27680449e-07, 5.17448711e-04,\n",
              "        7.23109030e-10, 6.96737412e-07, 2.52473788e-09, 1.85581838e-08,\n",
              "        8.43038736e-04, 1.96020351e-08, 5.94115865e-10, 7.71059218e-05,\n",
              "        2.49764041e-07, 4.69053744e-08, 6.85076173e-05, 9.13948011e-08,\n",
              "        1.16373714e-07, 2.55234177e-05, 3.32950333e-09, 9.82147701e-07,\n",
              "        6.80312238e-06, 4.14624090e-08, 1.05750461e-08, 6.53270820e-07,\n",
              "        1.59821846e-09, 3.38347008e-05, 1.06544634e-08, 1.64288972e-07,\n",
              "        1.77832686e-06, 3.49074511e-09, 2.97272769e-08, 4.27084081e-07,\n",
              "        3.13624949e-09, 8.72945629e-09, 2.20694896e-08, 7.81005150e-06,\n",
              "        2.61389252e-07, 6.25126758e-07, 3.08000715e-06, 5.62423645e-07,\n",
              "        2.53850940e-06, 1.33132552e-09, 1.62656849e-07, 5.46721901e-09,\n",
              "        7.68856955e-07, 1.46766926e-07, 7.35251773e-06, 1.57129802e-07,\n",
              "        2.20527273e-08, 2.51667776e-07, 7.19854923e-10, 9.51892108e-10,\n",
              "        1.58823182e-07, 5.75998500e-11, 2.78677959e-06, 1.74144708e-01,\n",
              "        1.58195053e-07, 3.99004685e-07, 3.62509035e-06, 3.77449182e-06,\n",
              "        3.32558504e-08, 7.07899641e-09, 1.95438845e-07, 5.57975438e-07,\n",
              "        7.60645661e-11, 2.26335538e-02, 5.92483338e-08, 3.24718071e-02,\n",
              "        1.16304217e-04]])"
            ]
          },
          "metadata": {},
          "execution_count": 27
        }
      ]
    },
    {
      "cell_type": "markdown",
      "source": [
        "funcao para decidir"
      ],
      "metadata": {
        "id": "w8Krl1svpt7P"
      }
    },
    {
      "cell_type": "code",
      "source": [
        "#funcao para realizar a decisao\n",
        "def decision(a):\n",
        "  for i in range(a.shape[1]):\n",
        "    if a[0][i] >= 0.5:\n",
        "      a[0][i] = 1\n",
        "    else:\n",
        "      a[0][i] = 0\n",
        "  return a"
      ],
      "metadata": {
        "id": "0B8P64y-koOm"
      },
      "execution_count": null,
      "outputs": []
    },
    {
      "cell_type": "markdown",
      "source": [
        "## Realizando iterações do Gradiente Descendente\n",
        "\n",
        "texto texto texto"
      ],
      "metadata": {
        "id": "mOPNU8H3sCBD"
      }
    },
    {
      "cell_type": "code",
      "source": [
        "#iterações do gradiente descendente\n",
        "iteracoes = 10000\n",
        "lista_de_acertos , lista_de_iteracoes = [] , []\n",
        "for i in range(iteracoes):\n",
        "  a = forward_propagation(w,b,x_train_reshaped)\n",
        "  dw,db = backward_propagation(a,x_train_reshaped,y_train_reshaped)\n",
        "  w,b = gradient_descent(w,b,dw,db,alpha=0.001)\n",
        "  previsoes = decision(a)\n",
        "  if (i % 500) == 0:\n",
        "    acertos = (previsoes == y_train_reshaped).sum() / previsoes.shape[1]\n",
        "    print('Iteração:',i,'- Acerto:',acertos)\n",
        "    lista_de_iteracoes.append(i)\n",
        "    lista_de_acertos.append(acertos)"
      ],
      "metadata": {
        "colab": {
          "base_uri": "https://localhost:8080/"
        },
        "id": "t5ZfwBv_sAll",
        "outputId": "7a0c8a53-049a-4b17-f438-b46c0f1dbe00"
      },
      "execution_count": null,
      "outputs": [
        {
          "output_type": "stream",
          "name": "stdout",
          "text": [
            "Iteração: 0 / Acerto: 0.6555023923444976\n",
            "Iteração: 500 / Acerto: 0.7799043062200957\n",
            "Iteração: 1000 / Acerto: 0.8660287081339713\n",
            "Iteração: 1500 / Acerto: 0.8947368421052632\n",
            "Iteração: 2000 / Acerto: 0.9138755980861244\n",
            "Iteração: 2500 / Acerto: 0.9234449760765551\n",
            "Iteração: 3000 / Acerto: 0.937799043062201\n",
            "Iteração: 3500 / Acerto: 0.9521531100478469\n",
            "Iteração: 4000 / Acerto: 0.9569377990430622\n",
            "Iteração: 4500 / Acerto: 0.9617224880382775\n",
            "Iteração: 5000 / Acerto: 0.9712918660287081\n",
            "Iteração: 5500 / Acerto: 0.9712918660287081\n",
            "Iteração: 6000 / Acerto: 0.9712918660287081\n",
            "Iteração: 6500 / Acerto: 0.9760765550239234\n",
            "Iteração: 7000 / Acerto: 0.9760765550239234\n",
            "Iteração: 7500 / Acerto: 0.9760765550239234\n",
            "Iteração: 8000 / Acerto: 0.9856459330143541\n",
            "Iteração: 8500 / Acerto: 0.9856459330143541\n",
            "Iteração: 9000 / Acerto: 0.9856459330143541\n",
            "Iteração: 9500 / Acerto: 0.9856459330143541\n"
          ]
        }
      ]
    },
    {
      "cell_type": "code",
      "source": [
        "#criando o ax e o figure no matplotlib\n",
        "fig,ax = plt.subplots(figsize=(8,6))\n",
        "\n",
        "#criando o gráfico\n",
        "ax.plot(lista_de_iteracoes,lista_de_acertos)\n",
        "ax.spines['top'].set_visible(False)\n",
        "ax.spines['right'].set_visible(False)\n",
        "ax.spines['left'].set_color('grey')\n",
        "ax.spines['left'].set_alpha(0.7)\n",
        "ax.spines['bottom'].set_color('grey')\n",
        "ax.spines['bottom'].set_alpha(0.7)\n",
        "ax.grid(linestyle='-.',lw=0.35,aa=True)\n",
        "ax.tick_params(axis='both',colors='grey',length=0,labelsize=12)\n",
        "ax.set_xlabel('Iterações',labelpad=20,fontdict={'fontsize':12},color='#4c4c4c')\n",
        "ax.set_title('Iterações x Fração de Acerto',pad=30,fontdict={'fontsize':20},color='#474747')\n",
        "\n",
        "#plotando o gráfico\n",
        "plt.tight_layout();"
      ],
      "metadata": {
        "colab": {
          "base_uri": "https://localhost:8080/",
          "height": 441
        },
        "id": "4ei0dKj4sA0r",
        "outputId": "60350f1b-a9a4-426c-d240-5477d41c1622"
      },
      "execution_count": null,
      "outputs": [
        {
          "output_type": "display_data",
          "data": {
            "image/png": "[encoded data removed]",
            "text/plain": [
              "<Figure size 576x432 with 1 Axes>"
            ]
          },
          "metadata": {
            "needs_background": "dark"
          }
        }
      ]
    },
    {
      "cell_type": "markdown",
      "source": [
        "# Utilizando para dados não treinados\n",
        "\n",
        "texto texto texto"
      ],
      "metadata": {
        "id": "HWlr02VMuWfz"
      }
    },
    {
      "cell_type": "code",
      "source": [
        "#passando os dados desconhecidos\n",
        "previsoes = decision(forward_propagation(w,b,x_test_reshaped))\n",
        "\n",
        "#comparando as previsoes\n",
        "porcentagem_de_acertos = (previsoes == y_test_reshaped).sum() / previsoes.shape[1]\n",
        "\n",
        "print('Acuracidade da rede neural:',porcentagem_de_acertos)"
      ],
      "metadata": {
        "colab": {
          "base_uri": "https://localhost:8080/"
        },
        "id": "M4RqsZlItDVk",
        "outputId": "6e94006b-e3ac-42cb-9865-da6c73657a5d"
      },
      "execution_count": null,
      "outputs": [
        {
          "output_type": "stream",
          "name": "stdout",
          "text": [
            "Acuracidade da rede neural: 0.7\n"
          ]
        }
      ]
    },
    {
      "cell_type": "markdown",
      "source": [
        "#Criando um modelo completo\n",
        "\n",
        "<center><img src=\"https://miro.medium.com/max/700/1*eWWRkK3zYLKBSr4C-iIvXA@2x.png\" width=\"60%\"></center>\n",
        "\n",
        "texto texto texto"
      ],
      "metadata": {
        "id": "zTFHw4OruChb"
      }
    },
    {
      "cell_type": "code",
      "source": [
        "class NeuralNetwork:\n",
        "  \"\"\" Agrupando todos os conceitos juntos \"\"\"\n",
        "\n",
        "  def __init__(self):\n",
        "    pass\n",
        "\n",
        "  def inicializar_with_zeros(x_train):\n",
        "    w = np.zeros((x_train.shape[0],1))\n",
        "    b= 0.0\n",
        "    return w,b\n",
        "\n",
        "  def sigmoidal_func(z):\n",
        "    return 1.0/(1.0 + np.exp(-z))\n",
        "  \n",
        "  def ForwardPropagation(w,b,x_train):\n",
        "    z = np.dot(w.T,x_train) + b\n",
        "    a = NeuralNetwork.sigmoidal_func(z)\n",
        "    return a\n",
        "\n",
        "  def BackwardPropagation(a,x_train,y_train):\n",
        "    m = x_train.shape[1]\n",
        "    dz = a - y_train\n",
        "    dw = (np.dot(x_train,dz.T)) * (1/m)\n",
        "    db = np.sum(dz) * (1/m)\n",
        "    return dw, db\n",
        "\n",
        "  def GradientDescent(w,b,dw,db,learning_rate=0.05):\n",
        "    w = w - (learning_rate * dw)\n",
        "    b = b - (learning_rate * db)\n",
        "    return w,b\n",
        "  \n",
        "  def decision(a,threshold=0.5):\n",
        "    for i in range(a.shape[1]):\n",
        "      if a[0][i] >= threshold:\n",
        "        a[0][i] = 1\n",
        "      else:\n",
        "        a[0][i] = 0\n",
        "    return a\n",
        "\n",
        "  def print_iterations_accuracy(acertos,iter):\n",
        "     print('Iteração',iter,'- Acurácia:',acertos)\n",
        "  \n",
        "  def calcular_acertos(previsoes,y_train):\n",
        "    acertos = (previsoes == y_train).sum() / previsoes.shape[1]\n",
        "    return acertos\n",
        "\n",
        "  def applying_neural_network(x_train,y_train,threshold=0.5,learning_rate = 0.05,\n",
        "                              iteracoes = 5000,imprimir=True):\n",
        "    lista_de_acertos,lista_de_iteracoes = [],[]\n",
        "    w,b = NeuralNetwork.inicializar_with_zeros(x_train)\n",
        "    for iter in range(iteracoes+1):\n",
        "      a = NeuralNetwork.ForwardPropagation(w,b,x_train)\n",
        "      dw,db = NeuralNetwork.BackwardPropagation(a,x_train,y_train)\n",
        "      w,b = NeuralNetwork.GradientDescent(w,b,dw,db,learning_rate)\n",
        "\n",
        "      if (iter % (iteracoes/10)) == 0:\n",
        "        previsoes = NeuralNetwork.decision(a,threshold)\n",
        "        acertos = NeuralNetwork.calcular_acertos(previsoes,y_train)\n",
        "        lista_de_acertos.append(acertos)\n",
        "        lista_de_iteracoes.append(iter)\n",
        "        if imprimir:\n",
        "          NeuralNetwork.print_iterations_accuracy(acertos,iter)\n",
        "    return lista_de_iteracoes,lista_de_acertos,w,b\n",
        "  \n",
        "  def predict(x_test,w,b):\n",
        "    Forward_predict = NeuralNetwork.ForwardPropagation(w,b,x_test)\n",
        "    return NeuralNetwork.decision(Forward_predict)\n",
        "\n",
        "  def accuracy_test(predicoes,y_test):\n",
        "     return (predicoes == y_test).sum() / predicoes.shape[1]"
      ],
      "metadata": {
        "id": "yhbSQuhYEgwi"
      },
      "execution_count": null,
      "outputs": []
    },
    {
      "cell_type": "markdown",
      "source": [
        "realizando as previsoes com esta funcao criada"
      ],
      "metadata": {
        "id": "--E-RyPpiIMV"
      }
    },
    {
      "cell_type": "code",
      "source": [
        "lista_de_iteracoes, lista_de_acertos,w,b = NeuralNetwork.applying_neural_network(x_train_reshaped,y_train_reshaped,learning_rate=0.001,iteracoes=5000)"
      ],
      "metadata": {
        "colab": {
          "base_uri": "https://localhost:8080/"
        },
        "id": "-gDO0LkGKgiR",
        "outputId": "5552b48b-7e1f-48a5-c6a1-5532ed509a51"
      },
      "execution_count": null,
      "outputs": [
        {
          "output_type": "stream",
          "name": "stdout",
          "text": [
            "Iteração 0 - Acurácia: 0.3444976076555024\n",
            "Iteração 500 - Acurácia: 0.7751196172248804\n",
            "Iteração 1000 - Acurácia: 0.8660287081339713\n",
            "Iteração 1500 - Acurácia: 0.8899521531100478\n",
            "Iteração 2000 - Acurácia: 0.9138755980861244\n",
            "Iteração 2500 - Acurácia: 0.9234449760765551\n",
            "Iteração 3000 - Acurácia: 0.937799043062201\n",
            "Iteração 3500 - Acurácia: 0.9521531100478469\n",
            "Iteração 4000 - Acurácia: 0.9569377990430622\n",
            "Iteração 4500 - Acurácia: 0.9617224880382775\n",
            "Iteração 5000 - Acurácia: 0.9665071770334929\n"
          ]
        }
      ]
    },
    {
      "cell_type": "code",
      "source": [
        "predicoes = NeuralNetwork.predict(x_test_reshaped,w,b)"
      ],
      "metadata": {
        "id": "iCBjTSZJNy4F"
      },
      "execution_count": null,
      "outputs": []
    },
    {
      "cell_type": "code",
      "source": [
        "(predicoes == y_test).sum() / predicoes.shape[1]"
      ],
      "metadata": {
        "colab": {
          "base_uri": "https://localhost:8080/"
        },
        "id": "ZBJ1iRkUOMjs",
        "outputId": "beddd2ec-3246-4e1e-bdd0-ccb6853e6fb6"
      },
      "execution_count": null,
      "outputs": [
        {
          "output_type": "execute_result",
          "data": {
            "text/plain": [
              "0.74"
            ]
          },
          "metadata": {},
          "execution_count": 167
        }
      ]
    },
    {
      "cell_type": "markdown",
      "source": [
        "#Testando com diferentes parâmetros\n",
        "\n",
        "texto texto\n",
        " learning rate"
      ],
      "metadata": {
        "id": "fzaUphjqxcFk"
      }
    },
    {
      "cell_type": "code",
      "source": [
        "#learning rates a serem testados\n",
        "learning_rates = [0.001,0.01,0.1]\n",
        "\n",
        "#listas para guardar os valores das acuracidades e iteracoes\n",
        "acuracidade = []\n",
        "iteracoes = []\n",
        "\n",
        "for learning_rate in learning_rates:\n",
        "   lista_de_iteracoes, lista_de_acertos, _ , _ = NeuralNetwork.applying_neural_network(x_train_reshaped,y_train_reshaped,\n",
        "                                                                                       learning_rate=learning_rate,iteracoes=5000,imprimir=False)\n",
        "   iteracoes.append(lista_de_iteracoes)\n",
        "   acuracidade.append(lista_de_acertos)\n",
        "\n",
        "#criar gráficos\n",
        "fig,ax = plt.subplots(figsize=(8,6))\n",
        "\n",
        "#criando os gráficos\n",
        "ax.plot(iteracoes[0],acuracidade[0],color='grey')\n",
        "ax.plot(iteracoes[1],acuracidade[1],color='dimgrey')\n",
        "ax.plot(iteracoes[2],acuracidade[2],color='blue')\n",
        "\n",
        "#colocando legendas\n",
        "lengendas = ['0.001','0.01','0.1']\n",
        "ax.legend(lengendas,framealpha=0.8)\n",
        "\n",
        "#layout do gráfico\n",
        "ax.spines['top'].set_visible(False)\n",
        "ax.spines['right'].set_visible(False)\n",
        "ax.spines['left'].set_color('grey')\n",
        "ax.spines['left'].set_alpha(0.7)\n",
        "ax.spines['bottom'].set_color('grey')\n",
        "ax.spines['bottom'].set_alpha(0.7)\n",
        "ax.grid(linestyle='-.',lw=0.35,aa=True)\n",
        "ax.tick_params(axis='both',colors='grey',length=0,labelsize=12)\n",
        "ax.set_xlabel('Iterações',labelpad=20,fontdict={'fontsize':12},color='#4c4c4c')\n",
        "ax.set_title('Acurácia de acordo com o Learning rate',pad=30,fontdict={'fontsize':20},color='#474747')\n",
        "\n",
        "#plotando os gráficos\n",
        "plt.tight_layout();"
      ],
      "metadata": {
        "colab": {
          "base_uri": "https://localhost:8080/",
          "height": 441
        },
        "id": "9d7-f0SPOMDI",
        "outputId": "d51d3eb7-268d-418b-a1de-921b7f8ea1cf"
      },
      "execution_count": null,
      "outputs": [
        {
          "output_type": "display_data",
          "data": {
            "image/png": "[encoded data removed]",
            "text/plain": [
              "<Figure size 576x432 with 1 Axes>"
            ]
          },
          "metadata": {
            "needs_background": "dark"
          }
        }
      ]
    },
    {
      "cell_type": "code",
      "source": [
        ""
      ],
      "metadata": {
        "id": "Wj7ScpZNxf-F"
      },
      "execution_count": null,
      "outputs": []
    },
    {
      "cell_type": "code",
      "source": [
        ""
      ],
      "metadata": {
        "id": "VclD3uPk-0_k"
      },
      "execution_count": null,
      "outputs": []
    },
    {
      "cell_type": "code",
      "source": [
        ""
      ],
      "metadata": {
        "id": "H32i4_zx-1Bh"
      },
      "execution_count": null,
      "outputs": []
    },
    {
      "cell_type": "code",
      "source": [
        ""
      ],
      "metadata": {
        "id": "TKmQDmgS0S-f"
      },
      "execution_count": null,
      "outputs": []
    },
    {
      "cell_type": "markdown",
      "source": [
        "#Considerações Finais\n",
        "\n",
        "\n",
        "texto texto texto"
      ],
      "metadata": {
        "id": "4nThXqNrVM1m"
      }
    }
  ]
}